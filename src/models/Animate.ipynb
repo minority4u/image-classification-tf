{
 "cells": [
  {
   "cell_type": "code",
   "execution_count": 20,
   "metadata": {
    "scrolled": true
   },
   "outputs": [
    {
     "name": "stdout",
     "output_type": "stream",
     "text": [
      "__________________________________________________________________________________________________\n",
      "Layer (type)                    Output Shape         Param #     Connected to                     \n",
      "==================================================================================================\n",
      "Input_1 (InputLayer)            (None, 224, 224, 3)  0                                            \n",
      "__________________________________________________________________________________________________\n",
      "Convolution2D_236 (Conv2D)      (None, 112, 112, 32) 896         Input_1[0][0]                    \n",
      "__________________________________________________________________________________________________\n",
      "Convolution2D_235 (Conv2D)      (None, 112, 112, 32) 9248        Convolution2D_236[0][0]          \n",
      "__________________________________________________________________________________________________\n",
      "Convolution2D_237 (Conv2D)      (None, 110, 110, 64) 18496       Convolution2D_235[0][0]          \n",
      "__________________________________________________________________________________________________\n",
      "MaxPooling2D_69 (MaxPooling2D)  (None, 55, 55, 64)   0           Convolution2D_237[0][0]          \n",
      "__________________________________________________________________________________________________\n",
      "Convolution2D_238 (Conv2D)      (None, 53, 53, 80)   46160       MaxPooling2D_69[0][0]            \n",
      "__________________________________________________________________________________________________\n",
      "Convolution2D_239 (Conv2D)      (None, 26, 26, 192)  138432      Convolution2D_238[0][0]          \n",
      "__________________________________________________________________________________________________\n",
      "Convolution2D_1 (Conv2D)        (None, 26, 26, 32)   6176        Convolution2D_239[0][0]          \n",
      "__________________________________________________________________________________________________\n",
      "Convolution2D_4 (Conv2D)        (None, 26, 26, 64)   6208        Convolution2D_1[0][0]            \n",
      "__________________________________________________________________________________________________\n",
      "Convolution2D_2 (Conv2D)        (None, 26, 26, 32)   6176        Convolution2D_239[0][0]          \n",
      "__________________________________________________________________________________________________\n",
      "Convolution2D_6 (Conv2D)        (None, 26, 26, 64)   12352       Convolution2D_4[0][0]            \n",
      "__________________________________________________________________________________________________\n",
      "MaxPooling2D_7 (MaxPooling2D)   (None, 13, 13, 192)  0           Convolution2D_239[0][0]          \n",
      "__________________________________________________________________________________________________\n",
      "Convolution2D_8 (Conv2D)        (None, 13, 26, 64)   6208        Convolution2D_2[0][0]            \n",
      "__________________________________________________________________________________________________\n",
      "Convolution2D_5 (Conv2D)        (None, 13, 26, 64)   12352       Convolution2D_6[0][0]            \n",
      "__________________________________________________________________________________________________\n",
      "Convolution2D_10 (Conv2D)       (None, 13, 13, 64)   12352       MaxPooling2D_7[0][0]             \n",
      "__________________________________________________________________________________________________\n",
      "Convolution2D_9 (Conv2D)        (None, 13, 13, 64)   12352       Convolution2D_8[0][0]            \n",
      "__________________________________________________________________________________________________\n",
      "Convolution2D_7 (Conv2D)        (None, 13, 13, 64)   12352       Convolution2D_5[0][0]            \n",
      "__________________________________________________________________________________________________\n",
      "Convolution2D_3 (Conv2D)        (None, 13, 13, 32)   6176        Convolution2D_239[0][0]          \n",
      "__________________________________________________________________________________________________\n",
      "merge_1 (Concatenate)           (None, 13, 13, 224)  0           Convolution2D_10[0][0]           \n",
      "                                                                 Convolution2D_9[0][0]            \n",
      "                                                                 Convolution2D_7[0][0]            \n",
      "                                                                 Convolution2D_3[0][0]            \n",
      "__________________________________________________________________________________________________\n",
      "Convolution2D_121 (Conv2D)      (None, 13, 13, 128)  28800       merge_1[0][0]                    \n",
      "__________________________________________________________________________________________________\n",
      "Convolution2D_122 (Conv2D)      (None, 13, 13, 128)  49280       Convolution2D_121[0][0]          \n",
      "__________________________________________________________________________________________________\n",
      "Convolution2D_126 (Conv2D)      (None, 13, 13, 128)  28800       merge_1[0][0]                    \n",
      "__________________________________________________________________________________________________\n",
      "Convolution2D_123 (Conv2D)      (None, 13, 13, 128)  49280       Convolution2D_122[0][0]          \n",
      "__________________________________________________________________________________________________\n",
      "Convolution2D_127 (Conv2D)      (None, 7, 13, 128)   49280       Convolution2D_126[0][0]          \n",
      "__________________________________________________________________________________________________\n",
      "MaxPooling2D_15 (MaxPooling2D)  (None, 7, 7, 224)    0           merge_1[0][0]                    \n",
      "__________________________________________________________________________________________________\n",
      "Convolution2D_124 (Conv2D)      (None, 7, 13, 128)   49280       Convolution2D_123[0][0]          \n",
      "__________________________________________________________________________________________________\n",
      "Convolution2D_128 (Conv2D)      (None, 7, 7, 128)    49280       Convolution2D_127[0][0]          \n",
      "__________________________________________________________________________________________________\n",
      "Convolution2D_129 (Conv2D)      (None, 7, 7, 128)    28800       MaxPooling2D_15[0][0]            \n",
      "__________________________________________________________________________________________________\n",
      "Convolution2D_125 (Conv2D)      (None, 7, 7, 128)    49280       Convolution2D_124[0][0]          \n",
      "__________________________________________________________________________________________________\n",
      "Convolution2D_130 (Conv2D)      (None, 7, 7, 128)    28800       merge_1[0][0]                    \n",
      "__________________________________________________________________________________________________\n",
      "merge_10 (Concatenate)          (None, 7, 7, 512)    0           Convolution2D_128[0][0]          \n",
      "                                                                 Convolution2D_129[0][0]          \n",
      "                                                                 Convolution2D_125[0][0]          \n",
      "                                                                 Convolution2D_130[0][0]          \n",
      "__________________________________________________________________________________________________\n",
      "MaxPooling2D_70 (MaxPooling2D)  (None, 1, 1, 512)    0           merge_10[0][0]                   \n",
      "__________________________________________________________________________________________________\n",
      "Flatten_5 (Flatten)             (None, 512)          0           MaxPooling2D_70[0][0]            \n",
      "__________________________________________________________________________________________________\n",
      "Dense_14 (Dense)                (None, 5)            2565        Flatten_5[0][0]                  \n",
      "__________________________________________________________________________________________________\n",
      "Dense_2 (Dense)                 (None, 5)            30          Dense_14[0][0]                   \n",
      "==================================================================================================\n",
      "Total params: 719,411\n",
      "Trainable params: 719,411\n",
      "Non-trainable params: 0\n",
      "__________________________________________________________________________________________________\n",
      "None\n",
      "__________________________________________________________________________________________________\n",
      "Layer (type)                    Output Shape         Param #     Connected to                     \n",
      "==================================================================================================\n",
      "Input_1 (InputLayer)            (None, 224, 224, 3)  0                                            \n",
      "__________________________________________________________________________________________________\n",
      "Convolution2D_236 (Conv2D)      (None, 112, 112, 32) 896         Input_1[0][0]                    \n",
      "__________________________________________________________________________________________________\n",
      "Convolution2D_235 (Conv2D)      (None, 112, 112, 32) 9248        Convolution2D_236[0][0]          \n",
      "__________________________________________________________________________________________________\n",
      "Convolution2D_237 (Conv2D)      (None, 110, 110, 64) 18496       Convolution2D_235[0][0]          \n",
      "__________________________________________________________________________________________________\n",
      "MaxPooling2D_69 (MaxPooling2D)  (None, 55, 55, 64)   0           Convolution2D_237[0][0]          \n",
      "__________________________________________________________________________________________________\n",
      "Convolution2D_238 (Conv2D)      (None, 53, 53, 80)   46160       MaxPooling2D_69[0][0]            \n",
      "__________________________________________________________________________________________________\n",
      "Convolution2D_239 (Conv2D)      (None, 26, 26, 192)  138432      Convolution2D_238[0][0]          \n",
      "__________________________________________________________________________________________________\n",
      "Convolution2D_1 (Conv2D)        (None, 26, 26, 32)   6176        Convolution2D_239[0][0]          \n",
      "__________________________________________________________________________________________________\n",
      "Convolution2D_4 (Conv2D)        (None, 26, 26, 64)   6208        Convolution2D_1[0][0]            \n",
      "__________________________________________________________________________________________________\n",
      "Convolution2D_2 (Conv2D)        (None, 26, 26, 32)   6176        Convolution2D_239[0][0]          \n",
      "__________________________________________________________________________________________________\n",
      "Convolution2D_6 (Conv2D)        (None, 26, 26, 64)   12352       Convolution2D_4[0][0]            \n",
      "__________________________________________________________________________________________________\n",
      "MaxPooling2D_7 (MaxPooling2D)   (None, 13, 13, 192)  0           Convolution2D_239[0][0]          \n",
      "__________________________________________________________________________________________________\n",
      "Convolution2D_8 (Conv2D)        (None, 13, 26, 64)   6208        Convolution2D_2[0][0]            \n",
      "__________________________________________________________________________________________________\n",
      "Convolution2D_5 (Conv2D)        (None, 13, 26, 64)   12352       Convolution2D_6[0][0]            \n",
      "__________________________________________________________________________________________________\n",
      "Convolution2D_10 (Conv2D)       (None, 13, 13, 64)   12352       MaxPooling2D_7[0][0]             \n",
      "__________________________________________________________________________________________________\n",
      "Convolution2D_9 (Conv2D)        (None, 13, 13, 64)   12352       Convolution2D_8[0][0]            \n",
      "__________________________________________________________________________________________________\n",
      "Convolution2D_7 (Conv2D)        (None, 13, 13, 64)   12352       Convolution2D_5[0][0]            \n",
      "__________________________________________________________________________________________________\n",
      "Convolution2D_3 (Conv2D)        (None, 13, 13, 32)   6176        Convolution2D_239[0][0]          \n",
      "__________________________________________________________________________________________________\n",
      "merge_1 (Concatenate)           (None, 13, 13, 224)  0           Convolution2D_10[0][0]           \n",
      "                                                                 Convolution2D_9[0][0]            \n",
      "                                                                 Convolution2D_7[0][0]            \n",
      "                                                                 Convolution2D_3[0][0]            \n",
      "__________________________________________________________________________________________________\n",
      "Convolution2D_121 (Conv2D)      (None, 13, 13, 128)  28800       merge_1[0][0]                    \n",
      "__________________________________________________________________________________________________\n",
      "Convolution2D_122 (Conv2D)      (None, 13, 13, 128)  49280       Convolution2D_121[0][0]          \n",
      "__________________________________________________________________________________________________\n",
      "Convolution2D_126 (Conv2D)      (None, 13, 13, 128)  28800       merge_1[0][0]                    \n",
      "__________________________________________________________________________________________________\n",
      "Convolution2D_123 (Conv2D)      (None, 13, 13, 128)  49280       Convolution2D_122[0][0]          \n",
      "__________________________________________________________________________________________________\n",
      "Convolution2D_127 (Conv2D)      (None, 7, 13, 128)   49280       Convolution2D_126[0][0]          \n",
      "__________________________________________________________________________________________________\n",
      "MaxPooling2D_15 (MaxPooling2D)  (None, 7, 7, 224)    0           merge_1[0][0]                    \n",
      "__________________________________________________________________________________________________\n",
      "Convolution2D_124 (Conv2D)      (None, 7, 13, 128)   49280       Convolution2D_123[0][0]          \n",
      "__________________________________________________________________________________________________\n",
      "Convolution2D_128 (Conv2D)      (None, 7, 7, 128)    49280       Convolution2D_127[0][0]          \n",
      "__________________________________________________________________________________________________\n",
      "Convolution2D_129 (Conv2D)      (None, 7, 7, 128)    28800       MaxPooling2D_15[0][0]            \n",
      "__________________________________________________________________________________________________\n",
      "Convolution2D_125 (Conv2D)      (None, 7, 7, 128)    49280       Convolution2D_124[0][0]          \n",
      "__________________________________________________________________________________________________\n",
      "Convolution2D_130 (Conv2D)      (None, 7, 7, 128)    28800       merge_1[0][0]                    \n",
      "__________________________________________________________________________________________________\n",
      "merge_10 (Concatenate)          (None, 7, 7, 512)    0           Convolution2D_128[0][0]          \n",
      "                                                                 Convolution2D_129[0][0]          \n",
      "                                                                 Convolution2D_125[0][0]          \n",
      "                                                                 Convolution2D_130[0][0]          \n",
      "__________________________________________________________________________________________________\n",
      "MaxPooling2D_70 (MaxPooling2D)  (None, 1, 1, 512)    0           merge_10[0][0]                   \n",
      "__________________________________________________________________________________________________\n",
      "Flatten_5 (Flatten)             (None, 512)          0           MaxPooling2D_70[0][0]            \n",
      "__________________________________________________________________________________________________\n",
      "Dense_14 (Dense)                (None, 5)            2565        Flatten_5[0][0]                  \n",
      "__________________________________________________________________________________________________\n",
      "Dense_2 (Dense)                 (None, 5)            30          Dense_14[0][0]                   \n",
      "==================================================================================================\n",
      "Total params: 719,411\n",
      "Trainable params: 719,411\n",
      "Non-trainable params: 0\n",
      "__________________________________________________________________________________________________\n",
      "None\n"
     ]
    }
   ],
   "source": [
    "from keras.applications import VGG16\n",
    "from src.vis import utils\n",
    "from src.vis.utils import utils\n",
    "from keras import activations\n",
    "from keras.models import model_from_json\n",
    "from src.models.model_manager import get_optimizer\n",
    "from matplotlib import pyplot as plt\n",
    "\n",
    "\n",
    "\n",
    "json_file = open('D:\\Work\\AITeam\\multiclass_keras\\models/model.json','r')\n",
    "loaded_model_json = json_file.read()\n",
    "json_file.close()\n",
    "\n",
    "# convert json to keras model file\n",
    "model = model_from_json(loaded_model_json)\n",
    "#load woeights into new model\n",
    "model.load_weights(\"D:\\Work\\AITeam\\multiclass_keras\\models/model.h5\")\n",
    "model.compile(loss='categorical_crossentropy', optimizer=get_optimizer())\n",
    "print(model.summary())\n",
    "\n",
    "layer_idx = utils.find_layer_idx(model, 'Dense_2')\n",
    "# Swap softmax with linear\n",
    "model.layers[layer_idx].activation = activations.linear\n",
    "model = utils.apply_modifications(model)\n",
    "print(model.summary())"
   ]
  },
  {
   "cell_type": "code",
   "execution_count": 21,
   "metadata": {},
   "outputs": [
    {
     "data": {
      "text/plain": [
       "<matplotlib.image.AxesImage at 0x1c913eca5f8>"
      ]
     },
     "execution_count": 21,
     "metadata": {},
     "output_type": "execute_result"
    },
    {
     "data": {
      "image/png": "[encoded data removed]",
      "text/plain": [
       "<Figure size 1296x432 with 2 Axes>"
      ]
     },
     "metadata": {
      "needs_background": "light"
     },
     "output_type": "display_data"
    }
   ],
   "source": [
    "%matplotlib inline\n",
    "plt.rcParams['figure.figsize'] = (18, 6)\n",
    "img1 = utils.load_img('D:/Work\\AITeam/multiclass_keras/data/processed/transformed/Etechnik_JPG_Plaene/Etechnik_JPG_Plaene6_0.jpg', target_size=(224, 224))\n",
    "img2 = utils.load_img('D:/Work\\AITeam/multiclass_keras/data/processed/transformed/Etechnik_JPG_Plaene/Etechnik_JPG_Plaene6_1.jpg', target_size=(224, 224))\n",
    "f, ax = plt.subplots(1, 2)\n",
    "ax[0].imshow(img1)\n",
    "ax[1].imshow(img2)"
   ]
  },
  {
   "cell_type": "code",
   "execution_count": 29,
   "metadata": {
    "scrolled": false
   },
   "outputs": [
    {
     "name": "stdout",
     "output_type": "stream",
     "text": [
      "Model loaded.\n"
     ]
    },
    {
     "name": "stderr",
     "output_type": "stream",
     "text": [
      "Failed to lookup font 'FreeSans.ttf', falling back to default\n"
     ]
    },
    {
     "name": "stdout",
     "output_type": "stream",
     "text": [
      "Iteration: 1, named_losses: [('ActivationMax Loss', -221.9739),\n",
      " ('L-6.0 Norm Loss', 6.325791e-06),\n",
      " ('TV(2.0) Loss', 0.6454005)], overall loss: -221.32850646972656\n"
     ]
    },
    {
     "name": "stderr",
     "output_type": "stream",
     "text": [
      "Failed to lookup font 'FreeSans.ttf', falling back to default\n"
     ]
    },
    {
     "name": "stdout",
     "output_type": "stream",
     "text": [
      "Iteration: 2, named_losses: [('ActivationMax Loss', -578.2626),\n",
      " ('L-6.0 Norm Loss', 6.3323196e-06),\n",
      " ('TV(2.0) Loss', 0.6653261)], overall loss: -577.5972290039062\n"
     ]
    },
    {
     "name": "stderr",
     "output_type": "stream",
     "text": [
      "Failed to lookup font 'FreeSans.ttf', falling back to default\n"
     ]
    },
    {
     "name": "stdout",
     "output_type": "stream",
     "text": [
      "Iteration: 3, named_losses: [('ActivationMax Loss', -1112.2788),\n",
      " ('L-6.0 Norm Loss', 6.3377333e-06),\n",
      " ('TV(2.0) Loss', 0.6819176)], overall loss: -1111.596923828125\n"
     ]
    },
    {
     "name": "stderr",
     "output_type": "stream",
     "text": [
      "Failed to lookup font 'FreeSans.ttf', falling back to default\n"
     ]
    },
    {
     "name": "stdout",
     "output_type": "stream",
     "text": [
      "Iteration: 4, named_losses: [('ActivationMax Loss', -1673.8691),\n",
      " ('L-6.0 Norm Loss', 6.342416e-06),\n",
      " ('TV(2.0) Loss', 0.6956481)], overall loss: -1673.1734619140625\n"
     ]
    },
    {
     "name": "stderr",
     "output_type": "stream",
     "text": [
      "Failed to lookup font 'FreeSans.ttf', falling back to default\n"
     ]
    },
    {
     "name": "stdout",
     "output_type": "stream",
     "text": [
      "Iteration: 5, named_losses: [('ActivationMax Loss', -2341.5654),\n",
      " ('L-6.0 Norm Loss', 6.346195e-06),\n",
      " ('TV(2.0) Loss', 0.7070189)], overall loss: -2340.8583984375\n"
     ]
    },
    {
     "name": "stderr",
     "output_type": "stream",
     "text": [
      "Failed to lookup font 'FreeSans.ttf', falling back to default\n"
     ]
    },
    {
     "name": "stdout",
     "output_type": "stream",
     "text": [
      "Iteration: 6, named_losses: [('ActivationMax Loss', -3131.6404),\n",
      " ('L-6.0 Norm Loss', 6.3498487e-06),\n",
      " ('TV(2.0) Loss', 0.7176701)], overall loss: -3130.922607421875\n"
     ]
    },
    {
     "name": "stderr",
     "output_type": "stream",
     "text": [
      "Failed to lookup font 'FreeSans.ttf', falling back to default\n"
     ]
    },
    {
     "name": "stdout",
     "output_type": "stream",
     "text": [
      "Iteration: 7, named_losses: [('ActivationMax Loss', -3795.13),\n",
      " ('L-6.0 Norm Loss', 6.3533244e-06),\n",
      " ('TV(2.0) Loss', 0.7280384)], overall loss: -3794.40185546875\n"
     ]
    },
    {
     "name": "stderr",
     "output_type": "stream",
     "text": [
      "Failed to lookup font 'FreeSans.ttf', falling back to default\n"
     ]
    },
    {
     "name": "stdout",
     "output_type": "stream",
     "text": [
      "Iteration: 8, named_losses: [('ActivationMax Loss', -4521.201),\n",
      " ('L-6.0 Norm Loss', 6.3572647e-06),\n",
      " ('TV(2.0) Loss', 0.74007934)], overall loss: -4520.4609375\n"
     ]
    },
    {
     "name": "stderr",
     "output_type": "stream",
     "text": [
      "Failed to lookup font 'FreeSans.ttf', falling back to default\n"
     ]
    },
    {
     "name": "stdout",
     "output_type": "stream",
     "text": [
      "Iteration: 9, named_losses: [('ActivationMax Loss', -5373.043),\n",
      " ('L-6.0 Norm Loss', 6.360982e-06),\n",
      " ('TV(2.0) Loss', 0.7514488)], overall loss: -5372.29150390625\n"
     ]
    },
    {
     "name": "stderr",
     "output_type": "stream",
     "text": [
      "Failed to lookup font 'FreeSans.ttf', falling back to default\n"
     ]
    },
    {
     "name": "stdout",
     "output_type": "stream",
     "text": [
      "Iteration: 10, named_losses: [('ActivationMax Loss', -6289.73),\n",
      " ('L-6.0 Norm Loss', 6.3652615e-06),\n",
      " ('TV(2.0) Loss', 0.76437247)], overall loss: -6288.9658203125\n"
     ]
    },
    {
     "name": "stderr",
     "output_type": "stream",
     "text": [
      "Failed to lookup font 'FreeSans.ttf', falling back to default\n"
     ]
    },
    {
     "name": "stdout",
     "output_type": "stream",
     "text": [
      "Iteration: 11, named_losses: [('ActivationMax Loss', -6883.137),\n",
      " ('L-6.0 Norm Loss', 6.369686e-06),\n",
      " ('TV(2.0) Loss', 0.77767605)], overall loss: -6882.359375\n"
     ]
    },
    {
     "name": "stderr",
     "output_type": "stream",
     "text": [
      "Failed to lookup font 'FreeSans.ttf', falling back to default\n"
     ]
    },
    {
     "name": "stdout",
     "output_type": "stream",
     "text": [
      "Iteration: 12, named_losses: [('ActivationMax Loss', -7475.783),\n",
      " ('L-6.0 Norm Loss', 6.3744137e-06),\n",
      " ('TV(2.0) Loss', 0.7919435)], overall loss: -7474.9912109375\n"
     ]
    },
    {
     "name": "stderr",
     "output_type": "stream",
     "text": [
      "Failed to lookup font 'FreeSans.ttf', falling back to default\n"
     ]
    },
    {
     "name": "stdout",
     "output_type": "stream",
     "text": [
      "Iteration: 13, named_losses: [('ActivationMax Loss', -7988.431),\n",
      " ('L-6.0 Norm Loss', 6.37831e-06),\n",
      " ('TV(2.0) Loss', 0.8036764)], overall loss: -7987.62744140625\n"
     ]
    },
    {
     "name": "stderr",
     "output_type": "stream",
     "text": [
      "Failed to lookup font 'FreeSans.ttf', falling back to default\n"
     ]
    },
    {
     "name": "stdout",
     "output_type": "stream",
     "text": [
      "Iteration: 14, named_losses: [('ActivationMax Loss', -8383.743),\n",
      " ('L-6.0 Norm Loss', 6.382468e-06),\n",
      " ('TV(2.0) Loss', 0.81608933)], overall loss: -8382.9267578125\n"
     ]
    },
    {
     "name": "stderr",
     "output_type": "stream",
     "text": [
      "Failed to lookup font 'FreeSans.ttf', falling back to default\n"
     ]
    },
    {
     "name": "stdout",
     "output_type": "stream",
     "text": [
      "Iteration: 15, named_losses: [('ActivationMax Loss', -9067.637),\n",
      " ('L-6.0 Norm Loss', 6.3866787e-06),\n",
      " ('TV(2.0) Loss', 0.82846075)], overall loss: -9066.80859375\n"
     ]
    },
    {
     "name": "stderr",
     "output_type": "stream",
     "text": [
      "Failed to lookup font 'FreeSans.ttf', falling back to default\n"
     ]
    },
    {
     "name": "stdout",
     "output_type": "stream",
     "text": [
      "Iteration: 16, named_losses: [('ActivationMax Loss', -9584.242),\n",
      " ('L-6.0 Norm Loss', 6.3916627e-06),\n",
      " ('TV(2.0) Loss', 0.8435634)], overall loss: -9583.3984375\n"
     ]
    },
    {
     "name": "stderr",
     "output_type": "stream",
     "text": [
      "Failed to lookup font 'FreeSans.ttf', falling back to default\n"
     ]
    },
    {
     "name": "stdout",
     "output_type": "stream",
     "text": [
      "Iteration: 17, named_losses: [('ActivationMax Loss', -10199.211),\n",
      " ('L-6.0 Norm Loss', 6.396597e-06),\n",
      " ('TV(2.0) Loss', 0.8583264)], overall loss: -10198.3525390625\n"
     ]
    },
    {
     "name": "stderr",
     "output_type": "stream",
     "text": [
      "Failed to lookup font 'FreeSans.ttf', falling back to default\n"
     ]
    },
    {
     "name": "stdout",
     "output_type": "stream",
     "text": [
      "Iteration: 18, named_losses: [('ActivationMax Loss', -10819.719),\n",
      " ('L-6.0 Norm Loss', 6.4020314e-06),\n",
      " ('TV(2.0) Loss', 0.87452286)], overall loss: -10818.84375\n"
     ]
    },
    {
     "name": "stderr",
     "output_type": "stream",
     "text": [
      "Failed to lookup font 'FreeSans.ttf', falling back to default\n"
     ]
    },
    {
     "name": "stdout",
     "output_type": "stream",
     "text": [
      "Iteration: 19, named_losses: [('ActivationMax Loss', -11606.52),\n",
      " ('L-6.0 Norm Loss', 6.4068395e-06),\n",
      " ('TV(2.0) Loss', 0.8887823)], overall loss: -11605.630859375\n"
     ]
    },
    {
     "name": "stderr",
     "output_type": "stream",
     "text": [
      "Failed to lookup font 'FreeSans.ttf', falling back to default\n"
     ]
    },
    {
     "name": "stdout",
     "output_type": "stream",
     "text": [
      "Iteration: 20, named_losses: [('ActivationMax Loss', -11987.723),\n",
      " ('L-6.0 Norm Loss', 6.41223e-06),\n",
      " ('TV(2.0) Loss', 0.90483016)], overall loss: -11986.8173828125\n"
     ]
    },
    {
     "name": "stderr",
     "output_type": "stream",
     "text": [
      "Failed to lookup font 'FreeSans.ttf', falling back to default\n"
     ]
    },
    {
     "name": "stdout",
     "output_type": "stream",
     "text": [
      "Iteration: 21, named_losses: [('ActivationMax Loss', -12624.322),\n",
      " ('L-6.0 Norm Loss', 6.4173155e-06),\n",
      " ('TV(2.0) Loss', 0.9197446)], overall loss: -12623.40234375\n"
     ]
    },
    {
     "name": "stderr",
     "output_type": "stream",
     "text": [
      "Failed to lookup font 'FreeSans.ttf', falling back to default\n"
     ]
    },
    {
     "name": "stdout",
     "output_type": "stream",
     "text": [
      "Iteration: 22, named_losses: [('ActivationMax Loss', -13238.775),\n",
      " ('L-6.0 Norm Loss', 6.422423e-06),\n",
      " ('TV(2.0) Loss', 0.9349639)], overall loss: -13237.8408203125\n"
     ]
    },
    {
     "name": "stderr",
     "output_type": "stream",
     "text": [
      "Failed to lookup font 'FreeSans.ttf', falling back to default\n"
     ]
    },
    {
     "name": "stdout",
     "output_type": "stream",
     "text": [
      "Iteration: 23, named_losses: [('ActivationMax Loss', -13839.891),\n",
      " ('L-6.0 Norm Loss', 6.4282294e-06),\n",
      " ('TV(2.0) Loss', 0.952177)], overall loss: -13838.9384765625\n"
     ]
    },
    {
     "name": "stderr",
     "output_type": "stream",
     "text": [
      "Failed to lookup font 'FreeSans.ttf', falling back to default\n"
     ]
    },
    {
     "name": "stdout",
     "output_type": "stream",
     "text": [
      "Iteration: 24, named_losses: [('ActivationMax Loss', -14327.932),\n",
      " ('L-6.0 Norm Loss', 6.4333562e-06),\n",
      " ('TV(2.0) Loss', 0.9672832)], overall loss: -14326.96484375\n"
     ]
    },
    {
     "name": "stderr",
     "output_type": "stream",
     "text": [
      "Failed to lookup font 'FreeSans.ttf', falling back to default\n"
     ]
    },
    {
     "name": "stdout",
     "output_type": "stream",
     "text": [
      "Iteration: 25, named_losses: [('ActivationMax Loss', -15107.305),\n",
      " ('L-6.0 Norm Loss', 6.438571e-06),\n",
      " ('TV(2.0) Loss', 0.9824997)], overall loss: -15106.322265625\n"
     ]
    },
    {
     "name": "stderr",
     "output_type": "stream",
     "text": [
      "Failed to lookup font 'FreeSans.ttf', falling back to default\n"
     ]
    },
    {
     "name": "stdout",
     "output_type": "stream",
     "text": [
      "Iteration: 26, named_losses: [('ActivationMax Loss', -15811.051),\n",
      " ('L-6.0 Norm Loss', 6.4438564e-06),\n",
      " ('TV(2.0) Loss', 0.99819773)], overall loss: -15810.052734375\n"
     ]
    },
    {
     "name": "stderr",
     "output_type": "stream",
     "text": [
      "Failed to lookup font 'FreeSans.ttf', falling back to default\n"
     ]
    },
    {
     "name": "stdout",
     "output_type": "stream",
     "text": [
      "Iteration: 27, named_losses: [('ActivationMax Loss', -16332.371),\n",
      " ('L-6.0 Norm Loss', 6.448977e-06),\n",
      " ('TV(2.0) Loss', 1.0137643)], overall loss: -16331.357421875\n"
     ]
    },
    {
     "name": "stderr",
     "output_type": "stream",
     "text": [
      "Failed to lookup font 'FreeSans.ttf', falling back to default\n"
     ]
    },
    {
     "name": "stdout",
     "output_type": "stream",
     "text": [
      "Iteration: 28, named_losses: [('ActivationMax Loss', -16939.68),\n",
      " ('L-6.0 Norm Loss', 6.453457e-06),\n",
      " ('TV(2.0) Loss', 1.0270115)], overall loss: -16938.65234375\n"
     ]
    },
    {
     "name": "stderr",
     "output_type": "stream",
     "text": [
      "Failed to lookup font 'FreeSans.ttf', falling back to default\n"
     ]
    },
    {
     "name": "stdout",
     "output_type": "stream",
     "text": [
      "Iteration: 29, named_losses: [('ActivationMax Loss', -17554.42),\n",
      " ('L-6.0 Norm Loss', 6.458572e-06),\n",
      " ('TV(2.0) Loss', 1.0420874)], overall loss: -17553.376953125\n"
     ]
    },
    {
     "name": "stderr",
     "output_type": "stream",
     "text": [
      "Failed to lookup font 'FreeSans.ttf', falling back to default\n"
     ]
    },
    {
     "name": "stdout",
     "output_type": "stream",
     "text": [
      "Iteration: 30, named_losses: [('ActivationMax Loss', -18132.748),\n",
      " ('L-6.0 Norm Loss', 6.4636247e-06),\n",
      " ('TV(2.0) Loss', 1.057138)], overall loss: -18131.69140625\n"
     ]
    },
    {
     "name": "stderr",
     "output_type": "stream",
     "text": [
      "Failed to lookup font 'FreeSans.ttf', falling back to default\n"
     ]
    },
    {
     "name": "stdout",
     "output_type": "stream",
     "text": [
      "Iteration: 31, named_losses: [('ActivationMax Loss', -18649.574),\n",
      " ('L-6.0 Norm Loss', 6.469465e-06),\n",
      " ('TV(2.0) Loss', 1.074504)], overall loss: -18648.5\n"
     ]
    },
    {
     "name": "stderr",
     "output_type": "stream",
     "text": [
      "Failed to lookup font 'FreeSans.ttf', falling back to default\n"
     ]
    },
    {
     "name": "stdout",
     "output_type": "stream",
     "text": [
      "Iteration: 32, named_losses: [('ActivationMax Loss', -19295.25),\n",
      " ('L-6.0 Norm Loss', 6.474631e-06),\n",
      " ('TV(2.0) Loss', 1.0898676)], overall loss: -19294.16015625\n"
     ]
    },
    {
     "name": "stderr",
     "output_type": "stream",
     "text": [
      "Failed to lookup font 'FreeSans.ttf', falling back to default\n"
     ]
    },
    {
     "name": "stdout",
     "output_type": "stream",
     "text": [
      "Iteration: 33, named_losses: [('ActivationMax Loss', -19850.676),\n",
      " ('L-6.0 Norm Loss', 6.4807305e-06),\n",
      " ('TV(2.0) Loss', 1.1078898)], overall loss: -19849.568359375\n"
     ]
    },
    {
     "name": "stderr",
     "output_type": "stream",
     "text": [
      "Failed to lookup font 'FreeSans.ttf', falling back to default\n"
     ]
    },
    {
     "name": "stdout",
     "output_type": "stream",
     "text": [
      "Iteration: 34, named_losses: [('ActivationMax Loss', -20373.094),\n",
      " ('L-6.0 Norm Loss', 6.4868595e-06),\n",
      " ('TV(2.0) Loss', 1.1262375)], overall loss: -20371.966796875\n"
     ]
    },
    {
     "name": "stderr",
     "output_type": "stream",
     "text": [
      "Failed to lookup font 'FreeSans.ttf', falling back to default\n"
     ]
    },
    {
     "name": "stdout",
     "output_type": "stream",
     "text": [
      "Iteration: 35, named_losses: [('ActivationMax Loss', -20872.97),\n",
      " ('L-6.0 Norm Loss', 6.4934106e-06),\n",
      " ('TV(2.0) Loss', 1.1461508)], overall loss: -20871.82421875\n"
     ]
    },
    {
     "name": "stderr",
     "output_type": "stream",
     "text": [
      "Failed to lookup font 'FreeSans.ttf', falling back to default\n"
     ]
    },
    {
     "name": "stdout",
     "output_type": "stream",
     "text": [
      "Iteration: 36, named_losses: [('ActivationMax Loss', -21349.95),\n",
      " ('L-6.0 Norm Loss', 6.49967e-06),\n",
      " ('TV(2.0) Loss', 1.1647831)], overall loss: -21348.78515625\n"
     ]
    },
    {
     "name": "stderr",
     "output_type": "stream",
     "text": [
      "Failed to lookup font 'FreeSans.ttf', falling back to default\n"
     ]
    },
    {
     "name": "stdout",
     "output_type": "stream",
     "text": [
      "Iteration: 37, named_losses: [('ActivationMax Loss', -21890.664),\n",
      " ('L-6.0 Norm Loss', 6.505796e-06),\n",
      " ('TV(2.0) Loss', 1.1833066)], overall loss: -21889.48046875\n"
     ]
    },
    {
     "name": "stderr",
     "output_type": "stream",
     "text": [
      "Failed to lookup font 'FreeSans.ttf', falling back to default\n",
      "Failed to lookup font 'FreeSans.ttf', falling back to default\n"
     ]
    },
    {
     "name": "stdout",
     "output_type": "stream",
     "text": [
      "Iteration: 38, named_losses: [('ActivationMax Loss', -22399.371),\n",
      " ('L-6.0 Norm Loss', 6.5128334e-06),\n",
      " ('TV(2.0) Loss', 1.2046134)], overall loss: -22398.166015625\n"
     ]
    },
    {
     "name": "stderr",
     "output_type": "stream",
     "text": [
      "Failed to lookup font 'FreeSans.ttf', falling back to default\n"
     ]
    },
    {
     "name": "stdout",
     "output_type": "stream",
     "text": [
      "Iteration: 39, named_losses: [('ActivationMax Loss', -22830.648),\n",
      " ('L-6.0 Norm Loss', 6.5195104e-06),\n",
      " ('TV(2.0) Loss', 1.2245109)], overall loss: -22829.423828125\n"
     ]
    },
    {
     "name": "stderr",
     "output_type": "stream",
     "text": [
      "Failed to lookup font 'FreeSans.ttf', falling back to default\n"
     ]
    },
    {
     "name": "stdout",
     "output_type": "stream",
     "text": [
      "Iteration: 40, named_losses: [('ActivationMax Loss', -23440.457),\n",
      " ('L-6.0 Norm Loss', 6.526203e-06),\n",
      " ('TV(2.0) Loss', 1.2449449)], overall loss: -23439.212890625\n"
     ]
    },
    {
     "name": "stderr",
     "output_type": "stream",
     "text": [
      "Failed to lookup font 'FreeSans.ttf', falling back to default\n"
     ]
    },
    {
     "name": "stdout",
     "output_type": "stream",
     "text": [
      "Iteration: 41, named_losses: [('ActivationMax Loss', -23908.22),\n",
      " ('L-6.0 Norm Loss', 6.533397e-06),\n",
      " ('TV(2.0) Loss', 1.2665583)], overall loss: -23906.955078125\n"
     ]
    },
    {
     "name": "stderr",
     "output_type": "stream",
     "text": [
      "Failed to lookup font 'FreeSans.ttf', falling back to default\n"
     ]
    },
    {
     "name": "stdout",
     "output_type": "stream",
     "text": [
      "Iteration: 42, named_losses: [('ActivationMax Loss', -24418.408),\n",
      " ('L-6.0 Norm Loss', 6.5402637e-06),\n",
      " ('TV(2.0) Loss', 1.2870648)], overall loss: -24417.12109375\n",
      "Iteration: 43, named_losses: [('ActivationMax Loss', -24789.594),\n",
      " ('L-6.0 Norm Loss', 6.5478303e-06),\n",
      " ('TV(2.0) Loss', 1.3100153)], overall loss: -24788.283203125\n"
     ]
    },
    {
     "name": "stderr",
     "output_type": "stream",
     "text": [
      "Failed to lookup font 'FreeSans.ttf', falling back to default\n",
      "Failed to lookup font 'FreeSans.ttf', falling back to default\n"
     ]
    },
    {
     "name": "stdout",
     "output_type": "stream",
     "text": [
      "Iteration: 44, named_losses: [('ActivationMax Loss', -25341.951),\n",
      " ('L-6.0 Norm Loss', 6.554497e-06),\n",
      " ('TV(2.0) Loss', 1.3304634)], overall loss: -25340.62109375\n"
     ]
    },
    {
     "name": "stderr",
     "output_type": "stream",
     "text": [
      "Failed to lookup font 'FreeSans.ttf', falling back to default\n"
     ]
    },
    {
     "name": "stdout",
     "output_type": "stream",
     "text": [
      "Iteration: 45, named_losses: [('ActivationMax Loss', -25724.062),\n",
      " ('L-6.0 Norm Loss', 6.5620643e-06),\n",
      " ('TV(2.0) Loss', 1.3534224)], overall loss: -25722.708984375\n"
     ]
    },
    {
     "name": "stderr",
     "output_type": "stream",
     "text": [
      "Failed to lookup font 'FreeSans.ttf', falling back to default\n"
     ]
    },
    {
     "name": "stdout",
     "output_type": "stream",
     "text": [
      "Iteration: 46, named_losses: [('ActivationMax Loss', -26272.352),\n",
      " ('L-6.0 Norm Loss', 6.569259e-06),\n",
      " ('TV(2.0) Loss', 1.3750983)], overall loss: -26270.9765625\n"
     ]
    },
    {
     "name": "stderr",
     "output_type": "stream",
     "text": [
      "Failed to lookup font 'FreeSans.ttf', falling back to default\n"
     ]
    },
    {
     "name": "stdout",
     "output_type": "stream",
     "text": [
      "Iteration: 47, named_losses: [('ActivationMax Loss', -26696.416),\n",
      " ('L-6.0 Norm Loss', 6.5763797e-06),\n",
      " ('TV(2.0) Loss', 1.3969027)], overall loss: -26695.01953125\n",
      "Iteration: 48, named_losses: [('ActivationMax Loss', -27283.305),\n",
      " ('L-6.0 Norm Loss', 6.583816e-06),\n",
      " ('TV(2.0) Loss', 1.41951)], overall loss: -27281.884765625\n"
     ]
    },
    {
     "name": "stderr",
     "output_type": "stream",
     "text": [
      "Failed to lookup font 'FreeSans.ttf', falling back to default\n"
     ]
    },
    {
     "name": "stdout",
     "output_type": "stream",
     "text": [
      "Iteration: 49, named_losses: [('ActivationMax Loss', -27676.086),\n",
      " ('L-6.0 Norm Loss', 6.5917407e-06),\n",
      " ('TV(2.0) Loss', 1.4441913)], overall loss: -27674.642578125\n"
     ]
    },
    {
     "name": "stderr",
     "output_type": "stream",
     "text": [
      "Failed to lookup font 'FreeSans.ttf', falling back to default\n"
     ]
    },
    {
     "name": "stdout",
     "output_type": "stream",
     "text": [
      "Iteration: 50, named_losses: [('ActivationMax Loss', -28182.234),\n",
      " ('L-6.0 Norm Loss', 6.5989866e-06),\n",
      " ('TV(2.0) Loss', 1.4663117)], overall loss: -28180.767578125\n"
     ]
    },
    {
     "name": "stderr",
     "output_type": "stream",
     "text": [
      "Failed to lookup font 'FreeSans.ttf', falling back to default\n"
     ]
    },
    {
     "name": "stdout",
     "output_type": "stream",
     "text": [
      "Iteration: 51, named_losses: [('ActivationMax Loss', -28666.746),\n",
      " ('L-6.0 Norm Loss', 6.606783e-06),\n",
      " ('TV(2.0) Loss', 1.4906994)], overall loss: -28665.255859375\n"
     ]
    },
    {
     "name": "stderr",
     "output_type": "stream",
     "text": [
      "Failed to lookup font 'FreeSans.ttf', falling back to default\n"
     ]
    },
    {
     "name": "stdout",
     "output_type": "stream",
     "text": [
      "Iteration: 52, named_losses: [('ActivationMax Loss', -29090.695),\n",
      " ('L-6.0 Norm Loss', 6.6138628e-06),\n",
      " ('TV(2.0) Loss', 1.5124452)], overall loss: -29089.18359375\n"
     ]
    },
    {
     "name": "stderr",
     "output_type": "stream",
     "text": [
      "Failed to lookup font 'FreeSans.ttf', falling back to default\n"
     ]
    },
    {
     "name": "stdout",
     "output_type": "stream",
     "text": [
      "Iteration: 53, named_losses: [('ActivationMax Loss', -29490.52),\n",
      " ('L-6.0 Norm Loss', 6.6216744e-06),\n",
      " ('TV(2.0) Loss', 1.536739)], overall loss: -29488.982421875\n"
     ]
    },
    {
     "name": "stderr",
     "output_type": "stream",
     "text": [
      "Failed to lookup font 'FreeSans.ttf', falling back to default\n"
     ]
    },
    {
     "name": "stdout",
     "output_type": "stream",
     "text": [
      "Iteration: 54, named_losses: [('ActivationMax Loss', -29996.031),\n",
      " ('L-6.0 Norm Loss', 6.629675e-06),\n",
      " ('TV(2.0) Loss', 1.5613228)], overall loss: -29994.470703125\n"
     ]
    },
    {
     "name": "stderr",
     "output_type": "stream",
     "text": [
      "Failed to lookup font 'FreeSans.ttf', falling back to default\n"
     ]
    },
    {
     "name": "stdout",
     "output_type": "stream",
     "text": [
      "Iteration: 55, named_losses: [('ActivationMax Loss', -30483.396),\n",
      " ('L-6.0 Norm Loss', 6.638139e-06),\n",
      " ('TV(2.0) Loss', 1.5876745)], overall loss: -30481.80859375\n"
     ]
    },
    {
     "name": "stderr",
     "output_type": "stream",
     "text": [
      "Failed to lookup font 'FreeSans.ttf', falling back to default\n"
     ]
    },
    {
     "name": "stdout",
     "output_type": "stream",
     "text": [
      "Iteration: 56, named_losses: [('ActivationMax Loss', -31009.172),\n",
      " ('L-6.0 Norm Loss', 6.6468874e-06),\n",
      " ('TV(2.0) Loss', 1.615162)], overall loss: -31007.556640625\n"
     ]
    },
    {
     "name": "stderr",
     "output_type": "stream",
     "text": [
      "Failed to lookup font 'FreeSans.ttf', falling back to default\n"
     ]
    },
    {
     "name": "stdout",
     "output_type": "stream",
     "text": [
      "Iteration: 57, named_losses: [('ActivationMax Loss', -31387.176),\n",
      " ('L-6.0 Norm Loss', 6.6556336e-06),\n",
      " ('TV(2.0) Loss', 1.6426814)], overall loss: -31385.533203125\n"
     ]
    },
    {
     "name": "stderr",
     "output_type": "stream",
     "text": [
      "Failed to lookup font 'FreeSans.ttf', falling back to default\n"
     ]
    },
    {
     "name": "stdout",
     "output_type": "stream",
     "text": [
      "Iteration: 58, named_losses: [('ActivationMax Loss', -31787.648),\n",
      " ('L-6.0 Norm Loss', 6.663512e-06),\n",
      " ('TV(2.0) Loss', 1.6671966)], overall loss: -31785.98046875\n"
     ]
    },
    {
     "name": "stderr",
     "output_type": "stream",
     "text": [
      "Failed to lookup font 'FreeSans.ttf', falling back to default\n"
     ]
    },
    {
     "name": "stdout",
     "output_type": "stream",
     "text": [
      "Iteration: 59, named_losses: [('ActivationMax Loss', -32156.375),\n",
      " ('L-6.0 Norm Loss', 6.6722364e-06),\n",
      " ('TV(2.0) Loss', 1.6945211)], overall loss: -32154.6796875\n"
     ]
    },
    {
     "name": "stderr",
     "output_type": "stream",
     "text": [
      "Failed to lookup font 'FreeSans.ttf', falling back to default\n"
     ]
    },
    {
     "name": "stdout",
     "output_type": "stream",
     "text": [
      "Iteration: 60, named_losses: [('ActivationMax Loss', -32763.176),\n",
      " ('L-6.0 Norm Loss', 6.680804e-06),\n",
      " ('TV(2.0) Loss', 1.7219113)], overall loss: -32761.453125\n"
     ]
    },
    {
     "name": "stderr",
     "output_type": "stream",
     "text": [
      "Failed to lookup font 'FreeSans.ttf', falling back to default\n"
     ]
    },
    {
     "name": "stdout",
     "output_type": "stream",
     "text": [
      "Iteration: 61, named_losses: [('ActivationMax Loss', -33245.938),\n",
      " ('L-6.0 Norm Loss', 6.6903017e-06),\n",
      " ('TV(2.0) Loss', 1.7515624)], overall loss: -33244.1875\n"
     ]
    },
    {
     "name": "stderr",
     "output_type": "stream",
     "text": [
      "Failed to lookup font 'FreeSans.ttf', falling back to default\n"
     ]
    },
    {
     "name": "stdout",
     "output_type": "stream",
     "text": [
      "Iteration: 62, named_losses: [('ActivationMax Loss', -33649.09),\n",
      " ('L-6.0 Norm Loss', 6.6991324e-06),\n",
      " ('TV(2.0) Loss', 1.7799764)], overall loss: -33647.30859375\n"
     ]
    },
    {
     "name": "stderr",
     "output_type": "stream",
     "text": [
      "Failed to lookup font 'FreeSans.ttf', falling back to default\n"
     ]
    },
    {
     "name": "stdout",
     "output_type": "stream",
     "text": [
      "Iteration: 63, named_losses: [('ActivationMax Loss', -34178.324),\n",
      " ('L-6.0 Norm Loss', 6.7084998e-06),\n",
      " ('TV(2.0) Loss', 1.8092408)], overall loss: -34176.515625\n"
     ]
    },
    {
     "name": "stderr",
     "output_type": "stream",
     "text": [
      "Failed to lookup font 'FreeSans.ttf', falling back to default\n"
     ]
    },
    {
     "name": "stdout",
     "output_type": "stream",
     "text": [
      "Iteration: 64, named_losses: [('ActivationMax Loss', -34630.85),\n",
      " ('L-6.0 Norm Loss', 6.71838e-06),\n",
      " ('TV(2.0) Loss', 1.8406777)], overall loss: -34629.01171875\n"
     ]
    },
    {
     "name": "stderr",
     "output_type": "stream",
     "text": [
      "Failed to lookup font 'FreeSans.ttf', falling back to default\n"
     ]
    },
    {
     "name": "stdout",
     "output_type": "stream",
     "text": [
      "Iteration: 65, named_losses: [('ActivationMax Loss', -35154.027),\n",
      " ('L-6.0 Norm Loss', 6.7274464e-06),\n",
      " ('TV(2.0) Loss', 1.8694675)], overall loss: -35152.15625\n"
     ]
    },
    {
     "name": "stderr",
     "output_type": "stream",
     "text": [
      "Failed to lookup font 'FreeSans.ttf', falling back to default\n"
     ]
    },
    {
     "name": "stdout",
     "output_type": "stream",
     "text": [
      "Iteration: 66, named_losses: [('ActivationMax Loss', -35618.43),\n",
      " ('L-6.0 Norm Loss', 6.737185e-06),\n",
      " ('TV(2.0) Loss', 1.900378)], overall loss: -35616.53125\n"
     ]
    },
    {
     "name": "stderr",
     "output_type": "stream",
     "text": [
      "Failed to lookup font 'FreeSans.ttf', falling back to default\n"
     ]
    },
    {
     "name": "stdout",
     "output_type": "stream",
     "text": [
      "Iteration: 67, named_losses: [('ActivationMax Loss', -36025.902),\n",
      " ('L-6.0 Norm Loss', 6.747186e-06),\n",
      " ('TV(2.0) Loss', 1.9332262)], overall loss: -36023.96875\n"
     ]
    },
    {
     "name": "stderr",
     "output_type": "stream",
     "text": [
      "Failed to lookup font 'FreeSans.ttf', falling back to default\n"
     ]
    },
    {
     "name": "stdout",
     "output_type": "stream",
     "text": [
      "Iteration: 68, named_losses: [('ActivationMax Loss', -36451.113),\n",
      " ('L-6.0 Norm Loss', 6.7565757e-06),\n",
      " ('TV(2.0) Loss', 1.9625916)], overall loss: -36449.15234375\n"
     ]
    },
    {
     "name": "stderr",
     "output_type": "stream",
     "text": [
      "Failed to lookup font 'FreeSans.ttf', falling back to default\n"
     ]
    },
    {
     "name": "stdout",
     "output_type": "stream",
     "text": [
      "Iteration: 69, named_losses: [('ActivationMax Loss', -36931.95),\n",
      " ('L-6.0 Norm Loss', 6.7664346e-06),\n",
      " ('TV(2.0) Loss', 1.9943229)], overall loss: -36929.953125\n"
     ]
    },
    {
     "name": "stderr",
     "output_type": "stream",
     "text": [
      "Failed to lookup font 'FreeSans.ttf', falling back to default\n"
     ]
    },
    {
     "name": "stdout",
     "output_type": "stream",
     "text": [
      "Iteration: 70, named_losses: [('ActivationMax Loss', -37265.14),\n",
      " ('L-6.0 Norm Loss', 6.776837e-06),\n",
      " ('TV(2.0) Loss', 2.028123)], overall loss: -37263.11328125\n"
     ]
    },
    {
     "name": "stderr",
     "output_type": "stream",
     "text": [
      "Failed to lookup font 'FreeSans.ttf', falling back to default\n"
     ]
    },
    {
     "name": "stdout",
     "output_type": "stream",
     "text": [
      "Iteration: 71, named_losses: [('ActivationMax Loss', -37759.746),\n",
      " ('L-6.0 Norm Loss', 6.7868523e-06),\n",
      " ('TV(2.0) Loss', 2.060343)], overall loss: -37757.6875\n"
     ]
    },
    {
     "name": "stderr",
     "output_type": "stream",
     "text": [
      "Failed to lookup font 'FreeSans.ttf', falling back to default\n"
     ]
    },
    {
     "name": "stdout",
     "output_type": "stream",
     "text": [
      "Iteration: 72, named_losses: [('ActivationMax Loss', -38226.324),\n",
      " ('L-6.0 Norm Loss', 6.796999e-06),\n",
      " ('TV(2.0) Loss', 2.0936658)], overall loss: -38224.23046875\n"
     ]
    },
    {
     "name": "stderr",
     "output_type": "stream",
     "text": [
      "Failed to lookup font 'FreeSans.ttf', falling back to default\n"
     ]
    },
    {
     "name": "stdout",
     "output_type": "stream",
     "text": [
      "Iteration: 73, named_losses: [('ActivationMax Loss', -38707.94),\n",
      " ('L-6.0 Norm Loss', 6.8068302e-06),\n",
      " ('TV(2.0) Loss', 2.1256313)], overall loss: -38705.81640625\n"
     ]
    },
    {
     "name": "stderr",
     "output_type": "stream",
     "text": [
      "Failed to lookup font 'FreeSans.ttf', falling back to default\n"
     ]
    },
    {
     "name": "stdout",
     "output_type": "stream",
     "text": [
      "Iteration: 74, named_losses: [('ActivationMax Loss', -39190.48),\n",
      " ('L-6.0 Norm Loss', 6.817112e-06),\n",
      " ('TV(2.0) Loss', 2.1588292)], overall loss: -39188.3203125\n"
     ]
    },
    {
     "name": "stderr",
     "output_type": "stream",
     "text": [
      "Failed to lookup font 'FreeSans.ttf', falling back to default\n"
     ]
    },
    {
     "name": "stdout",
     "output_type": "stream",
     "text": [
      "Iteration: 75, named_losses: [('ActivationMax Loss', -39796.723),\n",
      " ('L-6.0 Norm Loss', 6.827671e-06),\n",
      " ('TV(2.0) Loss', 2.193264)], overall loss: -39794.53125\n"
     ]
    },
    {
     "name": "stderr",
     "output_type": "stream",
     "text": [
      "Failed to lookup font 'FreeSans.ttf', falling back to default\n"
     ]
    },
    {
     "name": "stdout",
     "output_type": "stream",
     "text": [
      "Iteration: 76, named_losses: [('ActivationMax Loss', -40276.395),\n",
      " ('L-6.0 Norm Loss', 6.8386203e-06),\n",
      " ('TV(2.0) Loss', 2.2289853)], overall loss: -40274.1640625\n"
     ]
    },
    {
     "name": "stderr",
     "output_type": "stream",
     "text": [
      "Failed to lookup font 'FreeSans.ttf', falling back to default\n"
     ]
    },
    {
     "name": "stdout",
     "output_type": "stream",
     "text": [
      "Iteration: 77, named_losses: [('ActivationMax Loss', -40659.582),\n",
      " ('L-6.0 Norm Loss', 6.8494114e-06),\n",
      " ('TV(2.0) Loss', 2.2641833)], overall loss: -40657.31640625\n"
     ]
    },
    {
     "name": "stderr",
     "output_type": "stream",
     "text": [
      "Failed to lookup font 'FreeSans.ttf', falling back to default\n"
     ]
    },
    {
     "name": "stdout",
     "output_type": "stream",
     "text": [
      "Iteration: 78, named_losses: [('ActivationMax Loss', -41009.355),\n",
      " ('L-6.0 Norm Loss', 6.85979e-06),\n",
      " ('TV(2.0) Loss', 2.2983494)], overall loss: -41007.05859375\n"
     ]
    },
    {
     "name": "stderr",
     "output_type": "stream",
     "text": [
      "Failed to lookup font 'FreeSans.ttf', falling back to default\n"
     ]
    },
    {
     "name": "stdout",
     "output_type": "stream",
     "text": [
      "Iteration: 79, named_losses: [('ActivationMax Loss', -41441.402),\n",
      " ('L-6.0 Norm Loss', 6.8693525e-06),\n",
      " ('TV(2.0) Loss', 2.329602)], overall loss: -41439.07421875\n"
     ]
    },
    {
     "name": "stderr",
     "output_type": "stream",
     "text": [
      "Failed to lookup font 'FreeSans.ttf', falling back to default\n"
     ]
    },
    {
     "name": "stdout",
     "output_type": "stream",
     "text": [
      "Iteration: 80, named_losses: [('ActivationMax Loss', -42017.652),\n",
      " ('L-6.0 Norm Loss', 6.880543e-06),\n",
      " ('TV(2.0) Loss', 2.3668008)], overall loss: -42015.28515625\n"
     ]
    },
    {
     "name": "stderr",
     "output_type": "stream",
     "text": [
      "Failed to lookup font 'FreeSans.ttf', falling back to default\n"
     ]
    },
    {
     "name": "stdout",
     "output_type": "stream",
     "text": [
      "Iteration: 81, named_losses: [('ActivationMax Loss', -42434.254),\n",
      " ('L-6.0 Norm Loss', 6.891339e-06),\n",
      " ('TV(2.0) Loss', 2.4018073)], overall loss: -42431.8515625\n"
     ]
    },
    {
     "name": "stderr",
     "output_type": "stream",
     "text": [
      "Failed to lookup font 'FreeSans.ttf', falling back to default\n"
     ]
    },
    {
     "name": "stdout",
     "output_type": "stream",
     "text": [
      "Iteration: 82, named_losses: [('ActivationMax Loss', -42939.17),\n",
      " ('L-6.0 Norm Loss', 6.90196e-06),\n",
      " ('TV(2.0) Loss', 2.4376335)], overall loss: -42936.734375\n"
     ]
    },
    {
     "name": "stderr",
     "output_type": "stream",
     "text": [
      "Failed to lookup font 'FreeSans.ttf', falling back to default\n"
     ]
    },
    {
     "name": "stdout",
     "output_type": "stream",
     "text": [
      "Iteration: 83, named_losses: [('ActivationMax Loss', -43404.113),\n",
      " ('L-6.0 Norm Loss', 6.91327e-06),\n",
      " ('TV(2.0) Loss', 2.47456)], overall loss: -43401.640625\n"
     ]
    },
    {
     "name": "stderr",
     "output_type": "stream",
     "text": [
      "Failed to lookup font 'FreeSans.ttf', falling back to default\n"
     ]
    },
    {
     "name": "stdout",
     "output_type": "stream",
     "text": [
      "Iteration: 84, named_losses: [('ActivationMax Loss', -43822.605),\n",
      " ('L-6.0 Norm Loss', 6.9252465e-06),\n",
      " ('TV(2.0) Loss', 2.514127)], overall loss: -43820.08984375\n"
     ]
    },
    {
     "name": "stderr",
     "output_type": "stream",
     "text": [
      "Failed to lookup font 'FreeSans.ttf', falling back to default\n"
     ]
    },
    {
     "name": "stdout",
     "output_type": "stream",
     "text": [
      "Iteration: 85, named_losses: [('ActivationMax Loss', -44284.324),\n",
      " ('L-6.0 Norm Loss', 6.936996e-06),\n",
      " ('TV(2.0) Loss', 2.5534506)], overall loss: -44281.76953125\n"
     ]
    },
    {
     "name": "stderr",
     "output_type": "stream",
     "text": [
      "Failed to lookup font 'FreeSans.ttf', falling back to default\n"
     ]
    },
    {
     "name": "stdout",
     "output_type": "stream",
     "text": [
      "Iteration: 86, named_losses: [('ActivationMax Loss', -44669.926),\n",
      " ('L-6.0 Norm Loss', 6.9480493e-06),\n",
      " ('TV(2.0) Loss', 2.5900414)], overall loss: -44667.3359375\n"
     ]
    },
    {
     "name": "stderr",
     "output_type": "stream",
     "text": [
      "Failed to lookup font 'FreeSans.ttf', falling back to default\n"
     ]
    },
    {
     "name": "stdout",
     "output_type": "stream",
     "text": [
      "Iteration: 87, named_losses: [('ActivationMax Loss', -45165.496),\n",
      " ('L-6.0 Norm Loss', 6.9590224e-06),\n",
      " ('TV(2.0) Loss', 2.6276035)], overall loss: -45162.8671875\n"
     ]
    },
    {
     "name": "stderr",
     "output_type": "stream",
     "text": [
      "Failed to lookup font 'FreeSans.ttf', falling back to default\n"
     ]
    },
    {
     "name": "stdout",
     "output_type": "stream",
     "text": [
      "Iteration: 88, named_losses: [('ActivationMax Loss', -45480.41),\n",
      " ('L-6.0 Norm Loss', 6.9703715e-06),\n",
      " ('TV(2.0) Loss', 2.665438)], overall loss: -45477.74609375\n"
     ]
    },
    {
     "name": "stderr",
     "output_type": "stream",
     "text": [
      "Failed to lookup font 'FreeSans.ttf', falling back to default\n"
     ]
    },
    {
     "name": "stdout",
     "output_type": "stream",
     "text": [
      "Iteration: 89, named_losses: [('ActivationMax Loss', -46092.24),\n",
      " ('L-6.0 Norm Loss', 6.9811044e-06),\n",
      " ('TV(2.0) Loss', 2.7019317)], overall loss: -46089.53515625\n"
     ]
    },
    {
     "name": "stderr",
     "output_type": "stream",
     "text": [
      "Failed to lookup font 'FreeSans.ttf', falling back to default\n"
     ]
    },
    {
     "name": "stdout",
     "output_type": "stream",
     "text": [
      "Iteration: 90, named_losses: [('ActivationMax Loss', -46567.758),\n",
      " ('L-6.0 Norm Loss', 6.9926864e-06),\n",
      " ('TV(2.0) Loss', 2.7403388)], overall loss: -46565.015625\n"
     ]
    },
    {
     "name": "stderr",
     "output_type": "stream",
     "text": [
      "Failed to lookup font 'FreeSans.ttf', falling back to default\n"
     ]
    },
    {
     "name": "stdout",
     "output_type": "stream",
     "text": [
      "Iteration: 91, named_losses: [('ActivationMax Loss', -46995.91),\n",
      " ('L-6.0 Norm Loss', 7.0051296e-06),\n",
      " ('TV(2.0) Loss', 2.7829618)], overall loss: -46993.12890625\n"
     ]
    },
    {
     "name": "stderr",
     "output_type": "stream",
     "text": [
      "Failed to lookup font 'FreeSans.ttf', falling back to default\n"
     ]
    },
    {
     "name": "stdout",
     "output_type": "stream",
     "text": [
      "Iteration: 92, named_losses: [('ActivationMax Loss', -47613.87),\n",
      " ('L-6.0 Norm Loss', 7.017715e-06),\n",
      " ('TV(2.0) Loss', 2.82573)], overall loss: -47611.046875\n"
     ]
    },
    {
     "name": "stderr",
     "output_type": "stream",
     "text": [
      "Failed to lookup font 'FreeSans.ttf', falling back to default\n"
     ]
    },
    {
     "name": "stdout",
     "output_type": "stream",
     "text": [
      "Iteration: 93, named_losses: [('ActivationMax Loss', -47897.965),\n",
      " ('L-6.0 Norm Loss', 7.0303126e-06),\n",
      " ('TV(2.0) Loss', 2.868205)], overall loss: -47895.09765625\n"
     ]
    },
    {
     "name": "stderr",
     "output_type": "stream",
     "text": [
      "Failed to lookup font 'FreeSans.ttf', falling back to default\n",
      "Failed to lookup font 'FreeSans.ttf', falling back to default\n"
     ]
    },
    {
     "name": "stdout",
     "output_type": "stream",
     "text": [
      "Iteration: 94, named_losses: [('ActivationMax Loss', -48439.523),\n",
      " ('L-6.0 Norm Loss', 7.042459e-06),\n",
      " ('TV(2.0) Loss', 2.9107575)], overall loss: -48436.61328125\n"
     ]
    },
    {
     "name": "stderr",
     "output_type": "stream",
     "text": [
      "Failed to lookup font 'FreeSans.ttf', falling back to default\n"
     ]
    },
    {
     "name": "stdout",
     "output_type": "stream",
     "text": [
      "Iteration: 95, named_losses: [('ActivationMax Loss', -48773.27),\n",
      " ('L-6.0 Norm Loss', 7.0548035e-06),\n",
      " ('TV(2.0) Loss', 2.9532535)], overall loss: -48770.31640625\n"
     ]
    },
    {
     "name": "stderr",
     "output_type": "stream",
     "text": [
      "Failed to lookup font 'FreeSans.ttf', falling back to default\n"
     ]
    },
    {
     "name": "stdout",
     "output_type": "stream",
     "text": [
      "Iteration: 96, named_losses: [('ActivationMax Loss', -49382.74),\n",
      " ('L-6.0 Norm Loss', 7.066861e-06),\n",
      " ('TV(2.0) Loss', 2.9942305)], overall loss: -49379.7421875\n"
     ]
    },
    {
     "name": "stderr",
     "output_type": "stream",
     "text": [
      "Failed to lookup font 'FreeSans.ttf', falling back to default\n"
     ]
    },
    {
     "name": "stdout",
     "output_type": "stream",
     "text": [
      "Iteration: 97, named_losses: [('ActivationMax Loss', -49837.508),\n",
      " ('L-6.0 Norm Loss', 7.079496e-06),\n",
      " ('TV(2.0) Loss', 3.038259)], overall loss: -49834.46875\n"
     ]
    },
    {
     "name": "stderr",
     "output_type": "stream",
     "text": [
      "Failed to lookup font 'FreeSans.ttf', falling back to default\n"
     ]
    },
    {
     "name": "stdout",
     "output_type": "stream",
     "text": [
      "Iteration: 98, named_losses: [('ActivationMax Loss', -50277.0),\n",
      " ('L-6.0 Norm Loss', 7.091531e-06),\n",
      " ('TV(2.0) Loss', 3.0799582)], overall loss: -50273.921875\n"
     ]
    },
    {
     "name": "stderr",
     "output_type": "stream",
     "text": [
      "Failed to lookup font 'FreeSans.ttf', falling back to default\n"
     ]
    },
    {
     "name": "stdout",
     "output_type": "stream",
     "text": [
      "Iteration: 99, named_losses: [('ActivationMax Loss', -50709.17),\n",
      " ('L-6.0 Norm Loss', 7.104631e-06),\n",
      " ('TV(2.0) Loss', 3.124841)], overall loss: -50706.046875\n"
     ]
    },
    {
     "name": "stderr",
     "output_type": "stream",
     "text": [
      "Failed to lookup font 'FreeSans.ttf', falling back to default\n"
     ]
    },
    {
     "name": "stdout",
     "output_type": "stream",
     "text": [
      "Iteration: 100, named_losses: [('ActivationMax Loss', -51354.566),\n",
      " ('L-6.0 Norm Loss', 7.1173995e-06),\n",
      " ('TV(2.0) Loss', 3.169649)], overall loss: -51351.3984375\n"
     ]
    },
    {
     "name": "stderr",
     "output_type": "stream",
     "text": [
      "Failed to lookup font 'FreeSans.ttf', falling back to default\n"
     ]
    },
    {
     "name": "stdout",
     "output_type": "stream",
     "text": [
      "Iteration: 101, named_losses: [('ActivationMax Loss', -51626.844),\n",
      " ('L-6.0 Norm Loss', 7.1311524e-06),\n",
      " ('TV(2.0) Loss', 3.2184622)], overall loss: -51623.625\n",
      "Iteration: 102, named_losses: [('ActivationMax Loss', -52179.832),\n",
      " ('L-6.0 Norm Loss', 7.143462e-06),\n",
      " ('TV(2.0) Loss', 3.2618096)], overall loss: -52176.5703125\n"
     ]
    },
    {
     "name": "stderr",
     "output_type": "stream",
     "text": [
      "Failed to lookup font 'FreeSans.ttf', falling back to default\n"
     ]
    },
    {
     "name": "stdout",
     "output_type": "stream",
     "text": [
      "Iteration: 103, named_losses: [('ActivationMax Loss', -52519.754),\n",
      " ('L-6.0 Norm Loss', 7.156634e-06),\n",
      " ('TV(2.0) Loss', 3.308745)], overall loss: -52516.4453125\n"
     ]
    },
    {
     "name": "stderr",
     "output_type": "stream",
     "text": [
      "Failed to lookup font 'FreeSans.ttf', falling back to default\n"
     ]
    },
    {
     "name": "stdout",
     "output_type": "stream",
     "text": [
      "Iteration: 104, named_losses: [('ActivationMax Loss', -53060.453),\n",
      " ('L-6.0 Norm Loss', 7.1695185e-06),\n",
      " ('TV(2.0) Loss', 3.3536646)], overall loss: -53057.09765625\n"
     ]
    },
    {
     "name": "stderr",
     "output_type": "stream",
     "text": [
      "Failed to lookup font 'FreeSans.ttf', falling back to default\n"
     ]
    },
    {
     "name": "stdout",
     "output_type": "stream",
     "text": [
      "Iteration: 105, named_losses: [('ActivationMax Loss', -53570.137),\n",
      " ('L-6.0 Norm Loss', 7.182548e-06),\n",
      " ('TV(2.0) Loss', 3.4002566)], overall loss: -53566.73828125\n"
     ]
    },
    {
     "name": "stderr",
     "output_type": "stream",
     "text": [
      "Failed to lookup font 'FreeSans.ttf', falling back to default\n"
     ]
    },
    {
     "name": "stdout",
     "output_type": "stream",
     "text": [
      "Iteration: 106, named_losses: [('ActivationMax Loss', -53999.84),\n",
      " ('L-6.0 Norm Loss', 7.1956397e-06),\n",
      " ('TV(2.0) Loss', 3.4459631)], overall loss: -53996.39453125\n"
     ]
    },
    {
     "name": "stderr",
     "output_type": "stream",
     "text": [
      "Failed to lookup font 'FreeSans.ttf', falling back to default\n"
     ]
    },
    {
     "name": "stdout",
     "output_type": "stream",
     "text": [
      "Iteration: 107, named_losses: [('ActivationMax Loss', -54535.754),\n",
      " ('L-6.0 Norm Loss', 7.2101225e-06),\n",
      " ('TV(2.0) Loss', 3.49835)], overall loss: -54532.25390625\n"
     ]
    },
    {
     "name": "stderr",
     "output_type": "stream",
     "text": [
      "Failed to lookup font 'FreeSans.ttf', falling back to default\n"
     ]
    },
    {
     "name": "stdout",
     "output_type": "stream",
     "text": [
      "Iteration: 108, named_losses: [('ActivationMax Loss', -54991.14),\n",
      " ('L-6.0 Norm Loss', 7.2234798e-06),\n",
      " ('TV(2.0) Loss', 3.546856)], overall loss: -54987.59375\n"
     ]
    },
    {
     "name": "stderr",
     "output_type": "stream",
     "text": [
      "Failed to lookup font 'FreeSans.ttf', falling back to default\n"
     ]
    },
    {
     "name": "stdout",
     "output_type": "stream",
     "text": [
      "Iteration: 109, named_losses: [('ActivationMax Loss', -55391.09),\n",
      " ('L-6.0 Norm Loss', 7.238259e-06),\n",
      " ('TV(2.0) Loss', 3.6005588)], overall loss: -55387.48828125\n"
     ]
    },
    {
     "name": "stderr",
     "output_type": "stream",
     "text": [
      "Failed to lookup font 'FreeSans.ttf', falling back to default\n"
     ]
    },
    {
     "name": "stdout",
     "output_type": "stream",
     "text": [
      "Iteration: 110, named_losses: [('ActivationMax Loss', -55833.12),\n",
      " ('L-6.0 Norm Loss', 7.2519433e-06),\n",
      " ('TV(2.0) Loss', 3.649883)], overall loss: -55829.47265625\n"
     ]
    },
    {
     "name": "stderr",
     "output_type": "stream",
     "text": [
      "Failed to lookup font 'FreeSans.ttf', falling back to default\n"
     ]
    },
    {
     "name": "stdout",
     "output_type": "stream",
     "text": [
      "Iteration: 111, named_losses: [('ActivationMax Loss', -56358.387),\n",
      " ('L-6.0 Norm Loss', 7.2656844e-06),\n",
      " ('TV(2.0) Loss', 3.6986604)], overall loss: -56354.6875\n"
     ]
    },
    {
     "name": "stderr",
     "output_type": "stream",
     "text": [
      "Failed to lookup font 'FreeSans.ttf', falling back to default\n"
     ]
    },
    {
     "name": "stdout",
     "output_type": "stream",
     "text": [
      "Iteration: 112, named_losses: [('ActivationMax Loss', -56845.723),\n",
      " ('L-6.0 Norm Loss', 7.280189e-06),\n",
      " ('TV(2.0) Loss', 3.7516062)], overall loss: -56841.97265625\n"
     ]
    },
    {
     "name": "stderr",
     "output_type": "stream",
     "text": [
      "Failed to lookup font 'FreeSans.ttf', falling back to default\n"
     ]
    },
    {
     "name": "stdout",
     "output_type": "stream",
     "text": [
      "Iteration: 113, named_losses: [('ActivationMax Loss', -57318.23),\n",
      " ('L-6.0 Norm Loss', 7.294503e-06),\n",
      " ('TV(2.0) Loss', 3.803182)], overall loss: -57314.42578125\n"
     ]
    },
    {
     "name": "stderr",
     "output_type": "stream",
     "text": [
      "Failed to lookup font 'FreeSans.ttf', falling back to default\n"
     ]
    },
    {
     "name": "stdout",
     "output_type": "stream",
     "text": [
      "Iteration: 114, named_losses: [('ActivationMax Loss', -57699.234),\n",
      " ('L-6.0 Norm Loss', 7.3088668e-06),\n",
      " ('TV(2.0) Loss', 3.856522)], overall loss: -57695.37890625\n"
     ]
    },
    {
     "name": "stderr",
     "output_type": "stream",
     "text": [
      "Failed to lookup font 'FreeSans.ttf', falling back to default\n"
     ]
    },
    {
     "name": "stdout",
     "output_type": "stream",
     "text": [
      "Iteration: 115, named_losses: [('ActivationMax Loss', -58204.496),\n",
      " ('L-6.0 Norm Loss', 7.3227866e-06),\n",
      " ('TV(2.0) Loss', 3.9071853)], overall loss: -58200.58984375\n"
     ]
    },
    {
     "name": "stderr",
     "output_type": "stream",
     "text": [
      "Failed to lookup font 'FreeSans.ttf', falling back to default\n"
     ]
    },
    {
     "name": "stdout",
     "output_type": "stream",
     "text": [
      "Iteration: 116, named_losses: [('ActivationMax Loss', -58596.543),\n",
      " ('L-6.0 Norm Loss', 7.3379165e-06),\n",
      " ('TV(2.0) Loss', 3.9636633)], overall loss: -58592.578125\n"
     ]
    },
    {
     "name": "stderr",
     "output_type": "stream",
     "text": [
      "Failed to lookup font 'FreeSans.ttf', falling back to default\n"
     ]
    },
    {
     "name": "stdout",
     "output_type": "stream",
     "text": [
      "Iteration: 117, named_losses: [('ActivationMax Loss', -59152.855),\n",
      " ('L-6.0 Norm Loss', 7.35156e-06),\n",
      " ('TV(2.0) Loss', 4.014285)], overall loss: -59148.83984375\n"
     ]
    },
    {
     "name": "stderr",
     "output_type": "stream",
     "text": [
      "Failed to lookup font 'FreeSans.ttf', falling back to default\n"
     ]
    },
    {
     "name": "stdout",
     "output_type": "stream",
     "text": [
      "Iteration: 118, named_losses: [('ActivationMax Loss', -59524.97),\n",
      " ('L-6.0 Norm Loss', 7.367474e-06),\n",
      " ('TV(2.0) Loss', 4.072305)], overall loss: -59520.89453125\n"
     ]
    },
    {
     "name": "stderr",
     "output_type": "stream",
     "text": [
      "Failed to lookup font 'FreeSans.ttf', falling back to default\n"
     ]
    },
    {
     "name": "stdout",
     "output_type": "stream",
     "text": [
      "Iteration: 119, named_losses: [('ActivationMax Loss', -60025.777),\n",
      " ('L-6.0 Norm Loss', 7.3815268e-06),\n",
      " ('TV(2.0) Loss', 4.125756)], overall loss: -60021.65234375\n"
     ]
    },
    {
     "name": "stderr",
     "output_type": "stream",
     "text": [
      "Failed to lookup font 'FreeSans.ttf', falling back to default\n"
     ]
    },
    {
     "name": "stdout",
     "output_type": "stream",
     "text": [
      "Iteration: 120, named_losses: [('ActivationMax Loss', -60250.285),\n",
      " ('L-6.0 Norm Loss', 7.3963934e-06),\n",
      " ('TV(2.0) Loss', 4.181479)], overall loss: -60246.10546875\n"
     ]
    },
    {
     "name": "stderr",
     "output_type": "stream",
     "text": [
      "Failed to lookup font 'FreeSans.ttf', falling back to default\n"
     ]
    },
    {
     "name": "stdout",
     "output_type": "stream",
     "text": [
      "Iteration: 121, named_losses: [('ActivationMax Loss', -60923.684),\n",
      " ('L-6.0 Norm Loss', 7.4106392e-06),\n",
      " ('TV(2.0) Loss', 4.236103)], overall loss: -60919.44921875\n"
     ]
    },
    {
     "name": "stderr",
     "output_type": "stream",
     "text": [
      "Failed to lookup font 'FreeSans.ttf', falling back to default\n"
     ]
    },
    {
     "name": "stdout",
     "output_type": "stream",
     "text": [
      "Iteration: 122, named_losses: [('ActivationMax Loss', -61372.605),\n",
      " ('L-6.0 Norm Loss', 7.4259374e-06),\n",
      " ('TV(2.0) Loss', 4.2926354)], overall loss: -61368.3125\n"
     ]
    },
    {
     "name": "stderr",
     "output_type": "stream",
     "text": [
      "Failed to lookup font 'FreeSans.ttf', falling back to default\n"
     ]
    },
    {
     "name": "stdout",
     "output_type": "stream",
     "text": [
      "Iteration: 123, named_losses: [('ActivationMax Loss', -61700.83),\n",
      " ('L-6.0 Norm Loss', 7.4415466e-06),\n",
      " ('TV(2.0) Loss', 4.3514175)], overall loss: -61696.4765625\n"
     ]
    },
    {
     "name": "stderr",
     "output_type": "stream",
     "text": [
      "Failed to lookup font 'FreeSans.ttf', falling back to default\n"
     ]
    },
    {
     "name": "stdout",
     "output_type": "stream",
     "text": [
      "Iteration: 124, named_losses: [('ActivationMax Loss', -62291.074),\n",
      " ('L-6.0 Norm Loss', 7.4563814e-06),\n",
      " ('TV(2.0) Loss', 4.4075003)], overall loss: -62286.66796875\n"
     ]
    },
    {
     "name": "stderr",
     "output_type": "stream",
     "text": [
      "Failed to lookup font 'FreeSans.ttf', falling back to default\n"
     ]
    },
    {
     "name": "stdout",
     "output_type": "stream",
     "text": [
      "Iteration: 125, named_losses: [('ActivationMax Loss', -62711.65),\n",
      " ('L-6.0 Norm Loss', 7.4711947e-06),\n",
      " ('TV(2.0) Loss', 4.464497)], overall loss: -62707.18359375\n"
     ]
    },
    {
     "name": "stderr",
     "output_type": "stream",
     "text": [
      "Failed to lookup font 'FreeSans.ttf', falling back to default\n"
     ]
    },
    {
     "name": "stdout",
     "output_type": "stream",
     "text": [
      "Iteration: 126, named_losses: [('ActivationMax Loss', -63188.234),\n",
      " ('L-6.0 Norm Loss', 7.487363e-06),\n",
      " ('TV(2.0) Loss', 4.5262847)], overall loss: -63183.70703125\n"
     ]
    },
    {
     "name": "stderr",
     "output_type": "stream",
     "text": [
      "Failed to lookup font 'FreeSans.ttf', falling back to default\n"
     ]
    },
    {
     "name": "stdout",
     "output_type": "stream",
     "text": [
      "Iteration: 127, named_losses: [('ActivationMax Loss', -63567.562),\n",
      " ('L-6.0 Norm Loss', 7.502501e-06),\n",
      " ('TV(2.0) Loss', 4.583125)], overall loss: -63562.98046875\n"
     ]
    },
    {
     "name": "stderr",
     "output_type": "stream",
     "text": [
      "Failed to lookup font 'FreeSans.ttf', falling back to default\n"
     ]
    },
    {
     "name": "stdout",
     "output_type": "stream",
     "text": [
      "Iteration: 128, named_losses: [('ActivationMax Loss', -64096.27),\n",
      " ('L-6.0 Norm Loss', 7.5186363e-06),\n",
      " ('TV(2.0) Loss', 4.6464114)], overall loss: -64091.625\n"
     ]
    },
    {
     "name": "stderr",
     "output_type": "stream",
     "text": [
      "Failed to lookup font 'FreeSans.ttf', falling back to default\n"
     ]
    },
    {
     "name": "stdout",
     "output_type": "stream",
     "text": [
      "Iteration: 129, named_losses: [('ActivationMax Loss', -64538.54),\n",
      " ('L-6.0 Norm Loss', 7.534106e-06),\n",
      " ('TV(2.0) Loss', 4.7052774)], overall loss: -64533.83203125\n"
     ]
    },
    {
     "name": "stderr",
     "output_type": "stream",
     "text": [
      "Failed to lookup font 'FreeSans.ttf', falling back to default\n"
     ]
    },
    {
     "name": "stdout",
     "output_type": "stream",
     "text": [
      "Iteration: 130, named_losses: [('ActivationMax Loss', -64909.23),\n",
      " ('L-6.0 Norm Loss', 7.54945e-06),\n",
      " ('TV(2.0) Loss', 4.7651267)], overall loss: -64904.46484375\n"
     ]
    },
    {
     "name": "stderr",
     "output_type": "stream",
     "text": [
      "Failed to lookup font 'FreeSans.ttf', falling back to default\n"
     ]
    },
    {
     "name": "stdout",
     "output_type": "stream",
     "text": [
      "Iteration: 131, named_losses: [('ActivationMax Loss', -65379.28),\n",
      " ('L-6.0 Norm Loss', 7.5646526e-06),\n",
      " ('TV(2.0) Loss', 4.823881)], overall loss: -65374.45703125\n"
     ]
    },
    {
     "name": "stderr",
     "output_type": "stream",
     "text": [
      "Failed to lookup font 'FreeSans.ttf', falling back to default\n"
     ]
    },
    {
     "name": "stdout",
     "output_type": "stream",
     "text": [
      "Iteration: 132, named_losses: [('ActivationMax Loss', -65907.73),\n",
      " ('L-6.0 Norm Loss', 7.5811045e-06),\n",
      " ('TV(2.0) Loss', 4.8877892)], overall loss: -65902.8359375\n"
     ]
    },
    {
     "name": "stderr",
     "output_type": "stream",
     "text": [
      "Failed to lookup font 'FreeSans.ttf', falling back to default\n"
     ]
    },
    {
     "name": "stdout",
     "output_type": "stream",
     "text": [
      "Iteration: 133, named_losses: [('ActivationMax Loss', -66300.51),\n",
      " ('L-6.0 Norm Loss', 7.597534e-06),\n",
      " ('TV(2.0) Loss', 4.952188)], overall loss: -66295.5546875\n"
     ]
    },
    {
     "name": "stderr",
     "output_type": "stream",
     "text": [
      "Failed to lookup font 'FreeSans.ttf', falling back to default\n"
     ]
    },
    {
     "name": "stdout",
     "output_type": "stream",
     "text": [
      "Iteration: 134, named_losses: [('ActivationMax Loss', -66802.24),\n",
      " ('L-6.0 Norm Loss', 7.6132023e-06),\n",
      " ('TV(2.0) Loss', 5.0135026)], overall loss: -66797.2265625\n"
     ]
    },
    {
     "name": "stderr",
     "output_type": "stream",
     "text": [
      "Failed to lookup font 'FreeSans.ttf', falling back to default\n"
     ]
    },
    {
     "name": "stdout",
     "output_type": "stream",
     "text": [
      "Iteration: 135, named_losses: [('ActivationMax Loss', -67094.805),\n",
      " ('L-6.0 Norm Loss', 7.629236e-06),\n",
      " ('TV(2.0) Loss', 5.0761714)], overall loss: -67089.7265625\n"
     ]
    },
    {
     "name": "stderr",
     "output_type": "stream",
     "text": [
      "Failed to lookup font 'FreeSans.ttf', falling back to default\n"
     ]
    },
    {
     "name": "stdout",
     "output_type": "stream",
     "text": [
      "Iteration: 136, named_losses: [('ActivationMax Loss', -67536.055),\n",
      " ('L-6.0 Norm Loss', 7.64512e-06),\n",
      " ('TV(2.0) Loss', 5.1392546)], overall loss: -67530.9140625\n"
     ]
    },
    {
     "name": "stderr",
     "output_type": "stream",
     "text": [
      "Failed to lookup font 'FreeSans.ttf', falling back to default\n"
     ]
    },
    {
     "name": "stdout",
     "output_type": "stream",
     "text": [
      "Iteration: 137, named_losses: [('ActivationMax Loss', -68247.61),\n",
      " ('L-6.0 Norm Loss', 7.661172e-06),\n",
      " ('TV(2.0) Loss', 5.202496)], overall loss: -68242.40625\n"
     ]
    },
    {
     "name": "stderr",
     "output_type": "stream",
     "text": [
      "Failed to lookup font 'FreeSans.ttf', falling back to default\n"
     ]
    },
    {
     "name": "stdout",
     "output_type": "stream",
     "text": [
      "Iteration: 138, named_losses: [('ActivationMax Loss', -68514.26),\n",
      " ('L-6.0 Norm Loss', 7.678593e-06),\n",
      " ('TV(2.0) Loss', 5.2725215)], overall loss: -68508.984375\n"
     ]
    },
    {
     "name": "stderr",
     "output_type": "stream",
     "text": [
      "Failed to lookup font 'FreeSans.ttf', falling back to default\n"
     ]
    },
    {
     "name": "stdout",
     "output_type": "stream",
     "text": [
      "Iteration: 139, named_losses: [('ActivationMax Loss', -69082.99),\n",
      " ('L-6.0 Norm Loss', 7.6950955e-06),\n",
      " ('TV(2.0) Loss', 5.3380313)], overall loss: -69077.65625\n"
     ]
    },
    {
     "name": "stderr",
     "output_type": "stream",
     "text": [
      "Failed to lookup font 'FreeSans.ttf', falling back to default\n"
     ]
    },
    {
     "name": "stdout",
     "output_type": "stream",
     "text": [
      "Iteration: 140, named_losses: [('ActivationMax Loss', -69511.04),\n",
      " ('L-6.0 Norm Loss', 7.711132e-06),\n",
      " ('TV(2.0) Loss', 5.4028306)], overall loss: -69505.6328125\n"
     ]
    },
    {
     "name": "stderr",
     "output_type": "stream",
     "text": [
      "Failed to lookup font 'FreeSans.ttf', falling back to default\n"
     ]
    },
    {
     "name": "stdout",
     "output_type": "stream",
     "text": [
      "Iteration: 141, named_losses: [('ActivationMax Loss', -69858.86),\n",
      " ('L-6.0 Norm Loss', 7.7278755e-06),\n",
      " ('TV(2.0) Loss', 5.470915)], overall loss: -69853.390625\n"
     ]
    },
    {
     "name": "stderr",
     "output_type": "stream",
     "text": [
      "Failed to lookup font 'FreeSans.ttf', falling back to default\n"
     ]
    },
    {
     "name": "stdout",
     "output_type": "stream",
     "text": [
      "Iteration: 142, named_losses: [('ActivationMax Loss', -70219.945),\n",
      " ('L-6.0 Norm Loss', 7.74486e-06),\n",
      " ('TV(2.0) Loss', 5.5395417)], overall loss: -70214.40625\n"
     ]
    },
    {
     "name": "stderr",
     "output_type": "stream",
     "text": [
      "Failed to lookup font 'FreeSans.ttf', falling back to default\n"
     ]
    },
    {
     "name": "stdout",
     "output_type": "stream",
     "text": [
      "Iteration: 143, named_losses: [('ActivationMax Loss', -70736.33),\n",
      " ('L-6.0 Norm Loss', 7.760758e-06),\n",
      " ('TV(2.0) Loss', 5.6025767)], overall loss: -70730.7265625\n"
     ]
    },
    {
     "name": "stderr",
     "output_type": "stream",
     "text": [
      "Failed to lookup font 'FreeSans.ttf', falling back to default\n"
     ]
    },
    {
     "name": "stdout",
     "output_type": "stream",
     "text": [
      "Iteration: 144, named_losses: [('ActivationMax Loss', -71234.37),\n",
      " ('L-6.0 Norm Loss', 7.776951e-06),\n",
      " ('TV(2.0) Loss', 5.6684566)], overall loss: -71228.6953125\n"
     ]
    },
    {
     "name": "stderr",
     "output_type": "stream",
     "text": [
      "Failed to lookup font 'FreeSans.ttf', falling back to default\n"
     ]
    },
    {
     "name": "stdout",
     "output_type": "stream",
     "text": [
      "Iteration: 145, named_losses: [('ActivationMax Loss', -71681.7),\n",
      " ('L-6.0 Norm Loss', 7.793961e-06),\n",
      " ('TV(2.0) Loss', 5.739297)], overall loss: -71675.9609375\n"
     ]
    },
    {
     "name": "stderr",
     "output_type": "stream",
     "text": [
      "Failed to lookup font 'FreeSans.ttf', falling back to default\n"
     ]
    },
    {
     "name": "stdout",
     "output_type": "stream",
     "text": [
      "Iteration: 146, named_losses: [('ActivationMax Loss', -72051.59),\n",
      " ('L-6.0 Norm Loss', 7.810625e-06),\n",
      " ('TV(2.0) Loss', 5.80608)], overall loss: -72045.7890625\n"
     ]
    },
    {
     "name": "stderr",
     "output_type": "stream",
     "text": [
      "Failed to lookup font 'FreeSans.ttf', falling back to default\n"
     ]
    },
    {
     "name": "stdout",
     "output_type": "stream",
     "text": [
      "Iteration: 147, named_losses: [('ActivationMax Loss', -72514.07),\n",
      " ('L-6.0 Norm Loss', 7.827366e-06),\n",
      " ('TV(2.0) Loss', 5.8751855)], overall loss: -72508.1953125\n"
     ]
    },
    {
     "name": "stderr",
     "output_type": "stream",
     "text": [
      "Failed to lookup font 'FreeSans.ttf', falling back to default\n"
     ]
    },
    {
     "name": "stdout",
     "output_type": "stream",
     "text": [
      "Iteration: 148, named_losses: [('ActivationMax Loss', -72970.91),\n",
      " ('L-6.0 Norm Loss', 7.8447265e-06),\n",
      " ('TV(2.0) Loss', 5.9466)], overall loss: -72964.9609375\n"
     ]
    },
    {
     "name": "stderr",
     "output_type": "stream",
     "text": [
      "Failed to lookup font 'FreeSans.ttf', falling back to default\n"
     ]
    },
    {
     "name": "stdout",
     "output_type": "stream",
     "text": [
      "Iteration: 149, named_losses: [('ActivationMax Loss', -73318.23),\n",
      " ('L-6.0 Norm Loss', 7.862066e-06),\n",
      " ('TV(2.0) Loss', 6.020089)], overall loss: -73312.203125\n"
     ]
    },
    {
     "name": "stderr",
     "output_type": "stream",
     "text": [
      "Failed to lookup font 'FreeSans.ttf', falling back to default\n"
     ]
    },
    {
     "name": "stdout",
     "output_type": "stream",
     "text": [
      "Iteration: 150, named_losses: [('ActivationMax Loss', -73921.195),\n",
      " ('L-6.0 Norm Loss', 7.8785015e-06),\n",
      " ('TV(2.0) Loss', 6.08873)], overall loss: -73915.109375\n"
     ]
    },
    {
     "name": "stderr",
     "output_type": "stream",
     "text": [
      "Failed to lookup font 'FreeSans.ttf', falling back to default\n"
     ]
    },
    {
     "name": "stdout",
     "output_type": "stream",
     "text": [
      "Iteration: 151, named_losses: [('ActivationMax Loss', -74284.23),\n",
      " ('L-6.0 Norm Loss', 7.895854e-06),\n",
      " ('TV(2.0) Loss', 6.160914)], overall loss: -74278.0625\n"
     ]
    },
    {
     "name": "stderr",
     "output_type": "stream",
     "text": [
      "Failed to lookup font 'FreeSans.ttf', falling back to default\n"
     ]
    },
    {
     "name": "stdout",
     "output_type": "stream",
     "text": [
      "Iteration: 152, named_losses: [('ActivationMax Loss', -74659.195),\n",
      " ('L-6.0 Norm Loss', 7.913613e-06),\n",
      " ('TV(2.0) Loss', 6.2339244)], overall loss: -74652.9609375\n"
     ]
    },
    {
     "name": "stderr",
     "output_type": "stream",
     "text": [
      "Failed to lookup font 'FreeSans.ttf', falling back to default\n"
     ]
    },
    {
     "name": "stdout",
     "output_type": "stream",
     "text": [
      "Iteration: 153, named_losses: [('ActivationMax Loss', -75111.41),\n",
      " ('L-6.0 Norm Loss', 7.9304555e-06),\n",
      " ('TV(2.0) Loss', 6.3062425)], overall loss: -75105.1015625\n"
     ]
    },
    {
     "name": "stderr",
     "output_type": "stream",
     "text": [
      "Failed to lookup font 'FreeSans.ttf', falling back to default\n",
      "Failed to lookup font 'FreeSans.ttf', falling back to default\n"
     ]
    },
    {
     "name": "stdout",
     "output_type": "stream",
     "text": [
      "Iteration: 154, named_losses: [('ActivationMax Loss', -75713.484),\n",
      " ('L-6.0 Norm Loss', 7.947778e-06),\n",
      " ('TV(2.0) Loss', 6.3793464)], overall loss: -75707.1015625\n"
     ]
    },
    {
     "name": "stderr",
     "output_type": "stream",
     "text": [
      "Failed to lookup font 'FreeSans.ttf', falling back to default\n"
     ]
    },
    {
     "name": "stdout",
     "output_type": "stream",
     "text": [
      "Iteration: 155, named_losses: [('ActivationMax Loss', -76059.22),\n",
      " ('L-6.0 Norm Loss', 7.965434e-06),\n",
      " ('TV(2.0) Loss', 6.4542727)], overall loss: -76052.765625\n",
      "Iteration: 156, named_losses: [('ActivationMax Loss', -76463.055),\n",
      " ('L-6.0 Norm Loss', 7.982695e-06),\n",
      " ('TV(2.0) Loss', 6.528083)], overall loss: -76456.5234375\n"
     ]
    },
    {
     "name": "stderr",
     "output_type": "stream",
     "text": [
      "Failed to lookup font 'FreeSans.ttf', falling back to default\n"
     ]
    },
    {
     "name": "stdout",
     "output_type": "stream",
     "text": [
      "Iteration: 157, named_losses: [('ActivationMax Loss', -76928.94),\n",
      " ('L-6.0 Norm Loss', 8.000687e-06),\n",
      " ('TV(2.0) Loss', 6.6037064)], overall loss: -76922.3359375\n"
     ]
    },
    {
     "name": "stderr",
     "output_type": "stream",
     "text": [
      "Failed to lookup font 'FreeSans.ttf', falling back to default\n"
     ]
    },
    {
     "name": "stdout",
     "output_type": "stream",
     "text": [
      "Iteration: 158, named_losses: [('ActivationMax Loss', -77320.19),\n",
      " ('L-6.0 Norm Loss', 8.0174195e-06),\n",
      " ('TV(2.0) Loss', 6.6778054)], overall loss: -77313.5078125\n"
     ]
    },
    {
     "name": "stderr",
     "output_type": "stream",
     "text": [
      "Failed to lookup font 'FreeSans.ttf', falling back to default\n",
      "Failed to lookup font 'FreeSans.ttf', falling back to default\n"
     ]
    },
    {
     "name": "stdout",
     "output_type": "stream",
     "text": [
      "Iteration: 159, named_losses: [('ActivationMax Loss', -77647.34),\n",
      " ('L-6.0 Norm Loss', 8.035767e-06),\n",
      " ('TV(2.0) Loss', 6.755487)], overall loss: -77640.5859375\n"
     ]
    },
    {
     "name": "stderr",
     "output_type": "stream",
     "text": [
      "Failed to lookup font 'FreeSans.ttf', falling back to default\n"
     ]
    },
    {
     "name": "stdout",
     "output_type": "stream",
     "text": [
      "Iteration: 160, named_losses: [('ActivationMax Loss', -78279.836),\n",
      " ('L-6.0 Norm Loss', 8.052664e-06),\n",
      " ('TV(2.0) Loss', 6.829269)], overall loss: -78273.0078125\n"
     ]
    },
    {
     "name": "stderr",
     "output_type": "stream",
     "text": [
      "Failed to lookup font 'FreeSans.ttf', falling back to default\n"
     ]
    },
    {
     "name": "stdout",
     "output_type": "stream",
     "text": [
      "Iteration: 161, named_losses: [('ActivationMax Loss', -78749.914),\n",
      " ('L-6.0 Norm Loss', 8.071878e-06),\n",
      " ('TV(2.0) Loss', 6.911881)], overall loss: -78743.0\n"
     ]
    },
    {
     "name": "stderr",
     "output_type": "stream",
     "text": [
      "Failed to lookup font 'FreeSans.ttf', falling back to default\n"
     ]
    },
    {
     "name": "stdout",
     "output_type": "stream",
     "text": [
      "Iteration: 162, named_losses: [('ActivationMax Loss', -79092.78),\n",
      " ('L-6.0 Norm Loss', 8.089118e-06),\n",
      " ('TV(2.0) Loss', 6.988519)], overall loss: -79085.7890625\n"
     ]
    },
    {
     "name": "stderr",
     "output_type": "stream",
     "text": [
      "Failed to lookup font 'FreeSans.ttf', falling back to default\n"
     ]
    },
    {
     "name": "stdout",
     "output_type": "stream",
     "text": [
      "Iteration: 163, named_losses: [('ActivationMax Loss', -79673.664),\n",
      " ('L-6.0 Norm Loss', 8.107657e-06),\n",
      " ('TV(2.0) Loss', 7.0686793)], overall loss: -79666.59375\n"
     ]
    },
    {
     "name": "stderr",
     "output_type": "stream",
     "text": [
      "Failed to lookup font 'FreeSans.ttf', falling back to default\n"
     ]
    },
    {
     "name": "stdout",
     "output_type": "stream",
     "text": [
      "Iteration: 164, named_losses: [('ActivationMax Loss', -79921.76),\n",
      " ('L-6.0 Norm Loss', 8.126103e-06),\n",
      " ('TV(2.0) Loss', 7.150749)], overall loss: -79914.609375\n"
     ]
    },
    {
     "name": "stderr",
     "output_type": "stream",
     "text": [
      "Failed to lookup font 'FreeSans.ttf', falling back to default\n"
     ]
    },
    {
     "name": "stdout",
     "output_type": "stream",
     "text": [
      "Iteration: 165, named_losses: [('ActivationMax Loss', -80506.8),\n",
      " ('L-6.0 Norm Loss', 8.143317e-06),\n",
      " ('TV(2.0) Loss', 7.2261853)], overall loss: -80499.5703125\n"
     ]
    },
    {
     "name": "stderr",
     "output_type": "stream",
     "text": [
      "Failed to lookup font 'FreeSans.ttf', falling back to default\n"
     ]
    },
    {
     "name": "stdout",
     "output_type": "stream",
     "text": [
      "Iteration: 166, named_losses: [('ActivationMax Loss', -80901.164),\n",
      " ('L-6.0 Norm Loss', 8.162123e-06),\n",
      " ('TV(2.0) Loss', 7.3097544)], overall loss: -80893.8515625\n"
     ]
    },
    {
     "name": "stderr",
     "output_type": "stream",
     "text": [
      "Failed to lookup font 'FreeSans.ttf', falling back to default\n"
     ]
    },
    {
     "name": "stdout",
     "output_type": "stream",
     "text": [
      "Iteration: 167, named_losses: [('ActivationMax Loss', -81340.51),\n",
      " ('L-6.0 Norm Loss', 8.179688e-06),\n",
      " ('TV(2.0) Loss', 7.3875213)], overall loss: -81333.1171875\n"
     ]
    },
    {
     "name": "stderr",
     "output_type": "stream",
     "text": [
      "Failed to lookup font 'FreeSans.ttf', falling back to default\n"
     ]
    },
    {
     "name": "stdout",
     "output_type": "stream",
     "text": [
      "Iteration: 168, named_losses: [('ActivationMax Loss', -81725.34),\n",
      " ('L-6.0 Norm Loss', 8.197347e-06),\n",
      " ('TV(2.0) Loss', 7.4665256)], overall loss: -81717.875\n"
     ]
    },
    {
     "name": "stderr",
     "output_type": "stream",
     "text": [
      "Failed to lookup font 'FreeSans.ttf', falling back to default\n"
     ]
    },
    {
     "name": "stdout",
     "output_type": "stream",
     "text": [
      "Iteration: 169, named_losses: [('ActivationMax Loss', -82187.26),\n",
      " ('L-6.0 Norm Loss', 8.216642e-06),\n",
      " ('TV(2.0) Loss', 7.5536857)], overall loss: -82179.703125\n"
     ]
    },
    {
     "name": "stderr",
     "output_type": "stream",
     "text": [
      "Failed to lookup font 'FreeSans.ttf', falling back to default\n"
     ]
    },
    {
     "name": "stdout",
     "output_type": "stream",
     "text": [
      "Iteration: 170, named_losses: [('ActivationMax Loss', -82585.84),\n",
      " ('L-6.0 Norm Loss', 8.2345505e-06),\n",
      " ('TV(2.0) Loss', 7.6339397)], overall loss: -82578.2109375\n"
     ]
    },
    {
     "name": "stderr",
     "output_type": "stream",
     "text": [
      "Failed to lookup font 'FreeSans.ttf', falling back to default\n"
     ]
    },
    {
     "name": "stdout",
     "output_type": "stream",
     "text": [
      "Iteration: 171, named_losses: [('ActivationMax Loss', -83115.88),\n",
      " ('L-6.0 Norm Loss', 8.252883e-06),\n",
      " ('TV(2.0) Loss', 7.7175307)], overall loss: -83108.1640625\n"
     ]
    },
    {
     "name": "stderr",
     "output_type": "stream",
     "text": [
      "Failed to lookup font 'FreeSans.ttf', falling back to default\n"
     ]
    },
    {
     "name": "stdout",
     "output_type": "stream",
     "text": [
      "Iteration: 172, named_losses: [('ActivationMax Loss', -83478.375),\n",
      " ('L-6.0 Norm Loss', 8.271353e-06),\n",
      " ('TV(2.0) Loss', 7.798881)], overall loss: -83470.578125\n"
     ]
    },
    {
     "name": "stderr",
     "output_type": "stream",
     "text": [
      "Failed to lookup font 'FreeSans.ttf', falling back to default\n"
     ]
    },
    {
     "name": "stdout",
     "output_type": "stream",
     "text": [
      "Iteration: 173, named_losses: [('ActivationMax Loss', -83952.77),\n",
      " ('L-6.0 Norm Loss', 8.289264e-06),\n",
      " ('TV(2.0) Loss', 7.881989)], overall loss: -83944.890625\n"
     ]
    },
    {
     "name": "stderr",
     "output_type": "stream",
     "text": [
      "Failed to lookup font 'FreeSans.ttf', falling back to default\n"
     ]
    },
    {
     "name": "stdout",
     "output_type": "stream",
     "text": [
      "Iteration: 174, named_losses: [('ActivationMax Loss', -84352.125),\n",
      " ('L-6.0 Norm Loss', 8.3078985e-06),\n",
      " ('TV(2.0) Loss', 7.965597)], overall loss: -84344.15625\n"
     ]
    },
    {
     "name": "stderr",
     "output_type": "stream",
     "text": [
      "Failed to lookup font 'FreeSans.ttf', falling back to default\n"
     ]
    },
    {
     "name": "stdout",
     "output_type": "stream",
     "text": [
      "Iteration: 175, named_losses: [('ActivationMax Loss', -84798.02),\n",
      " ('L-6.0 Norm Loss', 8.326403e-06),\n",
      " ('TV(2.0) Loss', 8.051652)], overall loss: -84789.96875\n"
     ]
    },
    {
     "name": "stderr",
     "output_type": "stream",
     "text": [
      "Failed to lookup font 'FreeSans.ttf', falling back to default\n"
     ]
    },
    {
     "name": "stdout",
     "output_type": "stream",
     "text": [
      "Iteration: 176, named_losses: [('ActivationMax Loss', -85221.04),\n",
      " ('L-6.0 Norm Loss', 8.345526e-06),\n",
      " ('TV(2.0) Loss', 8.138671)], overall loss: -85212.8984375\n"
     ]
    },
    {
     "name": "stderr",
     "output_type": "stream",
     "text": [
      "Failed to lookup font 'FreeSans.ttf', falling back to default\n"
     ]
    },
    {
     "name": "stdout",
     "output_type": "stream",
     "text": [
      "Iteration: 177, named_losses: [('ActivationMax Loss', -85693.01),\n",
      " ('L-6.0 Norm Loss', 8.3635905e-06),\n",
      " ('TV(2.0) Loss', 8.224614)], overall loss: -85684.78125\n"
     ]
    },
    {
     "name": "stderr",
     "output_type": "stream",
     "text": [
      "Failed to lookup font 'FreeSans.ttf', falling back to default\n"
     ]
    },
    {
     "name": "stdout",
     "output_type": "stream",
     "text": [
      "Iteration: 178, named_losses: [('ActivationMax Loss', -86124.64),\n",
      " ('L-6.0 Norm Loss', 8.381101e-06),\n",
      " ('TV(2.0) Loss', 8.302662)], overall loss: -86116.3359375\n"
     ]
    },
    {
     "name": "stderr",
     "output_type": "stream",
     "text": [
      "Failed to lookup font 'FreeSans.ttf', falling back to default\n"
     ]
    },
    {
     "name": "stdout",
     "output_type": "stream",
     "text": [
      "Iteration: 179, named_losses: [('ActivationMax Loss', -86593.79),\n",
      " ('L-6.0 Norm Loss', 8.399507e-06),\n",
      " ('TV(2.0) Loss', 8.387286)], overall loss: -86585.3984375\n"
     ]
    },
    {
     "name": "stderr",
     "output_type": "stream",
     "text": [
      "Failed to lookup font 'FreeSans.ttf', falling back to default\n"
     ]
    },
    {
     "name": "stdout",
     "output_type": "stream",
     "text": [
      "Iteration: 180, named_losses: [('ActivationMax Loss', -86995.6),\n",
      " ('L-6.0 Norm Loss', 8.417883e-06),\n",
      " ('TV(2.0) Loss', 8.472953)], overall loss: -86987.125\n"
     ]
    },
    {
     "name": "stderr",
     "output_type": "stream",
     "text": [
      "Failed to lookup font 'FreeSans.ttf', falling back to default\n"
     ]
    },
    {
     "name": "stdout",
     "output_type": "stream",
     "text": [
      "Iteration: 181, named_losses: [('ActivationMax Loss', -87383.75),\n",
      " ('L-6.0 Norm Loss', 8.435729e-06),\n",
      " ('TV(2.0) Loss', 8.555437)], overall loss: -87375.1953125\n"
     ]
    },
    {
     "name": "stderr",
     "output_type": "stream",
     "text": [
      "Failed to lookup font 'FreeSans.ttf', falling back to default\n"
     ]
    },
    {
     "name": "stdout",
     "output_type": "stream",
     "text": [
      "Iteration: 182, named_losses: [('ActivationMax Loss', -87919.414),\n",
      " ('L-6.0 Norm Loss', 8.454569e-06),\n",
      " ('TV(2.0) Loss', 8.645861)], overall loss: -87910.765625\n"
     ]
    },
    {
     "name": "stderr",
     "output_type": "stream",
     "text": [
      "Failed to lookup font 'FreeSans.ttf', falling back to default\n"
     ]
    },
    {
     "name": "stdout",
     "output_type": "stream",
     "text": [
      "Iteration: 183, named_losses: [('ActivationMax Loss', -88273.18),\n",
      " ('L-6.0 Norm Loss', 8.472845e-06),\n",
      " ('TV(2.0) Loss', 8.729597)], overall loss: -88264.453125\n"
     ]
    },
    {
     "name": "stderr",
     "output_type": "stream",
     "text": [
      "Failed to lookup font 'FreeSans.ttf', falling back to default\n"
     ]
    },
    {
     "name": "stdout",
     "output_type": "stream",
     "text": [
      "Iteration: 184, named_losses: [('ActivationMax Loss', -88624.445),\n",
      " ('L-6.0 Norm Loss', 8.490463e-06),\n",
      " ('TV(2.0) Loss', 8.814041)], overall loss: -88615.6328125\n"
     ]
    },
    {
     "name": "stderr",
     "output_type": "stream",
     "text": [
      "Failed to lookup font 'FreeSans.ttf', falling back to default\n"
     ]
    },
    {
     "name": "stdout",
     "output_type": "stream",
     "text": [
      "Iteration: 185, named_losses: [('ActivationMax Loss', -89195.26),\n",
      " ('L-6.0 Norm Loss', 8.508154e-06),\n",
      " ('TV(2.0) Loss', 8.898648)], overall loss: -89186.359375\n"
     ]
    },
    {
     "name": "stderr",
     "output_type": "stream",
     "text": [
      "Failed to lookup font 'FreeSans.ttf', falling back to default\n"
     ]
    },
    {
     "name": "stdout",
     "output_type": "stream",
     "text": [
      "Iteration: 186, named_losses: [('ActivationMax Loss', -89672.195),\n",
      " ('L-6.0 Norm Loss', 8.527816e-06),\n",
      " ('TV(2.0) Loss', 8.9890375)], overall loss: -89663.203125\n"
     ]
    },
    {
     "name": "stderr",
     "output_type": "stream",
     "text": [
      "Failed to lookup font 'FreeSans.ttf', falling back to default\n"
     ]
    },
    {
     "name": "stdout",
     "output_type": "stream",
     "text": [
      "Iteration: 187, named_losses: [('ActivationMax Loss', -89949.805),\n",
      " ('L-6.0 Norm Loss', 8.54695e-06),\n",
      " ('TV(2.0) Loss', 9.083214)], overall loss: -89940.71875\n"
     ]
    },
    {
     "name": "stderr",
     "output_type": "stream",
     "text": [
      "Failed to lookup font 'FreeSans.ttf', falling back to default\n"
     ]
    },
    {
     "name": "stdout",
     "output_type": "stream",
     "text": [
      "Iteration: 188, named_losses: [('ActivationMax Loss', -90408.66),\n",
      " ('L-6.0 Norm Loss', 8.564492e-06),\n",
      " ('TV(2.0) Loss', 9.165813)], overall loss: -90399.4921875\n"
     ]
    },
    {
     "name": "stderr",
     "output_type": "stream",
     "text": [
      "Failed to lookup font 'FreeSans.ttf', falling back to default\n"
     ]
    },
    {
     "name": "stdout",
     "output_type": "stream",
     "text": [
      "Iteration: 189, named_losses: [('ActivationMax Loss', -90896.26),\n",
      " ('L-6.0 Norm Loss', 8.583234e-06),\n",
      " ('TV(2.0) Loss', 9.257971)], overall loss: -90887.0\n"
     ]
    },
    {
     "name": "stderr",
     "output_type": "stream",
     "text": [
      "Failed to lookup font 'FreeSans.ttf', falling back to default\n"
     ]
    },
    {
     "name": "stdout",
     "output_type": "stream",
     "text": [
      "Iteration: 190, named_losses: [('ActivationMax Loss', -91369.34),\n",
      " ('L-6.0 Norm Loss', 8.601719e-06),\n",
      " ('TV(2.0) Loss', 9.344617)], overall loss: -91360.0\n"
     ]
    },
    {
     "name": "stderr",
     "output_type": "stream",
     "text": [
      "Failed to lookup font 'FreeSans.ttf', falling back to default\n"
     ]
    },
    {
     "name": "stdout",
     "output_type": "stream",
     "text": [
      "Iteration: 191, named_losses: [('ActivationMax Loss', -91761.164),\n",
      " ('L-6.0 Norm Loss', 8.621333e-06),\n",
      " ('TV(2.0) Loss', 9.440088)], overall loss: -91751.7265625\n"
     ]
    },
    {
     "name": "stderr",
     "output_type": "stream",
     "text": [
      "Failed to lookup font 'FreeSans.ttf', falling back to default\n"
     ]
    },
    {
     "name": "stdout",
     "output_type": "stream",
     "text": [
      "Iteration: 192, named_losses: [('ActivationMax Loss', -92235.445),\n",
      " ('L-6.0 Norm Loss', 8.639682e-06),\n",
      " ('TV(2.0) Loss', 9.5293255)], overall loss: -92225.9140625\n"
     ]
    },
    {
     "name": "stderr",
     "output_type": "stream",
     "text": [
      "Failed to lookup font 'FreeSans.ttf', falling back to default\n"
     ]
    },
    {
     "name": "stdout",
     "output_type": "stream",
     "text": [
      "Iteration: 193, named_losses: [('ActivationMax Loss', -92695.336),\n",
      " ('L-6.0 Norm Loss', 8.659285e-06),\n",
      " ('TV(2.0) Loss', 9.627782)], overall loss: -92685.7109375\n"
     ]
    },
    {
     "name": "stderr",
     "output_type": "stream",
     "text": [
      "Failed to lookup font 'FreeSans.ttf', falling back to default\n"
     ]
    },
    {
     "name": "stdout",
     "output_type": "stream",
     "text": [
      "Iteration: 194, named_losses: [('ActivationMax Loss', -93117.73),\n",
      " ('L-6.0 Norm Loss', 8.678148e-06),\n",
      " ('TV(2.0) Loss', 9.719664)], overall loss: -93108.0078125\n"
     ]
    },
    {
     "name": "stderr",
     "output_type": "stream",
     "text": [
      "Failed to lookup font 'FreeSans.ttf', falling back to default\n"
     ]
    },
    {
     "name": "stdout",
     "output_type": "stream",
     "text": [
      "Iteration: 195, named_losses: [('ActivationMax Loss', -93556.01),\n",
      " ('L-6.0 Norm Loss', 8.696668e-06),\n",
      " ('TV(2.0) Loss', 9.807767)], overall loss: -93546.203125\n"
     ]
    },
    {
     "name": "stderr",
     "output_type": "stream",
     "text": [
      "Failed to lookup font 'FreeSans.ttf', falling back to default\n"
     ]
    },
    {
     "name": "stdout",
     "output_type": "stream",
     "text": [
      "Iteration: 196, named_losses: [('ActivationMax Loss', -93949.71),\n",
      " ('L-6.0 Norm Loss', 8.716202e-06),\n",
      " ('TV(2.0) Loss', 9.905373)], overall loss: -93939.8046875\n"
     ]
    },
    {
     "name": "stderr",
     "output_type": "stream",
     "text": [
      "Failed to lookup font 'FreeSans.ttf', falling back to default\n"
     ]
    },
    {
     "name": "stdout",
     "output_type": "stream",
     "text": [
      "Iteration: 197, named_losses: [('ActivationMax Loss', -94405.89),\n",
      " ('L-6.0 Norm Loss', 8.73495e-06),\n",
      " ('TV(2.0) Loss', 9.998114)], overall loss: -94395.890625\n"
     ]
    },
    {
     "name": "stderr",
     "output_type": "stream",
     "text": [
      "Failed to lookup font 'FreeSans.ttf', falling back to default\n"
     ]
    },
    {
     "name": "stdout",
     "output_type": "stream",
     "text": [
      "Iteration: 198, named_losses: [('ActivationMax Loss', -94864.01),\n",
      " ('L-6.0 Norm Loss', 8.75373e-06),\n",
      " ('TV(2.0) Loss', 10.092073)], overall loss: -94853.9140625\n"
     ]
    },
    {
     "name": "stderr",
     "output_type": "stream",
     "text": [
      "Failed to lookup font 'FreeSans.ttf', falling back to default\n"
     ]
    },
    {
     "name": "stdout",
     "output_type": "stream",
     "text": [
      "Iteration: 199, named_losses: [('ActivationMax Loss', -95131.43),\n",
      " ('L-6.0 Norm Loss', 8.772298e-06),\n",
      " ('TV(2.0) Loss', 10.18648)], overall loss: -95121.2421875\n"
     ]
    },
    {
     "name": "stderr",
     "output_type": "stream",
     "text": [
      "Failed to lookup font 'FreeSans.ttf', falling back to default\n"
     ]
    },
    {
     "name": "stdout",
     "output_type": "stream",
     "text": [
      "Iteration: 200, named_losses: [('ActivationMax Loss', -95685.375),\n",
      " ('L-6.0 Norm Loss', 8.79115e-06),\n",
      " ('TV(2.0) Loss', 10.279544)], overall loss: -95675.09375\n"
     ]
    },
    {
     "name": "stderr",
     "output_type": "stream",
     "text": [
      "Failed to lookup font 'FreeSans.ttf', falling back to default\n"
     ]
    },
    {
     "name": "stdout",
     "output_type": "stream",
     "text": [
      "Iteration: 201, named_losses: [('ActivationMax Loss', -96188.91),\n",
      " ('L-6.0 Norm Loss', 8.811865e-06),\n",
      " ('TV(2.0) Loss', 10.3846655)], overall loss: -96178.5234375\n"
     ]
    },
    {
     "name": "stderr",
     "output_type": "stream",
     "text": [
      "Failed to lookup font 'FreeSans.ttf', falling back to default\n"
     ]
    },
    {
     "name": "stdout",
     "output_type": "stream",
     "text": [
      "Iteration: 202, named_losses: [('ActivationMax Loss', -96571.99),\n",
      " ('L-6.0 Norm Loss', 8.830828e-06),\n",
      " ('TV(2.0) Loss', 10.477646)], overall loss: -96561.515625\n"
     ]
    },
    {
     "name": "stderr",
     "output_type": "stream",
     "text": [
      "Failed to lookup font 'FreeSans.ttf', falling back to default\n"
     ]
    },
    {
     "name": "stdout",
     "output_type": "stream",
     "text": [
      "Iteration: 203, named_losses: [('ActivationMax Loss', -96953.195),\n",
      " ('L-6.0 Norm Loss', 8.849196e-06),\n",
      " ('TV(2.0) Loss', 10.570324)], overall loss: -96942.625\n"
     ]
    },
    {
     "name": "stderr",
     "output_type": "stream",
     "text": [
      "Failed to lookup font 'FreeSans.ttf', falling back to default\n"
     ]
    },
    {
     "name": "stdout",
     "output_type": "stream",
     "text": [
      "Iteration: 204, named_losses: [('ActivationMax Loss', -97411.52),\n",
      " ('L-6.0 Norm Loss', 8.86817e-06),\n",
      " ('TV(2.0) Loss', 10.66933)], overall loss: -97400.8515625\n"
     ]
    },
    {
     "name": "stderr",
     "output_type": "stream",
     "text": [
      "Failed to lookup font 'FreeSans.ttf', falling back to default\n"
     ]
    },
    {
     "name": "stdout",
     "output_type": "stream",
     "text": [
      "Iteration: 205, named_losses: [('ActivationMax Loss', -97841.89),\n",
      " ('L-6.0 Norm Loss', 8.886771e-06),\n",
      " ('TV(2.0) Loss', 10.763802)], overall loss: -97831.125\n"
     ]
    },
    {
     "name": "stderr",
     "output_type": "stream",
     "text": [
      "Failed to lookup font 'FreeSans.ttf', falling back to default\n"
     ]
    },
    {
     "name": "stdout",
     "output_type": "stream",
     "text": [
      "Iteration: 206, named_losses: [('ActivationMax Loss', -98376.24),\n",
      " ('L-6.0 Norm Loss', 8.906356e-06),\n",
      " ('TV(2.0) Loss', 10.86382)], overall loss: -98365.375\n"
     ]
    },
    {
     "name": "stderr",
     "output_type": "stream",
     "text": [
      "Failed to lookup font 'FreeSans.ttf', falling back to default\n"
     ]
    },
    {
     "name": "stdout",
     "output_type": "stream",
     "text": [
      "Iteration: 207, named_losses: [('ActivationMax Loss', -98717.01),\n",
      " ('L-6.0 Norm Loss', 8.926457e-06),\n",
      " ('TV(2.0) Loss', 10.9650545)], overall loss: -98706.0390625\n"
     ]
    },
    {
     "name": "stderr",
     "output_type": "stream",
     "text": [
      "Failed to lookup font 'FreeSans.ttf', falling back to default\n"
     ]
    },
    {
     "name": "stdout",
     "output_type": "stream",
     "text": [
      "Iteration: 208, named_losses: [('ActivationMax Loss', -99136.46),\n",
      " ('L-6.0 Norm Loss', 8.945251e-06),\n",
      " ('TV(2.0) Loss', 11.061283)], overall loss: -99125.3984375\n"
     ]
    },
    {
     "name": "stderr",
     "output_type": "stream",
     "text": [
      "Failed to lookup font 'FreeSans.ttf', falling back to default\n"
     ]
    },
    {
     "name": "stdout",
     "output_type": "stream",
     "text": [
      "Iteration: 209, named_losses: [('ActivationMax Loss', -99616.15),\n",
      " ('L-6.0 Norm Loss', 8.965937e-06),\n",
      " ('TV(2.0) Loss', 11.16967)], overall loss: -99604.9765625\n"
     ]
    },
    {
     "name": "stderr",
     "output_type": "stream",
     "text": [
      "Failed to lookup font 'FreeSans.ttf', falling back to default\n"
     ]
    },
    {
     "name": "stdout",
     "output_type": "stream",
     "text": [
      "Iteration: 210, named_losses: [('ActivationMax Loss', -99975.055),\n",
      " ('L-6.0 Norm Loss', 8.985448e-06),\n",
      " ('TV(2.0) Loss', 11.270791)], overall loss: -99963.78125\n"
     ]
    },
    {
     "name": "stderr",
     "output_type": "stream",
     "text": [
      "Failed to lookup font 'FreeSans.ttf', falling back to default\n"
     ]
    },
    {
     "name": "stdout",
     "output_type": "stream",
     "text": [
      "Iteration: 211, named_losses: [('ActivationMax Loss', -100466.34),\n",
      " ('L-6.0 Norm Loss', 9.003456e-06),\n",
      " ('TV(2.0) Loss', 11.360679)], overall loss: -100454.984375\n"
     ]
    },
    {
     "name": "stderr",
     "output_type": "stream",
     "text": [
      "Failed to lookup font 'FreeSans.ttf', falling back to default\n"
     ]
    },
    {
     "name": "stdout",
     "output_type": "stream",
     "text": [
      "Iteration: 212, named_losses: [('ActivationMax Loss', -100903.44),\n",
      " ('L-6.0 Norm Loss', 9.023253e-06),\n",
      " ('TV(2.0) Loss', 11.467403)], overall loss: -100891.96875\n"
     ]
    },
    {
     "name": "stderr",
     "output_type": "stream",
     "text": [
      "Failed to lookup font 'FreeSans.ttf', falling back to default\n"
     ]
    },
    {
     "name": "stdout",
     "output_type": "stream",
     "text": [
      "Iteration: 213, named_losses: [('ActivationMax Loss', -101339.016),\n",
      " ('L-6.0 Norm Loss', 9.042917e-06),\n",
      " ('TV(2.0) Loss', 11.570738)], overall loss: -101327.4453125\n"
     ]
    },
    {
     "name": "stderr",
     "output_type": "stream",
     "text": [
      "Failed to lookup font 'FreeSans.ttf', falling back to default\n"
     ]
    },
    {
     "name": "stdout",
     "output_type": "stream",
     "text": [
      "Iteration: 214, named_losses: [('ActivationMax Loss', -101732.1),\n",
      " ('L-6.0 Norm Loss', 9.063658e-06),\n",
      " ('TV(2.0) Loss', 11.677547)], overall loss: -101720.421875\n"
     ]
    },
    {
     "name": "stderr",
     "output_type": "stream",
     "text": [
      "Failed to lookup font 'FreeSans.ttf', falling back to default\n"
     ]
    },
    {
     "name": "stdout",
     "output_type": "stream",
     "text": [
      "Iteration: 215, named_losses: [('ActivationMax Loss', -102141.88),\n",
      " ('L-6.0 Norm Loss', 9.083161e-06),\n",
      " ('TV(2.0) Loss', 11.780603)], overall loss: -102130.1015625\n"
     ]
    },
    {
     "name": "stderr",
     "output_type": "stream",
     "text": [
      "Failed to lookup font 'FreeSans.ttf', falling back to default\n"
     ]
    },
    {
     "name": "stdout",
     "output_type": "stream",
     "text": [
      "Iteration: 216, named_losses: [('ActivationMax Loss', -102472.48),\n",
      " ('L-6.0 Norm Loss', 9.101997e-06),\n",
      " ('TV(2.0) Loss', 11.882177)], overall loss: -102460.59375\n"
     ]
    },
    {
     "name": "stderr",
     "output_type": "stream",
     "text": [
      "Failed to lookup font 'FreeSans.ttf', falling back to default\n"
     ]
    },
    {
     "name": "stdout",
     "output_type": "stream",
     "text": [
      "Iteration: 217, named_losses: [('ActivationMax Loss', -103011.3),\n",
      " ('L-6.0 Norm Loss', 9.1222855e-06),\n",
      " ('TV(2.0) Loss', 11.989248)], overall loss: -102999.3046875\n"
     ]
    },
    {
     "name": "stderr",
     "output_type": "stream",
     "text": [
      "Failed to lookup font 'FreeSans.ttf', falling back to default\n"
     ]
    },
    {
     "name": "stdout",
     "output_type": "stream",
     "text": [
      "Iteration: 218, named_losses: [('ActivationMax Loss', -103395.48),\n",
      " ('L-6.0 Norm Loss', 9.141079e-06),\n",
      " ('TV(2.0) Loss', 12.088334)], overall loss: -103383.390625\n"
     ]
    },
    {
     "name": "stderr",
     "output_type": "stream",
     "text": [
      "Failed to lookup font 'FreeSans.ttf', falling back to default\n"
     ]
    },
    {
     "name": "stdout",
     "output_type": "stream",
     "text": [
      "Iteration: 219, named_losses: [('ActivationMax Loss', -103891.79),\n",
      " ('L-6.0 Norm Loss', 9.160749e-06),\n",
      " ('TV(2.0) Loss', 12.192925)], overall loss: -103879.59375\n"
     ]
    },
    {
     "name": "stderr",
     "output_type": "stream",
     "text": [
      "Failed to lookup font 'FreeSans.ttf', falling back to default\n"
     ]
    },
    {
     "name": "stdout",
     "output_type": "stream",
     "text": [
      "Iteration: 220, named_losses: [('ActivationMax Loss', -104340.21),\n",
      " ('L-6.0 Norm Loss', 9.18154e-06),\n",
      " ('TV(2.0) Loss', 12.303027)], overall loss: -104327.90625\n"
     ]
    },
    {
     "name": "stderr",
     "output_type": "stream",
     "text": [
      "Failed to lookup font 'FreeSans.ttf', falling back to default\n"
     ]
    },
    {
     "name": "stdout",
     "output_type": "stream",
     "text": [
      "Iteration: 221, named_losses: [('ActivationMax Loss', -104692.13),\n",
      " ('L-6.0 Norm Loss', 9.201335e-06),\n",
      " ('TV(2.0) Loss', 12.414173)], overall loss: -104679.71875\n"
     ]
    },
    {
     "name": "stderr",
     "output_type": "stream",
     "text": [
      "Failed to lookup font 'FreeSans.ttf', falling back to default\n"
     ]
    },
    {
     "name": "stdout",
     "output_type": "stream",
     "text": [
      "Iteration: 222, named_losses: [('ActivationMax Loss', -105109.4),\n",
      " ('L-6.0 Norm Loss', 9.220787e-06),\n",
      " ('TV(2.0) Loss', 12.518297)], overall loss: -105096.8828125\n"
     ]
    },
    {
     "name": "stderr",
     "output_type": "stream",
     "text": [
      "Failed to lookup font 'FreeSans.ttf', falling back to default\n"
     ]
    },
    {
     "name": "stdout",
     "output_type": "stream",
     "text": [
      "Iteration: 223, named_losses: [('ActivationMax Loss', -105576.414),\n",
      " ('L-6.0 Norm Loss', 9.240594e-06),\n",
      " ('TV(2.0) Loss', 12.623474)], overall loss: -105563.7890625\n"
     ]
    },
    {
     "name": "stderr",
     "output_type": "stream",
     "text": [
      "Failed to lookup font 'FreeSans.ttf', falling back to default\n"
     ]
    },
    {
     "name": "stdout",
     "output_type": "stream",
     "text": [
      "Iteration: 224, named_losses: [('ActivationMax Loss', -106015.64),\n",
      " ('L-6.0 Norm Loss', 9.2607725e-06),\n",
      " ('TV(2.0) Loss', 12.73193)], overall loss: -106002.90625\n"
     ]
    },
    {
     "name": "stderr",
     "output_type": "stream",
     "text": [
      "Failed to lookup font 'FreeSans.ttf', falling back to default\n"
     ]
    },
    {
     "name": "stdout",
     "output_type": "stream",
     "text": [
      "Iteration: 225, named_losses: [('ActivationMax Loss', -106450.52),\n",
      " ('L-6.0 Norm Loss', 9.28215e-06),\n",
      " ('TV(2.0) Loss', 12.849464)], overall loss: -106437.671875\n"
     ]
    },
    {
     "name": "stderr",
     "output_type": "stream",
     "text": [
      "Failed to lookup font 'FreeSans.ttf', falling back to default\n"
     ]
    },
    {
     "name": "stdout",
     "output_type": "stream",
     "text": [
      "Iteration: 226, named_losses: [('ActivationMax Loss', -106894.9),\n",
      " ('L-6.0 Norm Loss', 9.302706e-06),\n",
      " ('TV(2.0) Loss', 12.959304)], overall loss: -106881.9375\n"
     ]
    },
    {
     "name": "stderr",
     "output_type": "stream",
     "text": [
      "Failed to lookup font 'FreeSans.ttf', falling back to default\n"
     ]
    },
    {
     "name": "stdout",
     "output_type": "stream",
     "text": [
      "Iteration: 227, named_losses: [('ActivationMax Loss', -107309.78),\n",
      " ('L-6.0 Norm Loss', 9.321902e-06),\n",
      " ('TV(2.0) Loss', 13.065902)], overall loss: -107296.71875\n"
     ]
    },
    {
     "name": "stderr",
     "output_type": "stream",
     "text": [
      "Failed to lookup font 'FreeSans.ttf', falling back to default\n"
     ]
    },
    {
     "name": "stdout",
     "output_type": "stream",
     "text": [
      "Iteration: 228, named_losses: [('ActivationMax Loss', -107673.4),\n",
      " ('L-6.0 Norm Loss', 9.342625e-06),\n",
      " ('TV(2.0) Loss', 13.180567)], overall loss: -107660.21875\n"
     ]
    },
    {
     "name": "stderr",
     "output_type": "stream",
     "text": [
      "Failed to lookup font 'FreeSans.ttf', falling back to default\n"
     ]
    },
    {
     "name": "stdout",
     "output_type": "stream",
     "text": [
      "Iteration: 229, named_losses: [('ActivationMax Loss', -108168.15),\n",
      " ('L-6.0 Norm Loss', 9.362186e-06),\n",
      " ('TV(2.0) Loss', 13.2879095)], overall loss: -108154.859375\n"
     ]
    },
    {
     "name": "stderr",
     "output_type": "stream",
     "text": [
      "Failed to lookup font 'FreeSans.ttf', falling back to default\n"
     ]
    },
    {
     "name": "stdout",
     "output_type": "stream",
     "text": [
      "Iteration: 230, named_losses: [('ActivationMax Loss', -108565.48),\n",
      " ('L-6.0 Norm Loss', 9.381308e-06),\n",
      " ('TV(2.0) Loss', 13.3958235)], overall loss: -108552.078125\n"
     ]
    },
    {
     "name": "stderr",
     "output_type": "stream",
     "text": [
      "Failed to lookup font 'FreeSans.ttf', falling back to default\n"
     ]
    },
    {
     "name": "stdout",
     "output_type": "stream",
     "text": [
      "Iteration: 231, named_losses: [('ActivationMax Loss', -108952.77),\n",
      " ('L-6.0 Norm Loss', 9.401563e-06),\n",
      " ('TV(2.0) Loss', 13.508922)], overall loss: -108939.265625\n"
     ]
    },
    {
     "name": "stderr",
     "output_type": "stream",
     "text": [
      "Failed to lookup font 'FreeSans.ttf', falling back to default\n"
     ]
    },
    {
     "name": "stdout",
     "output_type": "stream",
     "text": [
      "Iteration: 232, named_losses: [('ActivationMax Loss', -109348.58),\n",
      " ('L-6.0 Norm Loss', 9.421182e-06),\n",
      " ('TV(2.0) Loss', 13.616946)], overall loss: -109334.9609375\n"
     ]
    },
    {
     "name": "stderr",
     "output_type": "stream",
     "text": [
      "Failed to lookup font 'FreeSans.ttf', falling back to default\n"
     ]
    },
    {
     "name": "stdout",
     "output_type": "stream",
     "text": [
      "Iteration: 233, named_losses: [('ActivationMax Loss', -109890.984),\n",
      " ('L-6.0 Norm Loss', 9.440677e-06),\n",
      " ('TV(2.0) Loss', 13.726599)], overall loss: -109877.2578125\n"
     ]
    },
    {
     "name": "stderr",
     "output_type": "stream",
     "text": [
      "Failed to lookup font 'FreeSans.ttf', falling back to default\n"
     ]
    },
    {
     "name": "stdout",
     "output_type": "stream",
     "text": [
      "Iteration: 234, named_losses: [('ActivationMax Loss', -110380.25),\n",
      " ('L-6.0 Norm Loss', 9.462884e-06),\n",
      " ('TV(2.0) Loss', 13.8497925)], overall loss: -110366.3984375\n"
     ]
    },
    {
     "name": "stderr",
     "output_type": "stream",
     "text": [
      "Failed to lookup font 'FreeSans.ttf', falling back to default\n"
     ]
    },
    {
     "name": "stdout",
     "output_type": "stream",
     "text": [
      "Iteration: 235, named_losses: [('ActivationMax Loss', -110704.85),\n",
      " ('L-6.0 Norm Loss', 9.482987e-06),\n",
      " ('TV(2.0) Loss', 13.96305)], overall loss: -110690.890625\n"
     ]
    },
    {
     "name": "stderr",
     "output_type": "stream",
     "text": [
      "Failed to lookup font 'FreeSans.ttf', falling back to default\n"
     ]
    },
    {
     "name": "stdout",
     "output_type": "stream",
     "text": [
      "Iteration: 236, named_losses: [('ActivationMax Loss', -111224.87),\n",
      " ('L-6.0 Norm Loss', 9.503786e-06),\n",
      " ('TV(2.0) Loss', 14.080858)], overall loss: -111210.7890625\n"
     ]
    },
    {
     "name": "stderr",
     "output_type": "stream",
     "text": [
      "Failed to lookup font 'FreeSans.ttf', falling back to default\n"
     ]
    },
    {
     "name": "stdout",
     "output_type": "stream",
     "text": [
      "Iteration: 237, named_losses: [('ActivationMax Loss', -111569.03),\n",
      " ('L-6.0 Norm Loss', 9.523003e-06),\n",
      " ('TV(2.0) Loss', 14.1894045)], overall loss: -111554.84375\n"
     ]
    },
    {
     "name": "stderr",
     "output_type": "stream",
     "text": [
      "Failed to lookup font 'FreeSans.ttf', falling back to default\n"
     ]
    },
    {
     "name": "stdout",
     "output_type": "stream",
     "text": [
      "Iteration: 238, named_losses: [('ActivationMax Loss', -111907.91),\n",
      " ('L-6.0 Norm Loss', 9.542728e-06),\n",
      " ('TV(2.0) Loss', 14.305993)], overall loss: -111893.6015625\n"
     ]
    },
    {
     "name": "stderr",
     "output_type": "stream",
     "text": [
      "Failed to lookup font 'FreeSans.ttf', falling back to default\n"
     ]
    },
    {
     "name": "stdout",
     "output_type": "stream",
     "text": [
      "Iteration: 239, named_losses: [('ActivationMax Loss', -112388.28),\n",
      " ('L-6.0 Norm Loss', 9.562536e-06),\n",
      " ('TV(2.0) Loss', 14.417714)], overall loss: -112373.8671875\n"
     ]
    },
    {
     "name": "stderr",
     "output_type": "stream",
     "text": [
      "Failed to lookup font 'FreeSans.ttf', falling back to default\n"
     ]
    },
    {
     "name": "stdout",
     "output_type": "stream",
     "text": [
      "Iteration: 240, named_losses: [('ActivationMax Loss', -112882.516),\n",
      " ('L-6.0 Norm Loss', 9.583141e-06),\n",
      " ('TV(2.0) Loss', 14.535167)], overall loss: -112867.9765625\n"
     ]
    },
    {
     "name": "stderr",
     "output_type": "stream",
     "text": [
      "Failed to lookup font 'FreeSans.ttf', falling back to default\n"
     ]
    },
    {
     "name": "stdout",
     "output_type": "stream",
     "text": [
      "Iteration: 241, named_losses: [('ActivationMax Loss', -113375.13),\n",
      " ('L-6.0 Norm Loss', 9.602871e-06),\n",
      " ('TV(2.0) Loss', 14.650105)], overall loss: -113360.484375\n"
     ]
    },
    {
     "name": "stderr",
     "output_type": "stream",
     "text": [
      "Failed to lookup font 'FreeSans.ttf', falling back to default\n"
     ]
    },
    {
     "name": "stdout",
     "output_type": "stream",
     "text": [
      "Iteration: 242, named_losses: [('ActivationMax Loss', -113704.13),\n",
      " ('L-6.0 Norm Loss', 9.624208e-06),\n",
      " ('TV(2.0) Loss', 14.770442)], overall loss: -113689.359375\n"
     ]
    },
    {
     "name": "stderr",
     "output_type": "stream",
     "text": [
      "Failed to lookup font 'FreeSans.ttf', falling back to default\n"
     ]
    },
    {
     "name": "stdout",
     "output_type": "stream",
     "text": [
      "Iteration: 243, named_losses: [('ActivationMax Loss', -114161.47),\n",
      " ('L-6.0 Norm Loss', 9.6451795e-06),\n",
      " ('TV(2.0) Loss', 14.893704)], overall loss: -114146.578125\n"
     ]
    },
    {
     "name": "stderr",
     "output_type": "stream",
     "text": [
      "Failed to lookup font 'FreeSans.ttf', falling back to default\n"
     ]
    },
    {
     "name": "stdout",
     "output_type": "stream",
     "text": [
      "Iteration: 244, named_losses: [('ActivationMax Loss', -114645.13),\n",
      " ('L-6.0 Norm Loss', 9.664639e-06),\n",
      " ('TV(2.0) Loss', 15.006711)], overall loss: -114630.125\n"
     ]
    },
    {
     "name": "stderr",
     "output_type": "stream",
     "text": [
      "Failed to lookup font 'FreeSans.ttf', falling back to default\n"
     ]
    },
    {
     "name": "stdout",
     "output_type": "stream",
     "text": [
      "Iteration: 245, named_losses: [('ActivationMax Loss', -115038.664),\n",
      " ('L-6.0 Norm Loss', 9.6848335e-06),\n",
      " ('TV(2.0) Loss', 15.126723)], overall loss: -115023.5390625\n"
     ]
    },
    {
     "name": "stderr",
     "output_type": "stream",
     "text": [
      "Failed to lookup font 'FreeSans.ttf', falling back to default\n"
     ]
    },
    {
     "name": "stdout",
     "output_type": "stream",
     "text": [
      "Iteration: 246, named_losses: [('ActivationMax Loss', -115454.39),\n",
      " ('L-6.0 Norm Loss', 9.7064485e-06),\n",
      " ('TV(2.0) Loss', 15.2514715)], overall loss: -115439.140625\n"
     ]
    },
    {
     "name": "stderr",
     "output_type": "stream",
     "text": [
      "Failed to lookup font 'FreeSans.ttf', falling back to default\n"
     ]
    },
    {
     "name": "stdout",
     "output_type": "stream",
     "text": [
      "Iteration: 247, named_losses: [('ActivationMax Loss', -115945.37),\n",
      " ('L-6.0 Norm Loss', 9.726699e-06),\n",
      " ('TV(2.0) Loss', 15.368775)], overall loss: -115930.0\n"
     ]
    },
    {
     "name": "stderr",
     "output_type": "stream",
     "text": [
      "Failed to lookup font 'FreeSans.ttf', falling back to default\n"
     ]
    },
    {
     "name": "stdout",
     "output_type": "stream",
     "text": [
      "Iteration: 248, named_losses: [('ActivationMax Loss', -116349.35),\n",
      " ('L-6.0 Norm Loss', 9.747382e-06),\n",
      " ('TV(2.0) Loss', 15.491119)], overall loss: -116333.859375\n"
     ]
    },
    {
     "name": "stderr",
     "output_type": "stream",
     "text": [
      "Failed to lookup font 'FreeSans.ttf', falling back to default\n"
     ]
    },
    {
     "name": "stdout",
     "output_type": "stream",
     "text": [
      "Iteration: 249, named_losses: [('ActivationMax Loss', -116847.8),\n",
      " ('L-6.0 Norm Loss', 9.7678585e-06),\n",
      " ('TV(2.0) Loss', 15.61288)], overall loss: -116832.1875\n"
     ]
    },
    {
     "name": "stderr",
     "output_type": "stream",
     "text": [
      "Failed to lookup font 'FreeSans.ttf', falling back to default\n"
     ]
    },
    {
     "name": "stdout",
     "output_type": "stream",
     "text": [
      "Iteration: 250, named_losses: [('ActivationMax Loss', -117198.72),\n",
      " ('L-6.0 Norm Loss', 9.787478e-06),\n",
      " ('TV(2.0) Loss', 15.729235)], overall loss: -117182.9921875\n"
     ]
    },
    {
     "name": "stderr",
     "output_type": "stream",
     "text": [
      "Failed to lookup font 'FreeSans.ttf', falling back to default\n"
     ]
    },
    {
     "name": "stdout",
     "output_type": "stream",
     "text": [
      "Iteration: 251, named_losses: [('ActivationMax Loss', -117729.83),\n",
      " ('L-6.0 Norm Loss', 9.809572e-06),\n",
      " ('TV(2.0) Loss', 15.858305)], overall loss: -117713.96875\n"
     ]
    },
    {
     "name": "stderr",
     "output_type": "stream",
     "text": [
      "Failed to lookup font 'FreeSans.ttf', falling back to default\n"
     ]
    },
    {
     "name": "stdout",
     "output_type": "stream",
     "text": [
      "Iteration: 252, named_losses: [('ActivationMax Loss', -118118.12),\n",
      " ('L-6.0 Norm Loss', 9.830959e-06),\n",
      " ('TV(2.0) Loss', 15.984995)], overall loss: -118102.1328125\n"
     ]
    },
    {
     "name": "stderr",
     "output_type": "stream",
     "text": [
      "Failed to lookup font 'FreeSans.ttf', falling back to default\n"
     ]
    },
    {
     "name": "stdout",
     "output_type": "stream",
     "text": [
      "Iteration: 253, named_losses: [('ActivationMax Loss', -118509.68),\n",
      " ('L-6.0 Norm Loss', 9.850371e-06),\n",
      " ('TV(2.0) Loss', 16.106398)], overall loss: -118493.5703125\n"
     ]
    },
    {
     "name": "stderr",
     "output_type": "stream",
     "text": [
      "Failed to lookup font 'FreeSans.ttf', falling back to default\n"
     ]
    },
    {
     "name": "stdout",
     "output_type": "stream",
     "text": [
      "Iteration: 254, named_losses: [('ActivationMax Loss', -118898.21),\n",
      " ('L-6.0 Norm Loss', 9.870753e-06),\n",
      " ('TV(2.0) Loss', 16.227852)], overall loss: -118881.984375\n"
     ]
    },
    {
     "name": "stderr",
     "output_type": "stream",
     "text": [
      "Failed to lookup font 'FreeSans.ttf', falling back to default\n"
     ]
    },
    {
     "name": "stdout",
     "output_type": "stream",
     "text": [
      "Iteration: 255, named_losses: [('ActivationMax Loss', -119283.32),\n",
      " ('L-6.0 Norm Loss', 9.890842e-06),\n",
      " ('TV(2.0) Loss', 16.349253)], overall loss: -119266.96875\n"
     ]
    },
    {
     "name": "stderr",
     "output_type": "stream",
     "text": [
      "Failed to lookup font 'FreeSans.ttf', falling back to default\n"
     ]
    },
    {
     "name": "stdout",
     "output_type": "stream",
     "text": [
      "Iteration: 256, named_losses: [('ActivationMax Loss', -119810.086),\n",
      " ('L-6.0 Norm Loss', 9.9112e-06),\n",
      " ('TV(2.0) Loss', 16.469685)], overall loss: -119793.6171875\n"
     ]
    },
    {
     "name": "stderr",
     "output_type": "stream",
     "text": [
      "Failed to lookup font 'FreeSans.ttf', falling back to default\n"
     ]
    },
    {
     "name": "stdout",
     "output_type": "stream",
     "text": [
      "Iteration: 257, named_losses: [('ActivationMax Loss', -120281.68),\n",
      " ('L-6.0 Norm Loss', 9.93137e-06),\n",
      " ('TV(2.0) Loss', 16.594606)], overall loss: -120265.0859375\n"
     ]
    },
    {
     "name": "stderr",
     "output_type": "stream",
     "text": [
      "Failed to lookup font 'FreeSans.ttf', falling back to default\n"
     ]
    },
    {
     "name": "stdout",
     "output_type": "stream",
     "text": [
      "Iteration: 258, named_losses: [('ActivationMax Loss', -120620.95),\n",
      " ('L-6.0 Norm Loss', 9.953554e-06),\n",
      " ('TV(2.0) Loss', 16.73006)], overall loss: -120604.2265625\n"
     ]
    },
    {
     "name": "stderr",
     "output_type": "stream",
     "text": [
      "Failed to lookup font 'FreeSans.ttf', falling back to default\n"
     ]
    },
    {
     "name": "stdout",
     "output_type": "stream",
     "text": [
      "Iteration: 259, named_losses: [('ActivationMax Loss', -121046.26),\n",
      " ('L-6.0 Norm Loss', 9.9720855e-06),\n",
      " ('TV(2.0) Loss', 16.841543)], overall loss: -121029.4140625\n"
     ]
    },
    {
     "name": "stderr",
     "output_type": "stream",
     "text": [
      "Failed to lookup font 'FreeSans.ttf', falling back to default\n"
     ]
    },
    {
     "name": "stdout",
     "output_type": "stream",
     "text": [
      "Iteration: 260, named_losses: [('ActivationMax Loss', -121473.98),\n",
      " ('L-6.0 Norm Loss', 9.99361e-06),\n",
      " ('TV(2.0) Loss', 16.969126)], overall loss: -121457.0078125\n"
     ]
    },
    {
     "name": "stderr",
     "output_type": "stream",
     "text": [
      "Failed to lookup font 'FreeSans.ttf', falling back to default\n"
     ]
    },
    {
     "name": "stdout",
     "output_type": "stream",
     "text": [
      "Iteration: 261, named_losses: [('ActivationMax Loss', -121893.086),\n",
      " ('L-6.0 Norm Loss', 1.0013431e-05),\n",
      " ('TV(2.0) Loss', 17.095596)], overall loss: -121875.9921875\n"
     ]
    },
    {
     "name": "stderr",
     "output_type": "stream",
     "text": [
      "Failed to lookup font 'FreeSans.ttf', falling back to default\n"
     ]
    },
    {
     "name": "stdout",
     "output_type": "stream",
     "text": [
      "Iteration: 262, named_losses: [('ActivationMax Loss', -122338.086),\n",
      " ('L-6.0 Norm Loss', 1.0034237e-05),\n",
      " ('TV(2.0) Loss', 17.220078)], overall loss: -122320.8671875\n"
     ]
    },
    {
     "name": "stderr",
     "output_type": "stream",
     "text": [
      "Failed to lookup font 'FreeSans.ttf', falling back to default\n"
     ]
    },
    {
     "name": "stdout",
     "output_type": "stream",
     "text": [
      "Iteration: 263, named_losses: [('ActivationMax Loss', -122687.46),\n",
      " ('L-6.0 Norm Loss', 1.00544785e-05),\n",
      " ('TV(2.0) Loss', 17.344547)], overall loss: -122670.1171875\n"
     ]
    },
    {
     "name": "stderr",
     "output_type": "stream",
     "text": [
      "Failed to lookup font 'FreeSans.ttf', falling back to default\n"
     ]
    },
    {
     "name": "stdout",
     "output_type": "stream",
     "text": [
      "Iteration: 264, named_losses: [('ActivationMax Loss', -123246.01),\n",
      " ('L-6.0 Norm Loss', 1.0076006e-05),\n",
      " ('TV(2.0) Loss', 17.476511)], overall loss: -123228.53125\n"
     ]
    },
    {
     "name": "stderr",
     "output_type": "stream",
     "text": [
      "Failed to lookup font 'FreeSans.ttf', falling back to default\n"
     ]
    },
    {
     "name": "stdout",
     "output_type": "stream",
     "text": [
      "Iteration: 265, named_losses: [('ActivationMax Loss', -123745.46),\n",
      " ('L-6.0 Norm Loss', 1.009745e-05),\n",
      " ('TV(2.0) Loss', 17.60816)], overall loss: -123727.8515625\n"
     ]
    },
    {
     "name": "stderr",
     "output_type": "stream",
     "text": [
      "Failed to lookup font 'FreeSans.ttf', falling back to default\n"
     ]
    },
    {
     "name": "stdout",
     "output_type": "stream",
     "text": [
      "Iteration: 266, named_losses: [('ActivationMax Loss', -124024.71),\n",
      " ('L-6.0 Norm Loss', 1.0117984e-05),\n",
      " ('TV(2.0) Loss', 17.739553)], overall loss: -124006.96875\n"
     ]
    },
    {
     "name": "stderr",
     "output_type": "stream",
     "text": [
      "Failed to lookup font 'FreeSans.ttf', falling back to default\n"
     ]
    },
    {
     "name": "stdout",
     "output_type": "stream",
     "text": [
      "Iteration: 267, named_losses: [('ActivationMax Loss', -124524.9),\n",
      " ('L-6.0 Norm Loss', 1.0137857e-05),\n",
      " ('TV(2.0) Loss', 17.861599)], overall loss: -124507.0390625\n"
     ]
    },
    {
     "name": "stderr",
     "output_type": "stream",
     "text": [
      "Failed to lookup font 'FreeSans.ttf', falling back to default\n"
     ]
    },
    {
     "name": "stdout",
     "output_type": "stream",
     "text": [
      "Iteration: 268, named_losses: [('ActivationMax Loss', -124909.92),\n",
      " ('L-6.0 Norm Loss', 1.0161302e-05),\n",
      " ('TV(2.0) Loss', 18.007265)], overall loss: -124891.9140625\n"
     ]
    },
    {
     "name": "stderr",
     "output_type": "stream",
     "text": [
      "Failed to lookup font 'FreeSans.ttf', falling back to default\n"
     ]
    },
    {
     "name": "stdout",
     "output_type": "stream",
     "text": [
      "Iteration: 269, named_losses: [('ActivationMax Loss', -125377.336),\n",
      " ('L-6.0 Norm Loss', 1.01795085e-05),\n",
      " ('TV(2.0) Loss', 18.125055)], overall loss: -125359.2109375\n"
     ]
    },
    {
     "name": "stderr",
     "output_type": "stream",
     "text": [
      "Failed to lookup font 'FreeSans.ttf', falling back to default\n"
     ]
    },
    {
     "name": "stdout",
     "output_type": "stream",
     "text": [
      "Iteration: 270, named_losses: [('ActivationMax Loss', -125864.336),\n",
      " ('L-6.0 Norm Loss', 1.0202003e-05),\n",
      " ('TV(2.0) Loss', 18.263334)], overall loss: -125846.0703125\n"
     ]
    },
    {
     "name": "stderr",
     "output_type": "stream",
     "text": [
      "Failed to lookup font 'FreeSans.ttf', falling back to default\n"
     ]
    },
    {
     "name": "stdout",
     "output_type": "stream",
     "text": [
      "Iteration: 271, named_losses: [('ActivationMax Loss', -126242.98),\n",
      " ('L-6.0 Norm Loss', 1.0222541e-05),\n",
      " ('TV(2.0) Loss', 18.392326)], overall loss: -126224.5859375\n"
     ]
    },
    {
     "name": "stderr",
     "output_type": "stream",
     "text": [
      "Failed to lookup font 'FreeSans.ttf', falling back to default\n"
     ]
    },
    {
     "name": "stdout",
     "output_type": "stream",
     "text": [
      "Iteration: 272, named_losses: [('ActivationMax Loss', -126683.266),\n",
      " ('L-6.0 Norm Loss', 1.02448e-05),\n",
      " ('TV(2.0) Loss', 18.537878)], overall loss: -126664.7265625\n"
     ]
    },
    {
     "name": "stderr",
     "output_type": "stream",
     "text": [
      "Failed to lookup font 'FreeSans.ttf', falling back to default\n"
     ]
    },
    {
     "name": "stdout",
     "output_type": "stream",
     "text": [
      "Iteration: 273, named_losses: [('ActivationMax Loss', -127151.414),\n",
      " ('L-6.0 Norm Loss', 1.0265215e-05),\n",
      " ('TV(2.0) Loss', 18.667877)], overall loss: -127132.75\n"
     ]
    },
    {
     "name": "stderr",
     "output_type": "stream",
     "text": [
      "Failed to lookup font 'FreeSans.ttf', falling back to default\n"
     ]
    },
    {
     "name": "stdout",
     "output_type": "stream",
     "text": [
      "Iteration: 274, named_losses: [('ActivationMax Loss', -127568.15),\n",
      " ('L-6.0 Norm Loss', 1.0285606e-05),\n",
      " ('TV(2.0) Loss', 18.798113)], overall loss: -127549.3515625\n"
     ]
    },
    {
     "name": "stderr",
     "output_type": "stream",
     "text": [
      "Failed to lookup font 'FreeSans.ttf', falling back to default\n"
     ]
    },
    {
     "name": "stdout",
     "output_type": "stream",
     "text": [
      "Iteration: 275, named_losses: [('ActivationMax Loss', -127870.195),\n",
      " ('L-6.0 Norm Loss', 1.030699e-05),\n",
      " ('TV(2.0) Loss', 18.937647)], overall loss: -127851.2578125\n"
     ]
    },
    {
     "name": "stderr",
     "output_type": "stream",
     "text": [
      "Failed to lookup font 'FreeSans.ttf', falling back to default\n"
     ]
    },
    {
     "name": "stdout",
     "output_type": "stream",
     "text": [
      "Iteration: 276, named_losses: [('ActivationMax Loss', -128468.59),\n",
      " ('L-6.0 Norm Loss', 1.0327811e-05),\n",
      " ('TV(2.0) Loss', 19.066427)], overall loss: -128449.5234375\n"
     ]
    },
    {
     "name": "stderr",
     "output_type": "stream",
     "text": [
      "Failed to lookup font 'FreeSans.ttf', falling back to default\n"
     ]
    },
    {
     "name": "stdout",
     "output_type": "stream",
     "text": [
      "Iteration: 277, named_losses: [('ActivationMax Loss', -128769.39),\n",
      " ('L-6.0 Norm Loss', 1.0349629e-05),\n",
      " ('TV(2.0) Loss', 19.214066)], overall loss: -128750.1796875\n"
     ]
    },
    {
     "name": "stderr",
     "output_type": "stream",
     "text": [
      "Failed to lookup font 'FreeSans.ttf', falling back to default\n"
     ]
    },
    {
     "name": "stdout",
     "output_type": "stream",
     "text": [
      "Iteration: 278, named_losses: [('ActivationMax Loss', -129311.305),\n",
      " ('L-6.0 Norm Loss', 1.0369845e-05),\n",
      " ('TV(2.0) Loss', 19.343054)], overall loss: -129291.9609375\n"
     ]
    },
    {
     "name": "stderr",
     "output_type": "stream",
     "text": [
      "Failed to lookup font 'FreeSans.ttf', falling back to default\n"
     ]
    },
    {
     "name": "stdout",
     "output_type": "stream",
     "text": [
      "Iteration: 279, named_losses: [('ActivationMax Loss', -129665.195),\n",
      " ('L-6.0 Norm Loss', 1.0391908e-05),\n",
      " ('TV(2.0) Loss', 19.48148)], overall loss: -129645.7109375\n"
     ]
    },
    {
     "name": "stderr",
     "output_type": "stream",
     "text": [
      "Failed to lookup font 'FreeSans.ttf', falling back to default\n"
     ]
    },
    {
     "name": "stdout",
     "output_type": "stream",
     "text": [
      "Iteration: 280, named_losses: [('ActivationMax Loss', -130114.65),\n",
      " ('L-6.0 Norm Loss', 1.0410659e-05),\n",
      " ('TV(2.0) Loss', 19.608873)], overall loss: -130095.0390625\n"
     ]
    },
    {
     "name": "stderr",
     "output_type": "stream",
     "text": [
      "Failed to lookup font 'FreeSans.ttf', falling back to default\n"
     ]
    },
    {
     "name": "stdout",
     "output_type": "stream",
     "text": [
      "Iteration: 281, named_losses: [('ActivationMax Loss', -130449.51),\n",
      " ('L-6.0 Norm Loss', 1.0432383e-05),\n",
      " ('TV(2.0) Loss', 19.751343)], overall loss: -130429.7578125\n"
     ]
    },
    {
     "name": "stderr",
     "output_type": "stream",
     "text": [
      "Failed to lookup font 'FreeSans.ttf', falling back to default\n"
     ]
    },
    {
     "name": "stdout",
     "output_type": "stream",
     "text": [
      "Iteration: 282, named_losses: [('ActivationMax Loss', -131077.48),\n",
      " ('L-6.0 Norm Loss', 1.04541405e-05),\n",
      " ('TV(2.0) Loss', 19.8914)], overall loss: -131057.59375\n"
     ]
    },
    {
     "name": "stderr",
     "output_type": "stream",
     "text": [
      "Failed to lookup font 'FreeSans.ttf', falling back to default\n"
     ]
    },
    {
     "name": "stdout",
     "output_type": "stream",
     "text": [
      "Iteration: 283, named_losses: [('ActivationMax Loss', -131458.55),\n",
      " ('L-6.0 Norm Loss', 1.0475784e-05),\n",
      " ('TV(2.0) Loss', 20.0339)], overall loss: -131438.515625\n"
     ]
    },
    {
     "name": "stderr",
     "output_type": "stream",
     "text": [
      "Failed to lookup font 'FreeSans.ttf', falling back to default\n"
     ]
    },
    {
     "name": "stdout",
     "output_type": "stream",
     "text": [
      "Iteration: 284, named_losses: [('ActivationMax Loss', -131817.92),\n",
      " ('L-6.0 Norm Loss', 1.04955425e-05),\n",
      " ('TV(2.0) Loss', 20.166311)], overall loss: -131797.75\n"
     ]
    },
    {
     "name": "stderr",
     "output_type": "stream",
     "text": [
      "Failed to lookup font 'FreeSans.ttf', falling back to default\n"
     ]
    },
    {
     "name": "stdout",
     "output_type": "stream",
     "text": [
      "Iteration: 285, named_losses: [('ActivationMax Loss', -132238.9),\n",
      " ('L-6.0 Norm Loss', 1.0517494e-05),\n",
      " ('TV(2.0) Loss', 20.313206)], overall loss: -132218.59375\n"
     ]
    },
    {
     "name": "stderr",
     "output_type": "stream",
     "text": [
      "Failed to lookup font 'FreeSans.ttf', falling back to default\n"
     ]
    },
    {
     "name": "stdout",
     "output_type": "stream",
     "text": [
      "Iteration: 286, named_losses: [('ActivationMax Loss', -132764.84),\n",
      " ('L-6.0 Norm Loss', 1.0539175e-05),\n",
      " ('TV(2.0) Loss', 20.449886)], overall loss: -132744.390625\n"
     ]
    },
    {
     "name": "stderr",
     "output_type": "stream",
     "text": [
      "Failed to lookup font 'FreeSans.ttf', falling back to default\n"
     ]
    },
    {
     "name": "stdout",
     "output_type": "stream",
     "text": [
      "Iteration: 287, named_losses: [('ActivationMax Loss', -133122.86),\n",
      " ('L-6.0 Norm Loss', 1.0561129e-05),\n",
      " ('TV(2.0) Loss', 20.602602)], overall loss: -133102.25\n"
     ]
    },
    {
     "name": "stderr",
     "output_type": "stream",
     "text": [
      "Failed to lookup font 'FreeSans.ttf', falling back to default\n"
     ]
    },
    {
     "name": "stdout",
     "output_type": "stream",
     "text": [
      "Iteration: 288, named_losses: [('ActivationMax Loss', -133619.12),\n",
      " ('L-6.0 Norm Loss', 1.0581008e-05),\n",
      " ('TV(2.0) Loss', 20.737993)], overall loss: -133598.390625\n"
     ]
    },
    {
     "name": "stderr",
     "output_type": "stream",
     "text": [
      "Failed to lookup font 'FreeSans.ttf', falling back to default\n"
     ]
    },
    {
     "name": "stdout",
     "output_type": "stream",
     "text": [
      "Iteration: 289, named_losses: [('ActivationMax Loss', -133928.73),\n",
      " ('L-6.0 Norm Loss', 1.0603386e-05),\n",
      " ('TV(2.0) Loss', 20.882486)], overall loss: -133907.859375\n"
     ]
    },
    {
     "name": "stderr",
     "output_type": "stream",
     "text": [
      "Failed to lookup font 'FreeSans.ttf', falling back to default\n"
     ]
    },
    {
     "name": "stdout",
     "output_type": "stream",
     "text": [
      "Iteration: 290, named_losses: [('ActivationMax Loss', -134467.64),\n",
      " ('L-6.0 Norm Loss', 1.0622343e-05),\n",
      " ('TV(2.0) Loss', 21.010761)], overall loss: -134446.625\n"
     ]
    },
    {
     "name": "stderr",
     "output_type": "stream",
     "text": [
      "Failed to lookup font 'FreeSans.ttf', falling back to default\n"
     ]
    },
    {
     "name": "stdout",
     "output_type": "stream",
     "text": [
      "Iteration: 291, named_losses: [('ActivationMax Loss', -134720.14),\n",
      " ('L-6.0 Norm Loss', 1.0645618e-05),\n",
      " ('TV(2.0) Loss', 21.16715)], overall loss: -134698.96875\n"
     ]
    },
    {
     "name": "stderr",
     "output_type": "stream",
     "text": [
      "Failed to lookup font 'FreeSans.ttf', falling back to default\n"
     ]
    },
    {
     "name": "stdout",
     "output_type": "stream",
     "text": [
      "Iteration: 292, named_losses: [('ActivationMax Loss', -135261.3),\n",
      " ('L-6.0 Norm Loss', 1.0664831e-05),\n",
      " ('TV(2.0) Loss', 21.29967)], overall loss: -135240.0\n"
     ]
    },
    {
     "name": "stderr",
     "output_type": "stream",
     "text": [
      "Failed to lookup font 'FreeSans.ttf', falling back to default\n"
     ]
    },
    {
     "name": "stdout",
     "output_type": "stream",
     "text": [
      "Iteration: 293, named_losses: [('ActivationMax Loss', -135711.55),\n",
      " ('L-6.0 Norm Loss', 1.0686572e-05),\n",
      " ('TV(2.0) Loss', 21.444483)], overall loss: -135690.109375\n"
     ]
    },
    {
     "name": "stderr",
     "output_type": "stream",
     "text": [
      "Failed to lookup font 'FreeSans.ttf', falling back to default\n"
     ]
    },
    {
     "name": "stdout",
     "output_type": "stream",
     "text": [
      "Iteration: 294, named_losses: [('ActivationMax Loss', -136172.34),\n",
      " ('L-6.0 Norm Loss', 1.0707582e-05),\n",
      " ('TV(2.0) Loss', 21.588137)], overall loss: -136150.75\n"
     ]
    },
    {
     "name": "stderr",
     "output_type": "stream",
     "text": [
      "Failed to lookup font 'FreeSans.ttf', falling back to default\n"
     ]
    },
    {
     "name": "stdout",
     "output_type": "stream",
     "text": [
      "Iteration: 295, named_losses: [('ActivationMax Loss', -136609.03),\n",
      " ('L-6.0 Norm Loss', 1.073045e-05),\n",
      " ('TV(2.0) Loss', 21.741922)], overall loss: -136587.296875\n"
     ]
    },
    {
     "name": "stderr",
     "output_type": "stream",
     "text": [
      "Failed to lookup font 'FreeSans.ttf', falling back to default\n"
     ]
    },
    {
     "name": "stdout",
     "output_type": "stream",
     "text": [
      "Iteration: 296, named_losses: [('ActivationMax Loss', -137013.39),\n",
      " ('L-6.0 Norm Loss', 1.0750989e-05),\n",
      " ('TV(2.0) Loss', 21.884422)], overall loss: -136991.5\n"
     ]
    },
    {
     "name": "stderr",
     "output_type": "stream",
     "text": [
      "Failed to lookup font 'FreeSans.ttf', falling back to default\n"
     ]
    },
    {
     "name": "stdout",
     "output_type": "stream",
     "text": [
      "Iteration: 297, named_losses: [('ActivationMax Loss', -137452.12),\n",
      " ('L-6.0 Norm Loss', 1.0774022e-05),\n",
      " ('TV(2.0) Loss', 22.040947)], overall loss: -137430.078125\n"
     ]
    },
    {
     "name": "stderr",
     "output_type": "stream",
     "text": [
      "Failed to lookup font 'FreeSans.ttf', falling back to default\n"
     ]
    },
    {
     "name": "stdout",
     "output_type": "stream",
     "text": [
      "Iteration: 298, named_losses: [('ActivationMax Loss', -137781.61),\n",
      " ('L-6.0 Norm Loss', 1.0795038e-05),\n",
      " ('TV(2.0) Loss', 22.186663)], overall loss: -137759.421875\n"
     ]
    },
    {
     "name": "stderr",
     "output_type": "stream",
     "text": [
      "Failed to lookup font 'FreeSans.ttf', falling back to default\n"
     ]
    },
    {
     "name": "stdout",
     "output_type": "stream",
     "text": [
      "Iteration: 299, named_losses: [('ActivationMax Loss', -138325.4),\n",
      " ('L-6.0 Norm Loss', 1.0815755e-05),\n",
      " ('TV(2.0) Loss', 22.335283)], overall loss: -138303.078125\n"
     ]
    },
    {
     "name": "stderr",
     "output_type": "stream",
     "text": [
      "Failed to lookup font 'FreeSans.ttf', falling back to default\n"
     ]
    },
    {
     "name": "stdout",
     "output_type": "stream",
     "text": [
      "Iteration: 300, named_losses: [('ActivationMax Loss', -138762.38),\n",
      " ('L-6.0 Norm Loss', 1.0836427e-05),\n",
      " ('TV(2.0) Loss', 22.47573)], overall loss: -138739.90625\n"
     ]
    },
    {
     "name": "stderr",
     "output_type": "stream",
     "text": [
      "Failed to lookup font 'FreeSans.ttf', falling back to default\n"
     ]
    },
    {
     "name": "stdout",
     "output_type": "stream",
     "text": [
      "Iteration: 301, named_losses: [('ActivationMax Loss', -139097.39),\n",
      " ('L-6.0 Norm Loss', 1.08594195e-05),\n",
      " ('TV(2.0) Loss', 22.635454)], overall loss: -139074.75\n",
      "Iteration: 302, named_losses: [('ActivationMax Loss', -139578.62),\n",
      " ('L-6.0 Norm Loss', 1.0878838e-05),\n",
      " ('TV(2.0) Loss', 22.769388)], overall loss: -139555.859375\n"
     ]
    },
    {
     "name": "stderr",
     "output_type": "stream",
     "text": [
      "Failed to lookup font 'FreeSans.ttf', falling back to default\n",
      "Failed to lookup font 'FreeSans.ttf', falling back to default\n"
     ]
    },
    {
     "name": "stdout",
     "output_type": "stream",
     "text": [
      "Iteration: 303, named_losses: [('ActivationMax Loss', -140110.97),\n",
      " ('L-6.0 Norm Loss', 1.09011025e-05),\n",
      " ('TV(2.0) Loss', 22.92441)], overall loss: -140088.046875\n"
     ]
    },
    {
     "name": "stderr",
     "output_type": "stream",
     "text": [
      "Failed to lookup font 'FreeSans.ttf', falling back to default\n"
     ]
    },
    {
     "name": "stdout",
     "output_type": "stream",
     "text": [
      "Iteration: 304, named_losses: [('ActivationMax Loss', -140508.28),\n",
      " ('L-6.0 Norm Loss', 1.0924116e-05),\n",
      " ('TV(2.0) Loss', 23.080181)], overall loss: -140485.203125\n"
     ]
    },
    {
     "name": "stderr",
     "output_type": "stream",
     "text": [
      "Failed to lookup font 'FreeSans.ttf', falling back to default\n"
     ]
    },
    {
     "name": "stdout",
     "output_type": "stream",
     "text": [
      "Iteration: 305, named_losses: [('ActivationMax Loss', -140883.95),\n",
      " ('L-6.0 Norm Loss', 1.094474e-05),\n",
      " ('TV(2.0) Loss', 23.23165)], overall loss: -140860.71875\n"
     ]
    },
    {
     "name": "stderr",
     "output_type": "stream",
     "text": [
      "Failed to lookup font 'FreeSans.ttf', falling back to default\n"
     ]
    },
    {
     "name": "stdout",
     "output_type": "stream",
     "text": [
      "Iteration: 306, named_losses: [('ActivationMax Loss', -141368.86),\n",
      " ('L-6.0 Norm Loss', 1.096586e-05),\n",
      " ('TV(2.0) Loss', 23.38223)], overall loss: -141345.484375\n"
     ]
    },
    {
     "name": "stderr",
     "output_type": "stream",
     "text": [
      "Failed to lookup font 'FreeSans.ttf', falling back to default\n"
     ]
    },
    {
     "name": "stdout",
     "output_type": "stream",
     "text": [
      "Iteration: 307, named_losses: [('ActivationMax Loss', -141740.25),\n",
      " ('L-6.0 Norm Loss', 1.0986544e-05),\n",
      " ('TV(2.0) Loss', 23.528482)], overall loss: -141716.71875\n"
     ]
    },
    {
     "name": "stderr",
     "output_type": "stream",
     "text": [
      "Failed to lookup font 'FreeSans.ttf', falling back to default\n"
     ]
    },
    {
     "name": "stdout",
     "output_type": "stream",
     "text": [
      "Iteration: 308, named_losses: [('ActivationMax Loss', -142241.27),\n",
      " ('L-6.0 Norm Loss', 1.1008917e-05),\n",
      " ('TV(2.0) Loss', 23.685488)], overall loss: -142217.578125\n"
     ]
    },
    {
     "name": "stderr",
     "output_type": "stream",
     "text": [
      "Failed to lookup font 'FreeSans.ttf', falling back to default\n"
     ]
    },
    {
     "name": "stdout",
     "output_type": "stream",
     "text": [
      "Iteration: 309, named_losses: [('ActivationMax Loss', -142645.64),\n",
      " ('L-6.0 Norm Loss', 1.10300525e-05),\n",
      " ('TV(2.0) Loss', 23.833761)], overall loss: -142621.8125\n",
      "Iteration: 310, named_losses: [('ActivationMax Loss', -143064.08),\n",
      " ('L-6.0 Norm Loss', 1.1051807e-05),\n",
      " ('TV(2.0) Loss', 23.994673)], overall loss: -143040.078125\n"
     ]
    },
    {
     "name": "stderr",
     "output_type": "stream",
     "text": [
      "Failed to lookup font 'FreeSans.ttf', falling back to default\n",
      "Failed to lookup font 'FreeSans.ttf', falling back to default\n"
     ]
    },
    {
     "name": "stdout",
     "output_type": "stream",
     "text": [
      "Iteration: 311, named_losses: [('ActivationMax Loss', -143493.22),\n",
      " ('L-6.0 Norm Loss', 1.1072727e-05),\n",
      " ('TV(2.0) Loss', 24.145414)], overall loss: -143469.078125\n"
     ]
    },
    {
     "name": "stderr",
     "output_type": "stream",
     "text": [
      "Failed to lookup font 'FreeSans.ttf', falling back to default\n"
     ]
    },
    {
     "name": "stdout",
     "output_type": "stream",
     "text": [
      "Iteration: 312, named_losses: [('ActivationMax Loss', -143953.38),\n",
      " ('L-6.0 Norm Loss', 1.1094476e-05),\n",
      " ('TV(2.0) Loss', 24.300014)], overall loss: -143929.078125\n"
     ]
    },
    {
     "name": "stderr",
     "output_type": "stream",
     "text": [
      "Failed to lookup font 'FreeSans.ttf', falling back to default\n"
     ]
    },
    {
     "name": "stdout",
     "output_type": "stream",
     "text": [
      "Iteration: 313, named_losses: [('ActivationMax Loss', -144409.0),\n",
      " ('L-6.0 Norm Loss', 1.1114352e-05),\n",
      " ('TV(2.0) Loss', 24.440208)], overall loss: -144384.5625\n"
     ]
    },
    {
     "name": "stderr",
     "output_type": "stream",
     "text": [
      "Failed to lookup font 'FreeSans.ttf', falling back to default\n"
     ]
    },
    {
     "name": "stdout",
     "output_type": "stream",
     "text": [
      "Iteration: 314, named_losses: [('ActivationMax Loss', -144755.2),\n",
      " ('L-6.0 Norm Loss', 1.11358095e-05),\n",
      " ('TV(2.0) Loss', 24.59469)], overall loss: -144730.609375\n"
     ]
    },
    {
     "name": "stderr",
     "output_type": "stream",
     "text": [
      "Failed to lookup font 'FreeSans.ttf', falling back to default\n"
     ]
    },
    {
     "name": "stdout",
     "output_type": "stream",
     "text": [
      "Iteration: 315, named_losses: [('ActivationMax Loss', -145199.64),\n",
      " ('L-6.0 Norm Loss', 1.1156837e-05),\n",
      " ('TV(2.0) Loss', 24.752531)], overall loss: -145174.890625\n"
     ]
    },
    {
     "name": "stderr",
     "output_type": "stream",
     "text": [
      "Failed to lookup font 'FreeSans.ttf', falling back to default\n"
     ]
    },
    {
     "name": "stdout",
     "output_type": "stream",
     "text": [
      "Iteration: 316, named_losses: [('ActivationMax Loss', -145677.67),\n",
      " ('L-6.0 Norm Loss', 1.1180096e-05),\n",
      " ('TV(2.0) Loss', 24.913969)], overall loss: -145652.765625\n"
     ]
    },
    {
     "name": "stderr",
     "output_type": "stream",
     "text": [
      "Failed to lookup font 'FreeSans.ttf', falling back to default\n"
     ]
    },
    {
     "name": "stdout",
     "output_type": "stream",
     "text": [
      "Iteration: 317, named_losses: [('ActivationMax Loss', -146080.36),\n",
      " ('L-6.0 Norm Loss', 1.1201157e-05),\n",
      " ('TV(2.0) Loss', 25.073421)], overall loss: -146055.28125\n"
     ]
    },
    {
     "name": "stderr",
     "output_type": "stream",
     "text": [
      "Failed to lookup font 'FreeSans.ttf', falling back to default\n"
     ]
    },
    {
     "name": "stdout",
     "output_type": "stream",
     "text": [
      "Iteration: 318, named_losses: [('ActivationMax Loss', -146522.64),\n",
      " ('L-6.0 Norm Loss', 1.1222173e-05),\n",
      " ('TV(2.0) Loss', 25.22025)], overall loss: -146497.421875\n",
      "Iteration: 319, named_losses: [('ActivationMax Loss', -147054.14),\n",
      " ('L-6.0 Norm Loss', 1.1242298e-05),\n",
      " ('TV(2.0) Loss', 25.374352)], overall loss: -147028.765625\n"
     ]
    },
    {
     "name": "stderr",
     "output_type": "stream",
     "text": [
      "Failed to lookup font 'FreeSans.ttf', falling back to default\n",
      "Failed to lookup font 'FreeSans.ttf', falling back to default\n"
     ]
    },
    {
     "name": "stdout",
     "output_type": "stream",
     "text": [
      "Iteration: 320, named_losses: [('ActivationMax Loss', -147402.77),\n",
      " ('L-6.0 Norm Loss', 1.1264069e-05),\n",
      " ('TV(2.0) Loss', 25.533865)], overall loss: -147377.234375\n"
     ]
    },
    {
     "name": "stderr",
     "output_type": "stream",
     "text": [
      "Failed to lookup font 'FreeSans.ttf', falling back to default\n"
     ]
    },
    {
     "name": "stdout",
     "output_type": "stream",
     "text": [
      "Iteration: 321, named_losses: [('ActivationMax Loss', -147851.55),\n",
      " ('L-6.0 Norm Loss', 1.1285952e-05),\n",
      " ('TV(2.0) Loss', 25.693684)], overall loss: -147825.859375\n"
     ]
    },
    {
     "name": "stderr",
     "output_type": "stream",
     "text": [
      "Failed to lookup font 'FreeSans.ttf', falling back to default\n"
     ]
    },
    {
     "name": "stdout",
     "output_type": "stream",
     "text": [
      "Iteration: 322, named_losses: [('ActivationMax Loss', -148283.78),\n",
      " ('L-6.0 Norm Loss', 1.1307824e-05),\n",
      " ('TV(2.0) Loss', 25.856606)], overall loss: -148257.921875\n"
     ]
    },
    {
     "name": "stderr",
     "output_type": "stream",
     "text": [
      "Failed to lookup font 'FreeSans.ttf', falling back to default\n"
     ]
    },
    {
     "name": "stdout",
     "output_type": "stream",
     "text": [
      "Iteration: 323, named_losses: [('ActivationMax Loss', -148668.7),\n",
      " ('L-6.0 Norm Loss', 1.1329559e-05),\n",
      " ('TV(2.0) Loss', 26.013895)], overall loss: -148642.6875\n"
     ]
    },
    {
     "name": "stderr",
     "output_type": "stream",
     "text": [
      "Failed to lookup font 'FreeSans.ttf', falling back to default\n"
     ]
    },
    {
     "name": "stdout",
     "output_type": "stream",
     "text": [
      "Iteration: 324, named_losses: [('ActivationMax Loss', -149040.62),\n",
      " ('L-6.0 Norm Loss', 1.1350441e-05),\n",
      " ('TV(2.0) Loss', 26.17311)], overall loss: -149014.453125\n"
     ]
    },
    {
     "name": "stderr",
     "output_type": "stream",
     "text": [
      "Failed to lookup font 'FreeSans.ttf', falling back to default\n"
     ]
    },
    {
     "name": "stdout",
     "output_type": "stream",
     "text": [
      "Iteration: 325, named_losses: [('ActivationMax Loss', -149724.17),\n",
      " ('L-6.0 Norm Loss', 1.13721035e-05),\n",
      " ('TV(2.0) Loss', 26.332684)], overall loss: -149697.84375\n"
     ]
    },
    {
     "name": "stderr",
     "output_type": "stream",
     "text": [
      "Failed to lookup font 'FreeSans.ttf', falling back to default\n"
     ]
    },
    {
     "name": "stdout",
     "output_type": "stream",
     "text": [
      "Iteration: 326, named_losses: [('ActivationMax Loss', -149970.88),\n",
      " ('L-6.0 Norm Loss', 1.1394525e-05),\n",
      " ('TV(2.0) Loss', 26.49849)], overall loss: -149944.375\n"
     ]
    },
    {
     "name": "stderr",
     "output_type": "stream",
     "text": [
      "Failed to lookup font 'FreeSans.ttf', falling back to default\n"
     ]
    },
    {
     "name": "stdout",
     "output_type": "stream",
     "text": [
      "Iteration: 327, named_losses: [('ActivationMax Loss', -150541.58),\n",
      " ('L-6.0 Norm Loss', 1.1416846e-05),\n",
      " ('TV(2.0) Loss', 26.667095)], overall loss: -150514.90625\n"
     ]
    },
    {
     "name": "stderr",
     "output_type": "stream",
     "text": [
      "Failed to lookup font 'FreeSans.ttf', falling back to default\n"
     ]
    },
    {
     "name": "stdout",
     "output_type": "stream",
     "text": [
      "Iteration: 328, named_losses: [('ActivationMax Loss', -150924.12),\n",
      " ('L-6.0 Norm Loss', 1.14399745e-05),\n",
      " ('TV(2.0) Loss', 26.847456)], overall loss: -150897.28125\n"
     ]
    },
    {
     "name": "stderr",
     "output_type": "stream",
     "text": [
      "Failed to lookup font 'FreeSans.ttf', falling back to default\n"
     ]
    },
    {
     "name": "stdout",
     "output_type": "stream",
     "text": [
      "Iteration: 329, named_losses: [('ActivationMax Loss', -151380.14),\n",
      " ('L-6.0 Norm Loss', 1.1460098e-05),\n",
      " ('TV(2.0) Loss', 26.994324)], overall loss: -151353.140625\n"
     ]
    },
    {
     "name": "stderr",
     "output_type": "stream",
     "text": [
      "Failed to lookup font 'FreeSans.ttf', falling back to default\n"
     ]
    },
    {
     "name": "stdout",
     "output_type": "stream",
     "text": [
      "Iteration: 330, named_losses: [('ActivationMax Loss', -151773.73),\n",
      " ('L-6.0 Norm Loss', 1.1482384e-05),\n",
      " ('TV(2.0) Loss', 27.164377)], overall loss: -151746.5625\n",
      "Iteration: 331, named_losses: [('ActivationMax Loss', -152290.06),\n",
      " ('L-6.0 Norm Loss', 1.1504071e-05),\n",
      " ('TV(2.0) Loss', 27.328676)], overall loss: -152262.734375\n"
     ]
    },
    {
     "name": "stderr",
     "output_type": "stream",
     "text": [
      "Failed to lookup font 'FreeSans.ttf', falling back to default\n",
      "Failed to lookup font 'FreeSans.ttf', falling back to default\n"
     ]
    },
    {
     "name": "stdout",
     "output_type": "stream",
     "text": [
      "Iteration: 332, named_losses: [('ActivationMax Loss', -152669.7),\n",
      " ('L-6.0 Norm Loss', 1.1525727e-05),\n",
      " ('TV(2.0) Loss', 27.488728)], overall loss: -152642.21875\n"
     ]
    },
    {
     "name": "stderr",
     "output_type": "stream",
     "text": [
      "Failed to lookup font 'FreeSans.ttf', falling back to default\n"
     ]
    },
    {
     "name": "stdout",
     "output_type": "stream",
     "text": [
      "Iteration: 333, named_losses: [('ActivationMax Loss', -152974.52),\n",
      " ('L-6.0 Norm Loss', 1.1546975e-05),\n",
      " ('TV(2.0) Loss', 27.657772)], overall loss: -152946.859375\n"
     ]
    },
    {
     "name": "stderr",
     "output_type": "stream",
     "text": [
      "Failed to lookup font 'FreeSans.ttf', falling back to default\n"
     ]
    },
    {
     "name": "stdout",
     "output_type": "stream",
     "text": [
      "Iteration: 334, named_losses: [('ActivationMax Loss', -153459.08),\n",
      " ('L-6.0 Norm Loss', 1.1566511e-05),\n",
      " ('TV(2.0) Loss', 27.80569)], overall loss: -153431.265625\n"
     ]
    },
    {
     "name": "stderr",
     "output_type": "stream",
     "text": [
      "Failed to lookup font 'FreeSans.ttf', falling back to default\n"
     ]
    },
    {
     "name": "stdout",
     "output_type": "stream",
     "text": [
      "Iteration: 335, named_losses: [('ActivationMax Loss', -153886.98),\n",
      " ('L-6.0 Norm Loss', 1.1588335e-05),\n",
      " ('TV(2.0) Loss', 27.97679)], overall loss: -153859.0\n"
     ]
    },
    {
     "name": "stderr",
     "output_type": "stream",
     "text": [
      "Failed to lookup font 'FreeSans.ttf', falling back to default\n"
     ]
    },
    {
     "name": "stdout",
     "output_type": "stream",
     "text": [
      "Iteration: 336, named_losses: [('ActivationMax Loss', -154401.08),\n",
      " ('L-6.0 Norm Loss', 1.1609506e-05),\n",
      " ('TV(2.0) Loss', 28.135326)], overall loss: -154372.9375\n"
     ]
    },
    {
     "name": "stderr",
     "output_type": "stream",
     "text": [
      "Failed to lookup font 'FreeSans.ttf', falling back to default\n"
     ]
    },
    {
     "name": "stdout",
     "output_type": "stream",
     "text": [
      "Iteration: 337, named_losses: [('ActivationMax Loss', -154806.48),\n",
      " ('L-6.0 Norm Loss', 1.1631294e-05),\n",
      " ('TV(2.0) Loss', 28.309813)], overall loss: -154778.171875\n"
     ]
    },
    {
     "name": "stderr",
     "output_type": "stream",
     "text": [
      "Failed to lookup font 'FreeSans.ttf', falling back to default\n"
     ]
    },
    {
     "name": "stdout",
     "output_type": "stream",
     "text": [
      "Iteration: 338, named_losses: [('ActivationMax Loss', -155146.14),\n",
      " ('L-6.0 Norm Loss', 1.1653289e-05),\n",
      " ('TV(2.0) Loss', 28.472908)], overall loss: -155117.671875\n"
     ]
    },
    {
     "name": "stderr",
     "output_type": "stream",
     "text": [
      "Failed to lookup font 'FreeSans.ttf', falling back to default\n"
     ]
    },
    {
     "name": "stdout",
     "output_type": "stream",
     "text": [
      "Iteration: 339, named_losses: [('ActivationMax Loss', -155552.95),\n",
      " ('L-6.0 Norm Loss', 1.1673638e-05),\n",
      " ('TV(2.0) Loss', 28.639347)], overall loss: -155524.3125\n"
     ]
    },
    {
     "name": "stderr",
     "output_type": "stream",
     "text": [
      "Failed to lookup font 'FreeSans.ttf', falling back to default\n"
     ]
    },
    {
     "name": "stdout",
     "output_type": "stream",
     "text": [
      "Iteration: 340, named_losses: [('ActivationMax Loss', -156135.98),\n",
      " ('L-6.0 Norm Loss', 1.1695498e-05),\n",
      " ('TV(2.0) Loss', 28.801884)], overall loss: -156107.1875\n"
     ]
    },
    {
     "name": "stderr",
     "output_type": "stream",
     "text": [
      "Failed to lookup font 'FreeSans.ttf', falling back to default\n"
     ]
    },
    {
     "name": "stdout",
     "output_type": "stream",
     "text": [
      "Iteration: 341, named_losses: [('ActivationMax Loss', -156586.5),\n",
      " ('L-6.0 Norm Loss', 1.1717391e-05),\n",
      " ('TV(2.0) Loss', 28.970354)], overall loss: -156557.53125\n"
     ]
    },
    {
     "name": "stderr",
     "output_type": "stream",
     "text": [
      "Failed to lookup font 'FreeSans.ttf', falling back to default\n"
     ]
    },
    {
     "name": "stdout",
     "output_type": "stream",
     "text": [
      "Iteration: 342, named_losses: [('ActivationMax Loss', -156935.4),\n",
      " ('L-6.0 Norm Loss', 1.1740139e-05),\n",
      " ('TV(2.0) Loss', 29.143421)], overall loss: -156906.265625\n"
     ]
    },
    {
     "name": "stderr",
     "output_type": "stream",
     "text": [
      "Failed to lookup font 'FreeSans.ttf', falling back to default\n"
     ]
    },
    {
     "name": "stdout",
     "output_type": "stream",
     "text": [
      "Iteration: 343, named_losses: [('ActivationMax Loss', -157348.05),\n",
      " ('L-6.0 Norm Loss', 1.1759608e-05),\n",
      " ('TV(2.0) Loss', 29.300823)], overall loss: -157318.75\n"
     ]
    },
    {
     "name": "stderr",
     "output_type": "stream",
     "text": [
      "Failed to lookup font 'FreeSans.ttf', falling back to default\n"
     ]
    },
    {
     "name": "stdout",
     "output_type": "stream",
     "text": [
      "Iteration: 344, named_losses: [('ActivationMax Loss', -157792.48),\n",
      " ('L-6.0 Norm Loss', 1.1781158e-05),\n",
      " ('TV(2.0) Loss', 29.466715)], overall loss: -157763.015625\n"
     ]
    },
    {
     "name": "stderr",
     "output_type": "stream",
     "text": [
      "Failed to lookup font 'FreeSans.ttf', falling back to default\n"
     ]
    },
    {
     "name": "stdout",
     "output_type": "stream",
     "text": [
      "Iteration: 345, named_losses: [('ActivationMax Loss', -158199.83),\n",
      " ('L-6.0 Norm Loss', 1.18017615e-05),\n",
      " ('TV(2.0) Loss', 29.631748)], overall loss: -158170.203125\n"
     ]
    },
    {
     "name": "stderr",
     "output_type": "stream",
     "text": [
      "Failed to lookup font 'FreeSans.ttf', falling back to default\n"
     ]
    },
    {
     "name": "stdout",
     "output_type": "stream",
     "text": [
      "Iteration: 346, named_losses: [('ActivationMax Loss', -158583.83),\n",
      " ('L-6.0 Norm Loss', 1.18234175e-05),\n",
      " ('TV(2.0) Loss', 29.79956)], overall loss: -158554.03125\n"
     ]
    },
    {
     "name": "stderr",
     "output_type": "stream",
     "text": [
      "Failed to lookup font 'FreeSans.ttf', falling back to default\n"
     ]
    },
    {
     "name": "stdout",
     "output_type": "stream",
     "text": [
      "Iteration: 347, named_losses: [('ActivationMax Loss', -159016.38),\n",
      " ('L-6.0 Norm Loss', 1.1844585e-05),\n",
      " ('TV(2.0) Loss', 29.97104)], overall loss: -158986.40625\n"
     ]
    },
    {
     "name": "stderr",
     "output_type": "stream",
     "text": [
      "Failed to lookup font 'FreeSans.ttf', falling back to default\n"
     ]
    },
    {
     "name": "stdout",
     "output_type": "stream",
     "text": [
      "Iteration: 348, named_losses: [('ActivationMax Loss', -159536.27),\n",
      " ('L-6.0 Norm Loss', 1.1865968e-05),\n",
      " ('TV(2.0) Loss', 30.136354)], overall loss: -159506.125\n"
     ]
    },
    {
     "name": "stderr",
     "output_type": "stream",
     "text": [
      "Failed to lookup font 'FreeSans.ttf', falling back to default\n"
     ]
    },
    {
     "name": "stdout",
     "output_type": "stream",
     "text": [
      "Iteration: 349, named_losses: [('ActivationMax Loss', -159943.33),\n",
      " ('L-6.0 Norm Loss', 1.1887719e-05),\n",
      " ('TV(2.0) Loss', 30.306936)], overall loss: -159913.015625\n"
     ]
    },
    {
     "name": "stderr",
     "output_type": "stream",
     "text": [
      "Failed to lookup font 'FreeSans.ttf', falling back to default\n"
     ]
    },
    {
     "name": "stdout",
     "output_type": "stream",
     "text": [
      "Iteration: 350, named_losses: [('ActivationMax Loss', -160331.77),\n",
      " ('L-6.0 Norm Loss', 1.1909704e-05),\n",
      " ('TV(2.0) Loss', 30.483885)], overall loss: -160301.28125\n"
     ]
    },
    {
     "name": "stderr",
     "output_type": "stream",
     "text": [
      "Failed to lookup font 'FreeSans.ttf', falling back to default\n"
     ]
    },
    {
     "name": "stdout",
     "output_type": "stream",
     "text": [
      "Iteration: 351, named_losses: [('ActivationMax Loss', -160737.14),\n",
      " ('L-6.0 Norm Loss', 1.1931121e-05),\n",
      " ('TV(2.0) Loss', 30.6489)], overall loss: -160706.484375\n"
     ]
    },
    {
     "name": "stderr",
     "output_type": "stream",
     "text": [
      "Failed to lookup font 'FreeSans.ttf', falling back to default\n"
     ]
    },
    {
     "name": "stdout",
     "output_type": "stream",
     "text": [
      "Iteration: 352, named_losses: [('ActivationMax Loss', -161210.5),\n",
      " ('L-6.0 Norm Loss', 1.19526e-05),\n",
      " ('TV(2.0) Loss', 30.825483)], overall loss: -161179.671875\n"
     ]
    },
    {
     "name": "stderr",
     "output_type": "stream",
     "text": [
      "Failed to lookup font 'FreeSans.ttf', falling back to default\n"
     ]
    },
    {
     "name": "stdout",
     "output_type": "stream",
     "text": [
      "Iteration: 353, named_losses: [('ActivationMax Loss', -161711.52),\n",
      " ('L-6.0 Norm Loss', 1.1973699e-05),\n",
      " ('TV(2.0) Loss', 30.98868)], overall loss: -161680.53125\n"
     ]
    },
    {
     "name": "stderr",
     "output_type": "stream",
     "text": [
      "Failed to lookup font 'FreeSans.ttf', falling back to default\n"
     ]
    },
    {
     "name": "stdout",
     "output_type": "stream",
     "text": [
      "Iteration: 354, named_losses: [('ActivationMax Loss', -161870.31),\n",
      " ('L-6.0 Norm Loss', 1.1995485e-05),\n",
      " ('TV(2.0) Loss', 31.169582)], overall loss: -161839.140625\n"
     ]
    },
    {
     "name": "stderr",
     "output_type": "stream",
     "text": [
      "Failed to lookup font 'FreeSans.ttf', falling back to default\n"
     ]
    },
    {
     "name": "stdout",
     "output_type": "stream",
     "text": [
      "Iteration: 355, named_losses: [('ActivationMax Loss', -162552.27),\n",
      " ('L-6.0 Norm Loss', 1.20159e-05),\n",
      " ('TV(2.0) Loss', 31.332327)], overall loss: -162520.9375\n"
     ]
    },
    {
     "name": "stderr",
     "output_type": "stream",
     "text": [
      "Failed to lookup font 'FreeSans.ttf', falling back to default\n"
     ]
    },
    {
     "name": "stdout",
     "output_type": "stream",
     "text": [
      "Iteration: 356, named_losses: [('ActivationMax Loss', -162853.61),\n",
      " ('L-6.0 Norm Loss', 1.20392215e-05),\n",
      " ('TV(2.0) Loss', 31.511211)], overall loss: -162822.09375\n"
     ]
    },
    {
     "name": "stderr",
     "output_type": "stream",
     "text": [
      "Failed to lookup font 'FreeSans.ttf', falling back to default\n"
     ]
    },
    {
     "name": "stdout",
     "output_type": "stream",
     "text": [
      "Iteration: 357, named_losses: [('ActivationMax Loss', -163388.94),\n",
      " ('L-6.0 Norm Loss', 1.205957e-05),\n",
      " ('TV(2.0) Loss', 31.67749)], overall loss: -163357.265625\n"
     ]
    },
    {
     "name": "stderr",
     "output_type": "stream",
     "text": [
      "Failed to lookup font 'FreeSans.ttf', falling back to default\n"
     ]
    },
    {
     "name": "stdout",
     "output_type": "stream",
     "text": [
      "Iteration: 358, named_losses: [('ActivationMax Loss', -163758.45),\n",
      " ('L-6.0 Norm Loss', 1.2080702e-05),\n",
      " ('TV(2.0) Loss', 31.84833)], overall loss: -163726.609375\n"
     ]
    },
    {
     "name": "stderr",
     "output_type": "stream",
     "text": [
      "Failed to lookup font 'FreeSans.ttf', falling back to default\n"
     ]
    },
    {
     "name": "stdout",
     "output_type": "stream",
     "text": [
      "Iteration: 359, named_losses: [('ActivationMax Loss', -164277.61),\n",
      " ('L-6.0 Norm Loss', 1.21030125e-05),\n",
      " ('TV(2.0) Loss', 32.032738)], overall loss: -164245.578125\n"
     ]
    },
    {
     "name": "stderr",
     "output_type": "stream",
     "text": [
      "Failed to lookup font 'FreeSans.ttf', falling back to default\n"
     ]
    },
    {
     "name": "stdout",
     "output_type": "stream",
     "text": [
      "Iteration: 360, named_losses: [('ActivationMax Loss', -164646.17),\n",
      " ('L-6.0 Norm Loss', 1.2125254e-05),\n",
      " ('TV(2.0) Loss', 32.21173)], overall loss: -164613.953125\n"
     ]
    },
    {
     "name": "stderr",
     "output_type": "stream",
     "text": [
      "Failed to lookup font 'FreeSans.ttf', falling back to default\n"
     ]
    },
    {
     "name": "stdout",
     "output_type": "stream",
     "text": [
      "Iteration: 361, named_losses: [('ActivationMax Loss', -165086.23),\n",
      " ('L-6.0 Norm Loss', 1.21479225e-05),\n",
      " ('TV(2.0) Loss', 32.3992)], overall loss: -165053.828125\n"
     ]
    },
    {
     "name": "stderr",
     "output_type": "stream",
     "text": [
      "Failed to lookup font 'FreeSans.ttf', falling back to default\n"
     ]
    },
    {
     "name": "stdout",
     "output_type": "stream",
     "text": [
      "Iteration: 362, named_losses: [('ActivationMax Loss', -165496.56),\n",
      " ('L-6.0 Norm Loss', 1.2168971e-05),\n",
      " ('TV(2.0) Loss', 32.57046)], overall loss: -165463.984375\n"
     ]
    },
    {
     "name": "stderr",
     "output_type": "stream",
     "text": [
      "Failed to lookup font 'FreeSans.ttf', falling back to default\n"
     ]
    },
    {
     "name": "stdout",
     "output_type": "stream",
     "text": [
      "Iteration: 363, named_losses: [('ActivationMax Loss', -165913.02),\n",
      " ('L-6.0 Norm Loss', 1.2191184e-05),\n",
      " ('TV(2.0) Loss', 32.754734)], overall loss: -165880.265625\n"
     ]
    },
    {
     "name": "stderr",
     "output_type": "stream",
     "text": [
      "Failed to lookup font 'FreeSans.ttf', falling back to default\n"
     ]
    },
    {
     "name": "stdout",
     "output_type": "stream",
     "text": [
      "Iteration: 364, named_losses: [('ActivationMax Loss', -166492.62),\n",
      " ('L-6.0 Norm Loss', 1.2213037e-05),\n",
      " ('TV(2.0) Loss', 32.932503)], overall loss: -166459.6875\n"
     ]
    },
    {
     "name": "stderr",
     "output_type": "stream",
     "text": [
      "Failed to lookup font 'FreeSans.ttf', falling back to default\n"
     ]
    },
    {
     "name": "stdout",
     "output_type": "stream",
     "text": [
      "Iteration: 365, named_losses: [('ActivationMax Loss', -166777.3),\n",
      " ('L-6.0 Norm Loss', 1.2234484e-05),\n",
      " ('TV(2.0) Loss', 33.115456)], overall loss: -166744.1875\n"
     ]
    },
    {
     "name": "stderr",
     "output_type": "stream",
     "text": [
      "Failed to lookup font 'FreeSans.ttf', falling back to default\n"
     ]
    },
    {
     "name": "stdout",
     "output_type": "stream",
     "text": [
      "Iteration: 366, named_losses: [('ActivationMax Loss', -167284.55),\n",
      " ('L-6.0 Norm Loss', 1.2254635e-05),\n",
      " ('TV(2.0) Loss', 33.280308)], overall loss: -167251.265625\n",
      "Iteration: 367, named_losses: [('ActivationMax Loss', -167650.86),\n",
      " ('L-6.0 Norm Loss', 1.2276018e-05),\n",
      " ('TV(2.0) Loss', 33.46507)], overall loss: -167617.390625\n"
     ]
    },
    {
     "name": "stderr",
     "output_type": "stream",
     "text": [
      "Failed to lookup font 'FreeSans.ttf', falling back to default\n",
      "Failed to lookup font 'FreeSans.ttf', falling back to default\n"
     ]
    },
    {
     "name": "stdout",
     "output_type": "stream",
     "text": [
      "Iteration: 368, named_losses: [('ActivationMax Loss', -168175.86),\n",
      " ('L-6.0 Norm Loss', 1.2297159e-05),\n",
      " ('TV(2.0) Loss', 33.630745)], overall loss: -168142.234375\n"
     ]
    },
    {
     "name": "stderr",
     "output_type": "stream",
     "text": [
      "Failed to lookup font 'FreeSans.ttf', falling back to default\n"
     ]
    },
    {
     "name": "stdout",
     "output_type": "stream",
     "text": [
      "Iteration: 369, named_losses: [('ActivationMax Loss', -168549.77),\n",
      " ('L-6.0 Norm Loss', 1.231989e-05),\n",
      " ('TV(2.0) Loss', 33.821987)], overall loss: -168515.9375\n"
     ]
    },
    {
     "name": "stderr",
     "output_type": "stream",
     "text": [
      "Failed to lookup font 'FreeSans.ttf', falling back to default\n"
     ]
    },
    {
     "name": "stdout",
     "output_type": "stream",
     "text": [
      "Iteration: 370, named_losses: [('ActivationMax Loss', -168894.61),\n",
      " ('L-6.0 Norm Loss', 1.2340681e-05),\n",
      " ('TV(2.0) Loss', 33.99789)], overall loss: -168860.609375\n"
     ]
    },
    {
     "name": "stderr",
     "output_type": "stream",
     "text": [
      "Failed to lookup font 'FreeSans.ttf', falling back to default\n"
     ]
    },
    {
     "name": "stdout",
     "output_type": "stream",
     "text": [
      "Iteration: 371, named_losses: [('ActivationMax Loss', -169343.92),\n",
      " ('L-6.0 Norm Loss', 1.2362168e-05),\n",
      " ('TV(2.0) Loss', 34.173733)], overall loss: -169309.75\n"
     ]
    },
    {
     "name": "stderr",
     "output_type": "stream",
     "text": [
      "Failed to lookup font 'FreeSans.ttf', falling back to default\n"
     ]
    },
    {
     "name": "stdout",
     "output_type": "stream",
     "text": [
      "Iteration: 372, named_losses: [('ActivationMax Loss', -169936.52),\n",
      " ('L-6.0 Norm Loss', 1.2384261e-05),\n",
      " ('TV(2.0) Loss', 34.35571)], overall loss: -169902.15625\n"
     ]
    },
    {
     "name": "stderr",
     "output_type": "stream",
     "text": [
      "Failed to lookup font 'FreeSans.ttf', falling back to default\n"
     ]
    },
    {
     "name": "stdout",
     "output_type": "stream",
     "text": [
      "Iteration: 373, named_losses: [('ActivationMax Loss', -170244.58),\n",
      " ('L-6.0 Norm Loss', 1.2406808e-05),\n",
      " ('TV(2.0) Loss', 34.5486)], overall loss: -170210.03125\n"
     ]
    },
    {
     "name": "stderr",
     "output_type": "stream",
     "text": [
      "Failed to lookup font 'FreeSans.ttf', falling back to default\n"
     ]
    },
    {
     "name": "stdout",
     "output_type": "stream",
     "text": [
      "Iteration: 374, named_losses: [('ActivationMax Loss', -170688.27),\n",
      " ('L-6.0 Norm Loss', 1.2427141e-05),\n",
      " ('TV(2.0) Loss', 34.720592)], overall loss: -170653.546875\n"
     ]
    },
    {
     "name": "stderr",
     "output_type": "stream",
     "text": [
      "Failed to lookup font 'FreeSans.ttf', falling back to default\n"
     ]
    },
    {
     "name": "stdout",
     "output_type": "stream",
     "text": [
      "Iteration: 375, named_losses: [('ActivationMax Loss', -171183.89),\n",
      " ('L-6.0 Norm Loss', 1.2449709e-05),\n",
      " ('TV(2.0) Loss', 34.91299)], overall loss: -171148.984375\n"
     ]
    },
    {
     "name": "stderr",
     "output_type": "stream",
     "text": [
      "Failed to lookup font 'FreeSans.ttf', falling back to default\n"
     ]
    },
    {
     "name": "stdout",
     "output_type": "stream",
     "text": [
      "Iteration: 376, named_losses: [('ActivationMax Loss', -171566.78),\n",
      " ('L-6.0 Norm Loss', 1.24711205e-05),\n",
      " ('TV(2.0) Loss', 35.09637)], overall loss: -171531.6875\n"
     ]
    },
    {
     "name": "stderr",
     "output_type": "stream",
     "text": [
      "Failed to lookup font 'FreeSans.ttf', falling back to default\n"
     ]
    },
    {
     "name": "stdout",
     "output_type": "stream",
     "text": [
      "Iteration: 377, named_losses: [('ActivationMax Loss', -172056.83),\n",
      " ('L-6.0 Norm Loss', 1.2493764e-05),\n",
      " ('TV(2.0) Loss', 35.287487)], overall loss: -172021.546875\n"
     ]
    },
    {
     "name": "stderr",
     "output_type": "stream",
     "text": [
      "Failed to lookup font 'FreeSans.ttf', falling back to default\n"
     ]
    },
    {
     "name": "stdout",
     "output_type": "stream",
     "text": [
      "Iteration: 378, named_losses: [('ActivationMax Loss', -172473.64),\n",
      " ('L-6.0 Norm Loss', 1.2514219e-05),\n",
      " ('TV(2.0) Loss', 35.46574)], overall loss: -172438.171875\n"
     ]
    },
    {
     "name": "stderr",
     "output_type": "stream",
     "text": [
      "Failed to lookup font 'FreeSans.ttf', falling back to default\n"
     ]
    },
    {
     "name": "stdout",
     "output_type": "stream",
     "text": [
      "Iteration: 379, named_losses: [('ActivationMax Loss', -172912.16),\n",
      " ('L-6.0 Norm Loss', 1.2537795e-05),\n",
      " ('TV(2.0) Loss', 35.66206)], overall loss: -172876.5\n"
     ]
    },
    {
     "name": "stderr",
     "output_type": "stream",
     "text": [
      "Failed to lookup font 'FreeSans.ttf', falling back to default\n"
     ]
    },
    {
     "name": "stdout",
     "output_type": "stream",
     "text": [
      "Iteration: 380, named_losses: [('ActivationMax Loss', -173341.48),\n",
      " ('L-6.0 Norm Loss', 1.25579345e-05),\n",
      " ('TV(2.0) Loss', 35.83934)], overall loss: -173305.640625\n"
     ]
    },
    {
     "name": "stderr",
     "output_type": "stream",
     "text": [
      "Failed to lookup font 'FreeSans.ttf', falling back to default\n"
     ]
    },
    {
     "name": "stdout",
     "output_type": "stream",
     "text": [
      "Iteration: 381, named_losses: [('ActivationMax Loss', -173835.92),\n",
      " ('L-6.0 Norm Loss', 1.2581723e-05),\n",
      " ('TV(2.0) Loss', 36.041573)], overall loss: -173799.875\n"
     ]
    },
    {
     "name": "stderr",
     "output_type": "stream",
     "text": [
      "Failed to lookup font 'FreeSans.ttf', falling back to default\n"
     ]
    },
    {
     "name": "stdout",
     "output_type": "stream",
     "text": [
      "Iteration: 382, named_losses: [('ActivationMax Loss', -174142.86),\n",
      " ('L-6.0 Norm Loss', 1.2604217e-05),\n",
      " ('TV(2.0) Loss', 36.228024)], overall loss: -174106.625\n"
     ]
    },
    {
     "name": "stderr",
     "output_type": "stream",
     "text": [
      "Failed to lookup font 'FreeSans.ttf', falling back to default\n"
     ]
    },
    {
     "name": "stdout",
     "output_type": "stream",
     "text": [
      "Iteration: 383, named_losses: [('ActivationMax Loss', -174662.27),\n",
      " ('L-6.0 Norm Loss', 1.2624562e-05),\n",
      " ('TV(2.0) Loss', 36.40987)], overall loss: -174625.859375\n"
     ]
    },
    {
     "name": "stderr",
     "output_type": "stream",
     "text": [
      "Failed to lookup font 'FreeSans.ttf', falling back to default\n"
     ]
    },
    {
     "name": "stdout",
     "output_type": "stream",
     "text": [
      "Iteration: 384, named_losses: [('ActivationMax Loss', -175132.23),\n",
      " ('L-6.0 Norm Loss', 1.2646898e-05),\n",
      " ('TV(2.0) Loss', 36.5947)], overall loss: -175095.640625\n"
     ]
    },
    {
     "name": "stderr",
     "output_type": "stream",
     "text": [
      "Failed to lookup font 'FreeSans.ttf', falling back to default\n"
     ]
    },
    {
     "name": "stdout",
     "output_type": "stream",
     "text": [
      "Iteration: 385, named_losses: [('ActivationMax Loss', -175513.78),\n",
      " ('L-6.0 Norm Loss', 1.2668701e-05),\n",
      " ('TV(2.0) Loss', 36.78771)], overall loss: -175477.0\n"
     ]
    },
    {
     "name": "stderr",
     "output_type": "stream",
     "text": [
      "Failed to lookup font 'FreeSans.ttf', falling back to default\n"
     ]
    },
    {
     "name": "stdout",
     "output_type": "stream",
     "text": [
      "Iteration: 386, named_losses: [('ActivationMax Loss', -175878.39),\n",
      " ('L-6.0 Norm Loss', 1.2689783e-05),\n",
      " ('TV(2.0) Loss', 36.969246)], overall loss: -175841.421875\n"
     ]
    },
    {
     "name": "stderr",
     "output_type": "stream",
     "text": [
      "Failed to lookup font 'FreeSans.ttf', falling back to default\n"
     ]
    },
    {
     "name": "stdout",
     "output_type": "stream",
     "text": [
      "Iteration: 387, named_losses: [('ActivationMax Loss', -176385.6),\n",
      " ('L-6.0 Norm Loss', 1.27111e-05),\n",
      " ('TV(2.0) Loss', 37.15637)], overall loss: -176348.4375\n"
     ]
    },
    {
     "name": "stderr",
     "output_type": "stream",
     "text": [
      "Failed to lookup font 'FreeSans.ttf', falling back to default\n"
     ]
    },
    {
     "name": "stdout",
     "output_type": "stream",
     "text": [
      "Iteration: 388, named_losses: [('ActivationMax Loss', -176825.55),\n",
      " ('L-6.0 Norm Loss', 1.27327685e-05),\n",
      " ('TV(2.0) Loss', 37.342068)], overall loss: -176788.203125\n"
     ]
    },
    {
     "name": "stderr",
     "output_type": "stream",
     "text": [
      "Failed to lookup font 'FreeSans.ttf', falling back to default\n"
     ]
    },
    {
     "name": "stdout",
     "output_type": "stream",
     "text": [
      "Iteration: 389, named_losses: [('ActivationMax Loss', -177142.62),\n",
      " ('L-6.0 Norm Loss', 1.2753821e-05),\n",
      " ('TV(2.0) Loss', 37.525185)], overall loss: -177105.09375\n"
     ]
    },
    {
     "name": "stderr",
     "output_type": "stream",
     "text": [
      "Failed to lookup font 'FreeSans.ttf', falling back to default\n"
     ]
    },
    {
     "name": "stdout",
     "output_type": "stream",
     "text": [
      "Iteration: 390, named_losses: [('ActivationMax Loss', -177639.38),\n",
      " ('L-6.0 Norm Loss', 1.2773555e-05),\n",
      " ('TV(2.0) Loss', 37.697777)], overall loss: -177601.671875\n"
     ]
    },
    {
     "name": "stderr",
     "output_type": "stream",
     "text": [
      "Failed to lookup font 'FreeSans.ttf', falling back to default\n"
     ]
    },
    {
     "name": "stdout",
     "output_type": "stream",
     "text": [
      "Iteration: 391, named_losses: [('ActivationMax Loss', -178058.94),\n",
      " ('L-6.0 Norm Loss', 1.27959065e-05),\n",
      " ('TV(2.0) Loss', 37.897736)], overall loss: -178021.046875\n"
     ]
    },
    {
     "name": "stderr",
     "output_type": "stream",
     "text": [
      "Failed to lookup font 'FreeSans.ttf', falling back to default\n"
     ]
    },
    {
     "name": "stdout",
     "output_type": "stream",
     "text": [
      "Iteration: 392, named_losses: [('ActivationMax Loss', -178481.33),\n",
      " ('L-6.0 Norm Loss', 1.2818676e-05),\n",
      " ('TV(2.0) Loss', 38.100597)], overall loss: -178443.234375\n"
     ]
    },
    {
     "name": "stderr",
     "output_type": "stream",
     "text": [
      "Failed to lookup font 'FreeSans.ttf', falling back to default\n"
     ]
    },
    {
     "name": "stdout",
     "output_type": "stream",
     "text": [
      "Iteration: 393, named_losses: [('ActivationMax Loss', -178944.17),\n",
      " ('L-6.0 Norm Loss', 1.28404845e-05),\n",
      " ('TV(2.0) Loss', 38.289574)], overall loss: -178905.875\n"
     ]
    },
    {
     "name": "stderr",
     "output_type": "stream",
     "text": [
      "Failed to lookup font 'FreeSans.ttf', falling back to default\n"
     ]
    },
    {
     "name": "stdout",
     "output_type": "stream",
     "text": [
      "Iteration: 394, named_losses: [('ActivationMax Loss', -179493.34),\n",
      " ('L-6.0 Norm Loss', 1.2863055e-05),\n",
      " ('TV(2.0) Loss', 38.491074)], overall loss: -179454.859375\n"
     ]
    },
    {
     "name": "stderr",
     "output_type": "stream",
     "text": [
      "Failed to lookup font 'FreeSans.ttf', falling back to default\n"
     ]
    },
    {
     "name": "stdout",
     "output_type": "stream",
     "text": [
      "Iteration: 395, named_losses: [('ActivationMax Loss', -179894.45),\n",
      " ('L-6.0 Norm Loss', 1.288564e-05),\n",
      " ('TV(2.0) Loss', 38.68068)], overall loss: -179855.765625\n"
     ]
    },
    {
     "name": "stderr",
     "output_type": "stream",
     "text": [
      "Failed to lookup font 'FreeSans.ttf', falling back to default\n"
     ]
    },
    {
     "name": "stdout",
     "output_type": "stream",
     "text": [
      "Iteration: 396, named_losses: [('ActivationMax Loss', -180207.3),\n",
      " ('L-6.0 Norm Loss', 1.2907551e-05),\n",
      " ('TV(2.0) Loss', 38.884205)], overall loss: -180168.40625\n"
     ]
    },
    {
     "name": "stderr",
     "output_type": "stream",
     "text": [
      "Failed to lookup font 'FreeSans.ttf', falling back to default\n"
     ]
    },
    {
     "name": "stdout",
     "output_type": "stream",
     "text": [
      "Iteration: 397, named_losses: [('ActivationMax Loss', -180611.64),\n",
      " ('L-6.0 Norm Loss', 1.2928571e-05),\n",
      " ('TV(2.0) Loss', 39.064945)], overall loss: -180572.578125\n"
     ]
    },
    {
     "name": "stderr",
     "output_type": "stream",
     "text": [
      "Failed to lookup font 'FreeSans.ttf', falling back to default\n"
     ]
    },
    {
     "name": "stdout",
     "output_type": "stream",
     "text": [
      "Iteration: 398, named_losses: [('ActivationMax Loss', -181195.89),\n",
      " ('L-6.0 Norm Loss', 1.2951105e-05),\n",
      " ('TV(2.0) Loss', 39.270092)], overall loss: -181156.625\n"
     ]
    },
    {
     "name": "stderr",
     "output_type": "stream",
     "text": [
      "Failed to lookup font 'FreeSans.ttf', falling back to default\n"
     ]
    },
    {
     "name": "stdout",
     "output_type": "stream",
     "text": [
      "Iteration: 399, named_losses: [('ActivationMax Loss', -181552.92),\n",
      " ('L-6.0 Norm Loss', 1.2972871e-05),\n",
      " ('TV(2.0) Loss', 39.46445)], overall loss: -181513.453125\n",
      "Iteration: 400, named_losses: [('ActivationMax Loss', -181938.11),\n",
      " ('L-6.0 Norm Loss', 1.2993622e-05),\n",
      " ('TV(2.0) Loss', 39.646484)], overall loss: -181898.46875\n"
     ]
    },
    {
     "data": {
      "text/plain": [
       "(array([[[126.40623065, 123.47314165, 126.02438071],\n",
       "         [122.45519648, 125.45352784, 120.46397659],\n",
       "         [118.51901589, 123.6389508 , 120.64369258],\n",
       "         ...,\n",
       "         [123.82185601, 120.91473789, 127.20516394],\n",
       "         [127.09968068, 124.75881842, 124.44796798],\n",
       "         [127.97160298, 122.62317435, 120.72818784]],\n",
       " \n",
       "        [[124.62425637, 125.33795206, 124.02198865],\n",
       "         [128.05258664, 125.22092928, 128.85801976],\n",
       "         [125.07577183, 130.62120793, 121.51028162],\n",
       "         ...,\n",
       "         [127.85694424, 118.62828422, 123.37257733],\n",
       "         [126.95474218, 118.58688878, 125.20582274],\n",
       "         [126.80766708, 124.17812607, 122.48529022]],\n",
       " \n",
       "        [[112.13173407, 121.68438701, 118.22577052],\n",
       "         [119.03636811, 123.37848127, 118.72850522],\n",
       "         [117.18766857, 120.98254894, 114.12565333],\n",
       "         ...,\n",
       "         [125.22802296, 127.08496748, 118.78567957],\n",
       "         [127.99586568, 126.56973922, 120.92090018],\n",
       "         [128.02659428, 124.10494278, 122.2233467 ]],\n",
       " \n",
       "        ...,\n",
       " \n",
       "        [[127.91570835, 118.17674296, 113.70243434],\n",
       "         [129.44696141, 127.08991437, 123.74513404],\n",
       "         [113.00362677, 126.59585335, 147.78124369],\n",
       "         ...,\n",
       "         [129.41588327, 123.34352514, 136.32726225],\n",
       "         [116.87007856, 113.76285321, 122.34759471],\n",
       "         [123.09170547, 123.59210294, 120.17844581]],\n",
       " \n",
       "        [[121.11452209, 130.89586474, 113.21857656],\n",
       "         [122.13820996, 136.32986688, 110.49519515],\n",
       "         [120.62098242, 101.34406536, 164.34963106],\n",
       "         ...,\n",
       "         [136.95953528, 120.68449633, 133.00519786],\n",
       "         [122.89347959, 105.5933652 , 125.84447534],\n",
       "         [117.01658971, 110.12951007, 111.13607328]],\n",
       " \n",
       "        [[132.81036084, 132.52684652, 117.35096042],\n",
       "         [134.4463993 , 128.96190064, 126.71312625],\n",
       "         [123.4622486 , 120.4494308 , 119.37108637],\n",
       "         ...,\n",
       "         [129.14068697, 121.80724657, 124.05693821],\n",
       "         [133.36931026, 128.5051792 , 121.63909438],\n",
       "         [121.84104165, 120.42327611, 118.885585  ]]]),\n",
       " array([[[[-9.80554705e-06, -3.83625007e-07, -1.84426754e-05],\n",
       "          [ 1.02182014e-06,  6.19917591e-06,  5.63657113e-06],\n",
       "          [-2.63231796e-05,  1.91126492e-05, -2.61015775e-05],\n",
       "          ...,\n",
       "          [-1.55210398e-06, -3.58206353e-06,  5.39472285e-06],\n",
       "          [-1.71438314e-05, -2.65292765e-05, -8.58396106e-06],\n",
       "          [-1.29833893e-06,  2.31490640e-06, -1.54569045e-06]],\n",
       " \n",
       "         [[ 1.84130258e-07,  2.75112370e-06, -2.37466656e-06],\n",
       "          [ 1.33498288e-05,  4.46929153e-06,  1.25082006e-05],\n",
       "          [-4.73253249e-06,  6.90212391e-06, -1.76238536e-05],\n",
       "          ...,\n",
       "          [ 7.62382967e-07,  2.59427270e-06, -1.97792201e-06],\n",
       "          [ 1.40928273e-06, -1.53113033e-05,  7.98510155e-06],\n",
       "          [-3.35334926e-06,  5.28864030e-06, -5.64026504e-06]],\n",
       " \n",
       "         [[-8.83820758e-06, -4.44148145e-06,  2.06886089e-05],\n",
       "          [ 8.14885061e-06, -8.05086711e-06,  2.27341152e-05],\n",
       "          [ 3.01563632e-05, -1.09885686e-05,  3.01663295e-05],\n",
       "          ...,\n",
       "          [ 2.62020003e-05,  4.64340883e-05, -1.59819574e-05],\n",
       "          [ 7.46118312e-05,  8.93186661e-05,  5.61577799e-05],\n",
       "          [ 1.44721189e-05,  9.30703379e-07, -1.25119441e-05]],\n",
       " \n",
       "         ...,\n",
       " \n",
       "         [[ 5.27293560e-05,  1.89806742e-05,  2.07939393e-05],\n",
       "          [-9.69653320e-06,  1.91208146e-05, -3.82199033e-07],\n",
       "          [-7.28440791e-05, -1.44230595e-04, -2.00779745e-04],\n",
       "          ...,\n",
       "          [ 3.29055983e-05,  1.30204717e-05,  3.42898747e-05],\n",
       "          [ 2.69912871e-05,  2.43935501e-05,  1.31544675e-05],\n",
       "          [ 8.20292462e-06,  1.48129539e-06, -2.25971371e-06]],\n",
       " \n",
       "         [[ 7.16904424e-06, -4.09103886e-05,  2.57879783e-05],\n",
       "          [-4.10283974e-05, -5.75227023e-05, -6.41548686e-05],\n",
       "          [-1.68392289e-04,  4.64845580e-05, -1.38916148e-04],\n",
       "          ...,\n",
       "          [ 3.66547392e-05,  7.54078428e-06,  1.24614189e-05],\n",
       "          [ 1.30775106e-05, -2.32659186e-05,  5.49716242e-06],\n",
       "          [-2.01071471e-05, -2.67632713e-05, -2.29998805e-05]],\n",
       " \n",
       "         [[ 2.63990387e-06, -2.57154024e-05, -2.09452764e-06],\n",
       "          [ 2.16170029e-05,  1.35723285e-05,  2.43946724e-05],\n",
       "          [ 5.39221837e-05, -1.37603265e-05, -2.62014510e-05],\n",
       "          ...,\n",
       "          [ 8.58180829e-06, -1.51104109e-06, -5.25007817e-06],\n",
       "          [ 1.75703535e-05, -1.21805806e-06, -4.57528984e-07],\n",
       "          [-8.35111314e-06, -4.50987727e-06, -6.15199860e-06]]]],\n",
       "       dtype=float32),\n",
       " array([[[[140.30238 , 127.42492 , 138.5947  ],\n",
       "          [122.949844, 136.16045 , 114.20197 ],\n",
       "          [105.54271 , 128.21562 , 114.89345 ],\n",
       "          ...,\n",
       "          [128.95576 , 116.15643 , 143.86612 ],\n",
       "          [143.33083 , 133.0004  , 131.68889 ],\n",
       "          [147.21773 , 123.69313 , 115.34194 ]],\n",
       " \n",
       "         [[132.49225 , 135.64098 , 129.83388 ],\n",
       "          [147.6203  , 135.13148 , 151.16205 ],\n",
       "          [134.46365 , 158.90326 , 118.73294 ],\n",
       "          ...,\n",
       "          [146.71968 , 106.114296, 126.97734 ],\n",
       "          [142.75154 , 105.87556 , 135.07613 ],\n",
       "          [142.08928 , 130.54517 , 123.06121 ]],\n",
       " \n",
       "         [[ 77.48982 , 119.540596, 104.39867 ],\n",
       "          [107.92747 , 126.98447 , 106.61861 ],\n",
       "          [ 99.85851 , 116.43159 ,  86.38485 ],\n",
       "          ...,\n",
       "          [135.23103 , 143.46231 , 106.74835 ],\n",
       "          [147.55385 , 141.30685 , 116.36332 ],\n",
       "          [147.50941 , 130.20934 , 121.8868  ]],\n",
       " \n",
       "         ...,\n",
       " \n",
       "         [[147.13567 , 104.177734,  84.495255],\n",
       "          [153.68373 , 143.40146 , 128.62184 ],\n",
       "          [ 81.13091 , 140.72699 , 233.81429 ],\n",
       "          ...,\n",
       "          [153.67946 , 126.896835, 184.09802 ],\n",
       "          [ 98.45396 ,  84.77255 , 122.51466 ],\n",
       "          [125.77333 , 127.9543  , 112.92052 ]],\n",
       " \n",
       "         [[117.069275, 159.96144 ,  82.38124 ],\n",
       "          [121.423904, 183.82294 ,  70.122284],\n",
       "          [114.39294 ,  30.177046, 306.91452 ],\n",
       "          ...,\n",
       "          [186.8876  , 115.178345, 169.41167 ],\n",
       "          [124.91657 ,  48.672607, 137.87868 ],\n",
       "          [ 98.950325,  68.62332 ,  73.063614]],\n",
       " \n",
       "         [[168.52333 , 167.18634 , 100.47855 ],\n",
       "          [175.78261 , 151.62256 , 141.7609  ],\n",
       "          [127.54802 , 114.076935, 109.29309 ],\n",
       "          ...,\n",
       "          [152.39355 , 120.09051 , 129.97856 ],\n",
       "          [171.03023 , 149.56601 , 119.353874],\n",
       "          [120.21763 , 113.99079 , 107.21892 ]]]], dtype=float32))"
      ]
     },
     "execution_count": 29,
     "metadata": {},
     "output_type": "execute_result"
    }
   ],
   "source": [
    "from src.vis.losses import ActivationMaximization\n",
    "from src.vis.regularizers import TotalVariation, LPNorm\n",
    "import imageio\n",
    "from src.vis.optimizer import Optimizer\n",
    "from src.vis.callbacks import GifGenerator\n",
    "\n",
    "\n",
    "# Build the VGG16 network with ImageNet weights\n",
    "print('Model loaded.')\n",
    "\n",
    "# The name of the layer we want to visualize\n",
    "# (see model definition in vggnet.py)\n",
    "layer_name = 'Dense_2'\n",
    "#layer_name = 'Dense_14'\n",
    "layer_dict = dict([(layer.name, layer) for layer in model.layers[1:]])\n",
    "output_class = [4]\n",
    "\n",
    "losses = [\n",
    "    (ActivationMaximization(layer_dict[layer_name], output_class), 1),\n",
    "    (LPNorm(model.input), 0.001),\n",
    "    (TotalVariation(model.input), 0.001)\n",
    "]\n",
    "opt = Optimizer(model.input, losses)\n",
    "opt.minimize(max_iter=400, verbose=True, callbacks=[GifGenerator('opt_progress')])"
   ]
  }
 ],
 "metadata": {
  "kernelspec": {
   "display_name": "Python 3",
   "language": "python",
   "name": "python3"
  },
  "language_info": {
   "codemirror_mode": {
    "name": "ipython",
    "version": 3
   },
   "file_extension": ".py",
   "mimetype": "text/x-python",
   "name": "python",
   "nbconvert_exporter": "python",
   "pygments_lexer": "ipython3",
   "version": "3.6.6"
  }
 },
 "nbformat": 4,
 "nbformat_minor": 2
}
