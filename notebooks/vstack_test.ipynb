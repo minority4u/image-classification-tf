{
 "cells": [
  {
   "cell_type": "code",
   "execution_count": 1,
   "metadata": {
    "collapsed": true
   },
   "outputs": [],
   "source": [
    "import numpy as np\n",
    "import matplotlib.pyplot as mp\n",
    "import matplotlib.image as mpimg\n",
    "import cv2\n",
    "import logging\n",
    "\n",
    "%matplotlib inline"
   ]
  },
  {
   "cell_type": "code",
   "execution_count": 2,
   "metadata": {},
   "outputs": [],
   "source": [
    "def load_img_as_rgb(path):\n",
    "    rgb = cv2.imread(path)\n",
    "    print('shape of rgb: {} from Type: {}'.format(rgb.shape, type(rgb)))\n",
    "    mp.imshow(rgb)\n",
    "    \n",
    "    return rgb"
   ]
  },
  {
   "cell_type": "code",
   "execution_count": 3,
   "metadata": {},
   "outputs": [],
   "source": [
    "#create black and white image\n",
    "def create_black_white_img(size):\n",
    "    black_white = np.random.randint(2, size=(size[0], size[1]))\n",
    "    black_white = black_white*255\n",
    "    \n",
    "    mp.imshow(black_white, cmap='gray')\n",
    "    print('shape of black_white: {}'.format(black_white.shape))\n",
    "    #print('black_white : {}'.format(black_white))\n",
    "    \n",
    "    return black_white"
   ]
  },
  {
   "cell_type": "code",
   "execution_count": 4,
   "metadata": {},
   "outputs": [],
   "source": [
    "#create grayscale imagesize\n",
    "def create_grayscale_img(size):\n",
    "    grayscale = np.random.randint(256, size=(size[0], size[1]))\n",
    "    \n",
    "    mp.imshow(grayscale, cmap='gray')\n",
    "    print('shape of grayscale: {}'.format(grayscale.shape))\n",
    "    #print('grayscale : {}'.format(grayscale))\n",
    "    \n",
    "    return grayscale"
   ]
  },
  {
   "cell_type": "code",
   "execution_count": 5,
   "metadata": {},
   "outputs": [],
   "source": [
    "#create rgb image\n",
    "def create_rgb_img(size):\n",
    "    rgb = np.random.randint(256, size=(size[0], size[1], size[2]))\n",
    "    \n",
    "    mp.imshow(rgb)\n",
    "    print('shape of rgb: {} from Type: {}'.format(rgb.shape, type(rgb)))\n",
    "    #print('rgb : {}'.format(rgb))\n",
    "    \n",
    "    return rgb"
   ]
  },
  {
   "cell_type": "code",
   "execution_count": 6,
   "metadata": {
    "collapsed": true
   },
   "outputs": [],
   "source": [
    "#convert to greyscale all colors equal weight\n",
    "def to_gray_eq(rgb):\n",
    "    gray_eq = np.dot(rgb[..., :3], [0.3333, 0.3333, 0.3333])\n",
    "    gray_eq = np.round(gray_eq, decimals=0)\n",
    "        \n",
    "    mp.imshow(gray_eq, cmap='gray')\n",
    "    print('shape of gray_eq : {}'.format(gray_eq.shape))\n",
    "    #print('gray_eq : {}'.format(gray_eq))\n",
    "    \n",
    "    return gray_eq"
   ]
  },
  {
   "cell_type": "code",
   "execution_count": 7,
   "metadata": {},
   "outputs": [],
   "source": [
    "#convert to greyscale all colors special weight\n",
    "def to_gray_wi(rgb):\n",
    "    gray_wi = np.dot(rgb[... , :3], [0.299, 0.587, 0.114])\n",
    "    gray_wi = np.round(gray_wi, decimals=0)\n",
    "        \n",
    "    mp.imshow(gray_wi, cmap='gray')\n",
    "    print('shape of gray_wi : {}'.format(gray_wi.shape))\n",
    "    #print('gray_wi : {}'.format(gray_wi))\n",
    "    \n",
    "    return gray_wi"
   ]
  },
  {
   "cell_type": "code",
   "execution_count": 8,
   "metadata": {},
   "outputs": [],
   "source": [
    "def to_canny(rgb):\n",
    "    canny = cv2.Canny(rgb, 0, 255)\n",
    "    mp.imshow(canny, cmap='gray')\n",
    "    print('shape of canny : {}'.format(canny.shape))\n",
    "    print('canny : {}'.format(canny))\n",
    "    return canny"
   ]
  },
  {
   "cell_type": "code",
   "execution_count": 9,
   "metadata": {},
   "outputs": [],
   "source": [
    "def to_binary(rgb):\n",
    "    binary = cv2.cvtColor(rgb, cv2.COLOR_RGB2GRAY)\n",
    "    print('shape of binary : {}'.format(binary.shape))\n",
    "    print('binary : {}'.format(binary))"
   ]
  },
  {
   "cell_type": "code",
   "execution_count": 10,
   "metadata": {},
   "outputs": [],
   "source": [
    "def is_patch_empty(image):\n",
    "    \"\"\"\n",
    "    Tests whether an image patch has enough content or not\n",
    "    :param image: image patch to test\n",
    "    :return: True for empty. False for enough content\n",
    "    \"\"\"\n",
    "\n",
    "    threshold = 0.98\n",
    "    black_value_threshold = 216\n",
    "    \n",
    "    # create a gray version of the img\n",
    "    gray = cv2.cvtColor(image, cv2.COLOR_BGR2GRAY)\n",
    "    logging.debug('shape of image : {} shape of gray : {}'.format(image.shape, gray.shape))\n",
    "    #print('shape of image : {} shape of gray : {}'.format(image.shape, gray.shape))\n",
    "    \n",
    "    # count all pixels\n",
    "    pixel_amount = gray.shape[0]*gray.shape[1]\n",
    "    # get number of pixels < black_value_threshold\n",
    "    relevant_pixel = (gray < black_value_threshold).sum()\n",
    "    # calculate percentage of irrelevant pixels\n",
    "    irrelevant_percentage = 1-(relevant_pixel/pixel_amount)\n",
    "    \n",
    "    logging.debug('pixel total : {} pixel relevant: {} irrelevant portion: {}'\n",
    "                  .format(pixel_amount, relevant_pixel, irrelevant_percentage))\n",
    "    print('pixel total : {} pixel relevant: {} irrelevant portion: {}'.format(pixel_amount, relevant_pixel, irrelevant_percentage))\n",
    "    \n",
    "    return threshold < irrelevant_percentage\n"
   ]
  },
  {
   "cell_type": "code",
   "execution_count": 11,
   "metadata": {},
   "outputs": [],
   "source": [
    "def is_patch_empty_old(image):\n",
    "    \"\"\"\n",
    "    Tests whether an image patch has enough content or not\n",
    "    :param image: image patch to test\n",
    "    :return: True for empty. False for enough content\n",
    "    \"\"\"\n",
    "    theshhold = 0.98\n",
    "\n",
    "    is_empty = False\n",
    "    # create a gray histogram\n",
    "    gray = cv2.cvtColor(image, cv2.COLOR_BGR2GRAY)\n",
    "    hist = cv2.calcHist([gray], [0], None, [256], [0, 256])\n",
    "\n",
    "    # collect black and white shades\n",
    "    black_shades = hist[0:180]\n",
    "    white_shades = hist[216:256]\n",
    "\n",
    "    white_sum = 0\n",
    "    black_sum = 0\n",
    "    height, width = image.shape[:2]\n",
    "    pixel_amount = height * width\n",
    "\n",
    "    for white_shade in white_shades:\n",
    "        white_sum += white_shade[0:1][0]\n",
    "    for black_shade in black_shades:\n",
    "        black_sum += black_shade[0:1][0]\n",
    "\n",
    "    white_amount = white_sum / pixel_amount\n",
    "    black_amount = black_sum / pixel_amount\n",
    "    print(\"black amount: \" + str(black_amount))\n",
    "    print(\"white amount: \" + str(white_amount))\n",
    "    if white_amount > theshhold:\n",
    "        is_empty = True\n",
    "\n",
    "    logging.debug(\"Is patch empty: \" + str(is_empty))\n",
    "    return is_empty"
   ]
  },
  {
   "cell_type": "code",
   "execution_count": 3,
   "metadata": {
    "collapsed": true
   },
   "outputs": [
    {
     "name": "stdout",
     "output_type": "stream",
     "text": [
      "shape of rgb: (562, 761, 3) from Type: <class 'numpy.ndarray'>\n"
     ]
    },
    {
     "data": {
      "image/png": "[encoded data removed]",
      "text/plain": [
       "<Figure size 432x288 with 1 Axes>"
      ]
     },
     "metadata": {},
     "output_type": "display_data"
    }
   ],
   "source": [
    "img = load_img_as_rgb('data/processed/classification_data_small/Fliesbilder/PDFsam_merge_0018_1x1.jpg')\n"
   ]
  },
  {
   "cell_type": "code",
   "execution_count": 3,
   "metadata": {
    "collapsed": true
   },
   "outputs": [
    {
     "name": "stdout",
     "output_type": "stream",
     "text": [
      "step: 17.0, times: 5.0\n"
     ]
    },
    {
     "data": {
      "text/plain": [
       "98"
      ]
     },
     "execution_count": 3,
     "metadata": {},
     "output_type": "execute_result"
    }
   ],
   "source": [
    "w = 100\n",
    "h = 100\n",
    "dw = 30\n",
    "dh = 30\n",
    "ynum = np.ceil(1.25*(h/dh))\n",
    "ystep = dh - np.ceil(((dh*ynum)-h)/(ynum-1))\n",
    "print('step: {}, times: {}'.format(ystep, ynum))\n",
    "30+17+17+17+17"
   ]
  },
  {
   "cell_type": "code",
   "execution_count": 4,
   "metadata": {},
   "outputs": [],
   "source": [
    "def get_stride(img_size, patch_size):\n",
    "    x_count = np.ceil(1.25*(img_size[0]/patch_size[0]))\n",
    "    y_count = np.ceil(1.25*(img_size[1]/patch_size[1]))\n",
    "    x_stride = patch_size[0] - np.ceil(((patch_size[0] * x_count)-img_size[0]) / (x_count-1))\n",
    "    y_stride = patch_size[1] - np.ceil(((patch_size[1] * y_count)-img_size[1]) / (y_count-1))\n",
    "    return int(x_stride), int(y_stride)"
   ]
  },
  {
   "cell_type": "code",
   "execution_count": null,
   "metadata": {},
   "outputs": [
    {
     "name": "stderr",
     "output_type": "stream",
     "text": [
      "/home/simon/GitKraken/multiclass_keras/venv/lib/python3.6/site-packages/ipykernel_launcher.py:5: RuntimeWarning: divide by zero encountered in double_scalars\n  \"\"\"\n"
     ]
    },
    {
     "ename": "OverflowError",
     "evalue": "cannot convert float infinity to integer",
     "traceback": [
      "\u001b[0;31m---------------------------------------------------------------------------\u001b[0m",
      "\u001b[0;31mOverflowError\u001b[0m                             Traceback (most recent call last)",
      "\u001b[0;32m<ipython-input-33-e9c7a489f4a1>\u001b[0m in \u001b[0;36m<module>\u001b[0;34m()\u001b[0m\n\u001b[0;32m----> 1\u001b[0;31m \u001b[0mget_stride\u001b[0m\u001b[0;34m(\u001b[0m\u001b[0;34m(\u001b[0m\u001b[0;36m100\u001b[0m\u001b[0;34m,\u001b[0m \u001b[0;36m20\u001b[0m\u001b[0;34m)\u001b[0m\u001b[0;34m,\u001b[0m \u001b[0;34m(\u001b[0m\u001b[0;36m30\u001b[0m\u001b[0;34m,\u001b[0m \u001b[0;36m30\u001b[0m\u001b[0;34m)\u001b[0m\u001b[0;34m)\u001b[0m\u001b[0;34m\u001b[0m\u001b[0m\n\u001b[0m",
      "\u001b[0;32m<ipython-input-30-b1ab73fbfb77>\u001b[0m in \u001b[0;36mget_stride\u001b[0;34m(img_size, patch_size)\u001b[0m\n\u001b[1;32m      4\u001b[0m     \u001b[0mx_stride\u001b[0m \u001b[0;34m=\u001b[0m \u001b[0mpatch_size\u001b[0m\u001b[0;34m[\u001b[0m\u001b[0;36m0\u001b[0m\u001b[0;34m]\u001b[0m \u001b[0;34m-\u001b[0m \u001b[0mnp\u001b[0m\u001b[0;34m.\u001b[0m\u001b[0mceil\u001b[0m\u001b[0;34m(\u001b[0m\u001b[0;34m(\u001b[0m\u001b[0;34m(\u001b[0m\u001b[0mpatch_size\u001b[0m\u001b[0;34m[\u001b[0m\u001b[0;36m0\u001b[0m\u001b[0;34m]\u001b[0m \u001b[0;34m*\u001b[0m \u001b[0mx_count\u001b[0m\u001b[0;34m)\u001b[0m\u001b[0;34m-\u001b[0m\u001b[0mimg_size\u001b[0m\u001b[0;34m[\u001b[0m\u001b[0;36m0\u001b[0m\u001b[0;34m]\u001b[0m\u001b[0;34m)\u001b[0m \u001b[0;34m/\u001b[0m \u001b[0;34m(\u001b[0m\u001b[0mx_count\u001b[0m\u001b[0;34m-\u001b[0m\u001b[0;36m1\u001b[0m\u001b[0;34m)\u001b[0m\u001b[0;34m)\u001b[0m\u001b[0;34m\u001b[0m\u001b[0m\n\u001b[1;32m      5\u001b[0m     \u001b[0my_stride\u001b[0m \u001b[0;34m=\u001b[0m \u001b[0mpatch_size\u001b[0m\u001b[0;34m[\u001b[0m\u001b[0;36m1\u001b[0m\u001b[0;34m]\u001b[0m \u001b[0;34m-\u001b[0m \u001b[0mnp\u001b[0m\u001b[0;34m.\u001b[0m\u001b[0mceil\u001b[0m\u001b[0;34m(\u001b[0m\u001b[0;34m(\u001b[0m\u001b[0;34m(\u001b[0m\u001b[0mpatch_size\u001b[0m\u001b[0;34m[\u001b[0m\u001b[0;36m1\u001b[0m\u001b[0;34m]\u001b[0m \u001b[0;34m*\u001b[0m \u001b[0my_count\u001b[0m\u001b[0;34m)\u001b[0m\u001b[0;34m-\u001b[0m\u001b[0mimg_size\u001b[0m\u001b[0;34m[\u001b[0m\u001b[0;36m1\u001b[0m\u001b[0;34m]\u001b[0m\u001b[0;34m)\u001b[0m \u001b[0;34m/\u001b[0m \u001b[0;34m(\u001b[0m\u001b[0my_count\u001b[0m\u001b[0;34m-\u001b[0m\u001b[0;36m1\u001b[0m\u001b[0;34m)\u001b[0m\u001b[0;34m)\u001b[0m\u001b[0;34m\u001b[0m\u001b[0m\n\u001b[0;32m----> 6\u001b[0;31m     \u001b[0;32mreturn\u001b[0m \u001b[0mint\u001b[0m\u001b[0;34m(\u001b[0m\u001b[0mx_stride\u001b[0m\u001b[0;34m)\u001b[0m\u001b[0;34m,\u001b[0m \u001b[0mint\u001b[0m\u001b[0;34m(\u001b[0m\u001b[0my_stride\u001b[0m\u001b[0;34m)\u001b[0m\u001b[0;34m\u001b[0m\u001b[0m\n\u001b[0m",
      "\u001b[0;31mOverflowError\u001b[0m: cannot convert float infinity to integer"
     ],
     "output_type": "error"
    }
   ],
   "source": [
    "get_stride((100, 120), (30, 30))"
   ]
  },
  {
   "cell_type": "code",
   "execution_count": 6,
   "metadata": {},
   "outputs": [],
   "source": [
    "def sliding_window(image, stepSize, windowSize):\n",
    "    # slide a window across the image\n",
    "    # stride x and stride y > 0\n",
    "    if stepSize[0] > 0 and stepSize[1] > 0:\n",
    "        for x in range(0, image.shape[0]-windowSize[0]+1, stepSize[0]):\n",
    "            for y in range(0, image.shape[1]-windowSize[1]+1, stepSize[1]):\n",
    "                # yield the current window\n",
    "                yield (x, y, image[x:x + windowSize[0], y:y + windowSize[1]])\n",
    "    # stride x > 0, stride y == 0\n",
    "    if stepSize[0] > 0 and stepSize[1] == 0:\n",
    "        for x in range(0, image.shape[0]-windowSize[0]+1, stepSize[0]):\n",
    "            # yield the current window\n",
    "            yield (x, 0, image[x:x + windowSize[0], 0:0 + windowSize[1]])\n",
    "    # stride x == 0, stride y > 0\n",
    "    if stepSize[0] == 0 and stepSize[1] > 0:\n",
    "        for y in range(0, image.shape[1]-windowSize[1]+1, stepSize[1]):\n",
    "            # yield the current window\n",
    "            yield (0, y, image[0:0 + windowSize[0], y:y + windowSize[1]])\n",
    "    # stride x and stride y == 0\n",
    "    if stepSize[0] == 0 and stepSize[1] == 0:\n",
    "        yield (0, 0, image[0:0 + windowSize[0], 0:0 + windowSize[1]])"
   ]
  },
  {
   "cell_type": "code",
   "execution_count": 7,
   "metadata": {},
   "outputs": [],
   "source": [
    "def create_patches(image, slice_width, slice_height):\n",
    "    # resize image width \n",
    "    if image.shape[0] < slice_width:\n",
    "        print('resize width from: {}'.format(image.shape))\n",
    "        factor = slice_width/image.shape[0]\n",
    "        image = cv2.resize(image, (0, 0), fx=factor, fy=factor)\n",
    "        print('resize width to: {}'.format(image.shape))\n",
    "    # resize image height\n",
    "    if image.shape[1] < slice_height:\n",
    "        print('resize height from: {}'.format(image.shape))\n",
    "        factor = slice_height / image.shape[1]\n",
    "        image = cv2.resize(image, (0, 0), fx=factor, fy=factor)\n",
    "        print('resize height to: {}'.format(image.shape))\n",
    "    result = []\n",
    "    stride = get_stride(image.shape, (slice_width, slice_height))\n",
    "    print('stride: {}'.format(stride))\n",
    "    # loop over the image pyramid\n",
    "    # for resized in pyramid(image, scale=100):\n",
    "    # loop over the sliding window for each layer of the pyramid\n",
    "    for (x, y, window) in sliding_window(image, stepSize=stride, windowSize=(slice_width, slice_height)):\n",
    "        # if the window does not meet our desired window size, ignore it\n",
    "        print('x: {}, y: {}, window: {}'.format(x, y, window.shape))\n",
    "        if window.shape[1] != slice_height or window.shape[0] != slice_width:\n",
    "            continue\n",
    "\n",
    "        clone = image.copy()\n",
    "\n",
    "        crop_img = clone[y:y + slice_width, x:x + slice_height]\n",
    "        result.append(crop_img)\n",
    "\n",
    "    return result"
   ]
  },
  {
   "cell_type": "code",
   "execution_count": null,
   "metadata": {
    "collapsed": true
   },
   "outputs": [
    {
     "name": "stdout",
     "output_type": "stream",
     "text": [
      "img shape: (562, 761, 3)\nstride: (120, 170)\nx: 0, y: 0, window: (200, 250, 3)\nx: 0, y: 170, window: (200, 250, 3)\nx: 0, y: 340, window: (200, 250, 3)\nx: 0, y: 510, window: (200, 250, 3)\nx: 120, y: 0, window: (200, 250, 3)\nx: 120, y: 170, window: (200, 250, 3)\nx: 120, y: 340, window: (200, 250, 3)\nx: 120, y: 510, window: (200, 250, 3)\nx: 240, y: 0, window: (200, 250, 3)\nx: 240, y: 170, window: (200, 250, 3)\nx: 240, y: 340, window: (200, 250, 3)\nx: 240, y: 510, window: (200, 250, 3)\nx: 360, y: 0, window: (200, 250, 3)\nx: 360, y: 170, window: (200, 250, 3)\nx: 360, y: 340, window: (200, 250, 3)\nx: 360, y: 510, window: (200, 250, 3)\nnumber of patches: 16\n"
     ]
    },
    {
     "data": {
      "text/plain": [
       "<matplotlib.image.AxesImage at 0x7f0d4df0a470>"
      ]
     },
     "execution_count": 62,
     "metadata": {},
     "output_type": "execute_result"
    },
    {
     "data": {
      "image/png": "[encoded data removed]",
      "text/plain": [
       "<Figure size 432x288 with 1 Axes>"
      ]
     },
     "metadata": {},
     "output_type": "display_data"
    }
   ],
   "source": [
    "#img = cv2.resize(img, (0, 0), fx=2, fy=2)\n",
    "print('img shape: {}'.format(img.shape))\n",
    "\n",
    "patches = create_patches(img, 200, 250)\n",
    "print('number of patches: {}'.format(len(patches)))\n",
    "mp.imshow(patches[2], cmap='gray')"
   ]
  },
  {
   "cell_type": "code",
   "execution_count": null,
   "metadata": {},
   "outputs": [],
   "source": []
  }
 ],
 "metadata": {
  "kernelspec": {
   "display_name": "Python 3",
   "language": "python",
   "name": "python3"
  },
  "language_info": {
   "codemirror_mode": {
    "name": "ipython",
    "version": 3
   },
   "file_extension": ".py",
   "mimetype": "text/x-python",
   "name": "python",
   "nbconvert_exporter": "python",
   "pygments_lexer": "ipython3",
   "version": "3.6.0"
  }
 },
 "nbformat": 4,
 "nbformat_minor": 2
}
