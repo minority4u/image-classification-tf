{
 "cells": [
  {
   "cell_type": "code",
   "execution_count": 39,
   "metadata": {
    "collapsed": true
   },
   "outputs": [],
   "source": [
    "import numpy as np\n",
    "import matplotlib.pyplot as mp\n",
    "import matplotlib.image as mpimg\n",
    "import cv2\n",
    "\n",
    "%matplotlib inline"
   ]
  },
  {
   "cell_type": "code",
   "execution_count": 60,
   "metadata": {},
   "outputs": [],
   "source": [
    "def load_img_as_rgb(path):\n",
    "    rgb = cv2.imread(path)\n",
    "    print('shape of rgb: {} from Type: {}'.format(rgb.shape, type(rgb)))\n",
    "    mp.imshow(rgb)\n",
    "    \n",
    "    return rgb"
   ]
  },
  {
   "cell_type": "code",
   "execution_count": 41,
   "metadata": {},
   "outputs": [],
   "source": [
    "#create black and white image\n",
    "def create_black_white_img(size):\n",
    "    black_white = np.random.randint(2, size=(size[0], size[1]))\n",
    "    black_white = black_white*255\n",
    "    \n",
    "    mp.imshow(black_white, cmap='gray')\n",
    "    print('shape of black_white: {}'.format(black_white.shape))\n",
    "    #print('black_white : {}'.format(black_white))\n",
    "    \n",
    "    return black_white"
   ]
  },
  {
   "cell_type": "code",
   "execution_count": 42,
   "metadata": {},
   "outputs": [],
   "source": [
    "#create grayscale imagesize\n",
    "def create_grayscale_img(size):\n",
    "    grayscale = np.random.randint(256, size=(size[0], size[1]))\n",
    "    \n",
    "    mp.imshow(grayscale, cmap='gray')\n",
    "    print('shape of grayscale: {}'.format(grayscale.shape))\n",
    "    #print('grayscale : {}'.format(grayscale))\n",
    "    \n",
    "    return grayscale"
   ]
  },
  {
   "cell_type": "code",
   "execution_count": 65,
   "metadata": {},
   "outputs": [],
   "source": [
    "#create rgb image\n",
    "def create_rgb_img(size):\n",
    "    rgb = np.random.randint(256, size=(size[0], size[1], size[2]))\n",
    "    \n",
    "    mp.imshow(rgb)\n",
    "    print('shape of rgb: {} from Type: {}'.format(rgb.shape, type(rgb)))\n",
    "    #print('rgb : {}'.format(rgb))\n",
    "    \n",
    "    return rgb"
   ]
  },
  {
   "cell_type": "code",
   "execution_count": 44,
   "metadata": {
    "collapsed": true
   },
   "outputs": [],
   "source": [
    "#convert to greyscale all colors equal weight\n",
    "def to_gray_eq(rgb):\n",
    "    gray_eq = np.dot(rgb[..., :3], [0.3333, 0.3333, 0.3333])\n",
    "    gray_eq = np.round(gray_eq, decimals=0)\n",
    "        \n",
    "    mp.imshow(gray_eq, cmap='gray')\n",
    "    print('shape of gray_eq : {}'.format(gray_eq.shape))\n",
    "    #print('gray_eq : {}'.format(gray_eq))\n",
    "    \n",
    "    return gray_eq"
   ]
  },
  {
   "cell_type": "code",
   "execution_count": 45,
   "metadata": {},
   "outputs": [],
   "source": [
    "#convert to greyscale all colors special weight\n",
    "def to_gray_wi(rgb):\n",
    "    gray_wi = np.dot(rgb[... , :3], [0.299, 0.587, 0.114])\n",
    "    gray_wi = np.round(gray_wi, decimals=0)\n",
    "        \n",
    "    mp.imshow(gray_wi, cmap='gray')\n",
    "    print('shape of gray_wi : {}'.format(gray_wi.shape))\n",
    "    #print('gray_wi : {}'.format(gray_wi))\n",
    "    \n",
    "    return gray_wi"
   ]
  },
  {
   "cell_type": "code",
   "execution_count": 46,
   "metadata": {},
   "outputs": [],
   "source": [
    "def to_canny(rgb):\n",
    "    canny = cv2.Canny(rgb, 0, 255)\n",
    "    mp.imshow(canny, cmap='gray')\n",
    "    print('shape of canny : {}'.format(canny.shape))\n",
    "    print('canny : {}'.format(canny))\n",
    "    return canny"
   ]
  },
  {
   "cell_type": "code",
   "execution_count": 58,
   "metadata": {},
   "outputs": [],
   "source": [
    "def to_binary(rgb):\n",
    "    binary = cv2.cvtColor(rgb, cv2.COLOR_RGB2GRAY)\n",
    "    print('shape of binary : {}'.format(binary.shape))\n",
    "    print('binary : {}'.format(binary))"
   ]
  },
  {
   "cell_type": "code",
   "execution_count": 85,
   "metadata": {},
   "outputs": [],
   "source": [
    "def is_patch_empty(image):\n",
    "    \"\"\"\n",
    "    Tests whether an image patch has enough content or not\n",
    "    :param image: image patch to test\n",
    "    :return: True for empty. False for enough content\n",
    "    \"\"\"\n",
    "\n",
    "    treshhold = 0.98\n",
    "    \n",
    "    # create a gray histogram\n",
    "    gray = cv2.cvtColor(image, cv2.COLOR_BGR2GRAY)\n",
    "    print('shape of image : {} shape of gray : {}'.format(image.shape, gray.shape))\n",
    "    \n",
    "    pixel_amount = gray.shape[0]*gray.shape[1]\n",
    "    relevant_pixel = (gray < 180).sum()\n",
    "    \n",
    "    print('pixel total : {} pixel relevant: {} relevant portion: {}'.format(pixel_amount, relevant_pixel, 1-(relevant_pixel/pixel_amount)))\n",
    "    \n",
    "    return treshhold < 1-(relevant_pixel/pixel_amount)\n",
    "   \n",
    "\n",
    "    "
   ]
  },
  {
   "cell_type": "code",
   "execution_count": 86,
   "metadata": {
    "collapsed": true
   },
   "outputs": [
    {
     "name": "stdout",
     "output_type": "stream",
     "text": [
      "shape of rgb: (511, 808, 3) from Type: <class 'numpy.ndarray'>\nshape of image : (511, 808, 3) shape of gray : (511, 808)\npixel total : 412888 pixel relevant: 16527 relevant portion: 0.9599721958497219\n"
     ]
    },
    {
     "data": {
      "text/plain": [
       "False"
      ]
     },
     "execution_count": 86,
     "metadata": {},
     "output_type": "execute_result"
    },
    {
     "data": {
      "image/png": "[encoded data removed]",
      "text/plain": [
       "<Figure size 432x288 with 1 Axes>"
      ]
     },
     "metadata": {},
     "output_type": "display_data"
    }
   ],
   "source": [
    "img = load_img_as_rgb('data/processed/classification_data_small/Etechnik/img_0_0_0.jpg')\n",
    "is_patch_empty(img)"
   ]
  },
  {
   "cell_type": "code",
   "execution_count": null,
   "metadata": {},
   "outputs": [],
   "source": []
  }
 ],
 "metadata": {
  "kernelspec": {
   "display_name": "Python 3",
   "language": "python",
   "name": "python3"
  },
  "language_info": {
   "codemirror_mode": {
    "name": "ipython",
    "version": 3
   },
   "file_extension": ".py",
   "mimetype": "text/x-python",
   "name": "python",
   "nbconvert_exporter": "python",
   "pygments_lexer": "ipython3",
   "version": "3.6.0"
  }
 },
 "nbformat": 4,
 "nbformat_minor": 2
}
