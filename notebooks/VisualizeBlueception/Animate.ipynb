{
 "cells": [
  {
   "cell_type": "code",
   "execution_count": 1,
   "metadata": {
    "scrolled": true
   },
   "outputs": [
    {
     "name": "stderr",
     "output_type": "stream",
     "text": [
      "Using TensorFlow backend.\n"
     ]
    },
    {
     "name": "stdout",
     "output_type": "stream",
     "text": [
      "__________________________________________________________________________________________________\n",
      "Layer (type)                    Output Shape         Param #     Connected to                     \n",
      "==================================================================================================\n",
      "Input_1 (InputLayer)            (None, 224, 224, 3)  0                                            \n",
      "__________________________________________________________________________________________________\n",
      "Convolution2D_236 (Conv2D)      (None, 112, 112, 32) 896         Input_1[0][0]                    \n",
      "__________________________________________________________________________________________________\n",
      "Convolution2D_235 (Conv2D)      (None, 112, 112, 32) 9248        Convolution2D_236[0][0]          \n",
      "__________________________________________________________________________________________________\n",
      "Convolution2D_237 (Conv2D)      (None, 110, 110, 64) 18496       Convolution2D_235[0][0]          \n",
      "__________________________________________________________________________________________________\n",
      "MaxPooling2D_69 (MaxPooling2D)  (None, 55, 55, 64)   0           Convolution2D_237[0][0]          \n",
      "__________________________________________________________________________________________________\n",
      "Convolution2D_238 (Conv2D)      (None, 53, 53, 80)   46160       MaxPooling2D_69[0][0]            \n",
      "__________________________________________________________________________________________________\n",
      "Convolution2D_239 (Conv2D)      (None, 26, 26, 192)  138432      Convolution2D_238[0][0]          \n",
      "__________________________________________________________________________________________________\n",
      "Convolution2D_1 (Conv2D)        (None, 26, 26, 32)   6176        Convolution2D_239[0][0]          \n",
      "__________________________________________________________________________________________________\n",
      "Convolution2D_4 (Conv2D)        (None, 26, 26, 64)   6208        Convolution2D_1[0][0]            \n",
      "__________________________________________________________________________________________________\n",
      "Convolution2D_2 (Conv2D)        (None, 26, 26, 32)   6176        Convolution2D_239[0][0]          \n",
      "__________________________________________________________________________________________________\n",
      "Convolution2D_6 (Conv2D)        (None, 26, 26, 64)   12352       Convolution2D_4[0][0]            \n",
      "__________________________________________________________________________________________________\n",
      "MaxPooling2D_7 (MaxPooling2D)   (None, 13, 13, 192)  0           Convolution2D_239[0][0]          \n",
      "__________________________________________________________________________________________________\n",
      "Convolution2D_8 (Conv2D)        (None, 13, 26, 64)   6208        Convolution2D_2[0][0]            \n",
      "__________________________________________________________________________________________________\n",
      "Convolution2D_5 (Conv2D)        (None, 13, 26, 64)   12352       Convolution2D_6[0][0]            \n",
      "__________________________________________________________________________________________________\n",
      "Convolution2D_10 (Conv2D)       (None, 13, 13, 64)   12352       MaxPooling2D_7[0][0]             \n",
      "__________________________________________________________________________________________________\n",
      "Convolution2D_9 (Conv2D)        (None, 13, 13, 64)   12352       Convolution2D_8[0][0]            \n",
      "__________________________________________________________________________________________________\n",
      "Convolution2D_7 (Conv2D)        (None, 13, 13, 64)   12352       Convolution2D_5[0][0]            \n",
      "__________________________________________________________________________________________________\n",
      "Convolution2D_3 (Conv2D)        (None, 13, 13, 32)   6176        Convolution2D_239[0][0]          \n",
      "__________________________________________________________________________________________________\n",
      "merge_1 (Concatenate)           (None, 13, 13, 224)  0           Convolution2D_10[0][0]           \n",
      "                                                                 Convolution2D_9[0][0]            \n",
      "                                                                 Convolution2D_7[0][0]            \n",
      "                                                                 Convolution2D_3[0][0]            \n",
      "__________________________________________________________________________________________________\n",
      "Convolution2D_121 (Conv2D)      (None, 13, 13, 128)  28800       merge_1[0][0]                    \n",
      "__________________________________________________________________________________________________\n",
      "Convolution2D_122 (Conv2D)      (None, 13, 13, 128)  49280       Convolution2D_121[0][0]          \n",
      "__________________________________________________________________________________________________\n",
      "Convolution2D_126 (Conv2D)      (None, 13, 13, 128)  28800       merge_1[0][0]                    \n",
      "__________________________________________________________________________________________________\n",
      "Convolution2D_123 (Conv2D)      (None, 13, 13, 128)  49280       Convolution2D_122[0][0]          \n",
      "__________________________________________________________________________________________________\n",
      "Convolution2D_127 (Conv2D)      (None, 7, 13, 128)   49280       Convolution2D_126[0][0]          \n",
      "__________________________________________________________________________________________________\n",
      "MaxPooling2D_15 (MaxPooling2D)  (None, 7, 7, 224)    0           merge_1[0][0]                    \n",
      "__________________________________________________________________________________________________\n",
      "Convolution2D_124 (Conv2D)      (None, 7, 13, 128)   49280       Convolution2D_123[0][0]          \n",
      "__________________________________________________________________________________________________\n",
      "Convolution2D_128 (Conv2D)      (None, 7, 7, 128)    49280       Convolution2D_127[0][0]          \n",
      "__________________________________________________________________________________________________\n",
      "Convolution2D_129 (Conv2D)      (None, 7, 7, 128)    28800       MaxPooling2D_15[0][0]            \n",
      "__________________________________________________________________________________________________\n",
      "Convolution2D_125 (Conv2D)      (None, 7, 7, 128)    49280       Convolution2D_124[0][0]          \n",
      "__________________________________________________________________________________________________\n",
      "Convolution2D_130 (Conv2D)      (None, 7, 7, 128)    28800       merge_1[0][0]                    \n",
      "__________________________________________________________________________________________________\n",
      "merge_10 (Concatenate)          (None, 7, 7, 512)    0           Convolution2D_128[0][0]          \n",
      "                                                                 Convolution2D_129[0][0]          \n",
      "                                                                 Convolution2D_125[0][0]          \n",
      "                                                                 Convolution2D_130[0][0]          \n",
      "__________________________________________________________________________________________________\n",
      "MaxPooling2D_70 (MaxPooling2D)  (None, 1, 1, 512)    0           merge_10[0][0]                   \n",
      "__________________________________________________________________________________________________\n",
      "Flatten_5 (Flatten)             (None, 512)          0           MaxPooling2D_70[0][0]            \n",
      "__________________________________________________________________________________________________\n",
      "Dense_14 (Dense)                (None, 5)            2565        Flatten_5[0][0]                  \n",
      "__________________________________________________________________________________________________\n",
      "Dense_2 (Dense)                 (None, 5)            30          Dense_14[0][0]                   \n",
      "==================================================================================================\n",
      "Total params: 719,411\n",
      "Trainable params: 719,411\n",
      "Non-trainable params: 0\n",
      "__________________________________________________________________________________________________\n",
      "None\n",
      "__________________________________________________________________________________________________\n",
      "Layer (type)                    Output Shape         Param #     Connected to                     \n",
      "==================================================================================================\n",
      "Input_1 (InputLayer)            (None, 224, 224, 3)  0                                            \n",
      "__________________________________________________________________________________________________\n",
      "Convolution2D_236 (Conv2D)      (None, 112, 112, 32) 896         Input_1[0][0]                    \n",
      "__________________________________________________________________________________________________\n",
      "Convolution2D_235 (Conv2D)      (None, 112, 112, 32) 9248        Convolution2D_236[0][0]          \n",
      "__________________________________________________________________________________________________\n",
      "Convolution2D_237 (Conv2D)      (None, 110, 110, 64) 18496       Convolution2D_235[0][0]          \n",
      "__________________________________________________________________________________________________\n",
      "MaxPooling2D_69 (MaxPooling2D)  (None, 55, 55, 64)   0           Convolution2D_237[0][0]          \n",
      "__________________________________________________________________________________________________\n",
      "Convolution2D_238 (Conv2D)      (None, 53, 53, 80)   46160       MaxPooling2D_69[0][0]            \n",
      "__________________________________________________________________________________________________\n",
      "Convolution2D_239 (Conv2D)      (None, 26, 26, 192)  138432      Convolution2D_238[0][0]          \n",
      "__________________________________________________________________________________________________\n",
      "Convolution2D_1 (Conv2D)        (None, 26, 26, 32)   6176        Convolution2D_239[0][0]          \n",
      "__________________________________________________________________________________________________\n",
      "Convolution2D_4 (Conv2D)        (None, 26, 26, 64)   6208        Convolution2D_1[0][0]            \n",
      "__________________________________________________________________________________________________\n",
      "Convolution2D_2 (Conv2D)        (None, 26, 26, 32)   6176        Convolution2D_239[0][0]          \n",
      "__________________________________________________________________________________________________\n",
      "Convolution2D_6 (Conv2D)        (None, 26, 26, 64)   12352       Convolution2D_4[0][0]            \n",
      "__________________________________________________________________________________________________\n",
      "MaxPooling2D_7 (MaxPooling2D)   (None, 13, 13, 192)  0           Convolution2D_239[0][0]          \n",
      "__________________________________________________________________________________________________\n",
      "Convolution2D_8 (Conv2D)        (None, 13, 26, 64)   6208        Convolution2D_2[0][0]            \n",
      "__________________________________________________________________________________________________\n",
      "Convolution2D_5 (Conv2D)        (None, 13, 26, 64)   12352       Convolution2D_6[0][0]            \n",
      "__________________________________________________________________________________________________\n",
      "Convolution2D_10 (Conv2D)       (None, 13, 13, 64)   12352       MaxPooling2D_7[0][0]             \n",
      "__________________________________________________________________________________________________\n",
      "Convolution2D_9 (Conv2D)        (None, 13, 13, 64)   12352       Convolution2D_8[0][0]            \n",
      "__________________________________________________________________________________________________\n",
      "Convolution2D_7 (Conv2D)        (None, 13, 13, 64)   12352       Convolution2D_5[0][0]            \n",
      "__________________________________________________________________________________________________\n",
      "Convolution2D_3 (Conv2D)        (None, 13, 13, 32)   6176        Convolution2D_239[0][0]          \n",
      "__________________________________________________________________________________________________\n",
      "merge_1 (Concatenate)           (None, 13, 13, 224)  0           Convolution2D_10[0][0]           \n",
      "                                                                 Convolution2D_9[0][0]            \n",
      "                                                                 Convolution2D_7[0][0]            \n",
      "                                                                 Convolution2D_3[0][0]            \n",
      "__________________________________________________________________________________________________\n",
      "Convolution2D_121 (Conv2D)      (None, 13, 13, 128)  28800       merge_1[0][0]                    \n",
      "__________________________________________________________________________________________________\n",
      "Convolution2D_122 (Conv2D)      (None, 13, 13, 128)  49280       Convolution2D_121[0][0]          \n",
      "__________________________________________________________________________________________________\n",
      "Convolution2D_126 (Conv2D)      (None, 13, 13, 128)  28800       merge_1[0][0]                    \n",
      "__________________________________________________________________________________________________\n",
      "Convolution2D_123 (Conv2D)      (None, 13, 13, 128)  49280       Convolution2D_122[0][0]          \n",
      "__________________________________________________________________________________________________\n",
      "Convolution2D_127 (Conv2D)      (None, 7, 13, 128)   49280       Convolution2D_126[0][0]          \n",
      "__________________________________________________________________________________________________\n",
      "MaxPooling2D_15 (MaxPooling2D)  (None, 7, 7, 224)    0           merge_1[0][0]                    \n",
      "__________________________________________________________________________________________________\n",
      "Convolution2D_124 (Conv2D)      (None, 7, 13, 128)   49280       Convolution2D_123[0][0]          \n",
      "__________________________________________________________________________________________________\n",
      "Convolution2D_128 (Conv2D)      (None, 7, 7, 128)    49280       Convolution2D_127[0][0]          \n",
      "__________________________________________________________________________________________________\n",
      "Convolution2D_129 (Conv2D)      (None, 7, 7, 128)    28800       MaxPooling2D_15[0][0]            \n",
      "__________________________________________________________________________________________________\n",
      "Convolution2D_125 (Conv2D)      (None, 7, 7, 128)    49280       Convolution2D_124[0][0]          \n",
      "__________________________________________________________________________________________________\n",
      "Convolution2D_130 (Conv2D)      (None, 7, 7, 128)    28800       merge_1[0][0]                    \n",
      "__________________________________________________________________________________________________\n",
      "merge_10 (Concatenate)          (None, 7, 7, 512)    0           Convolution2D_128[0][0]          \n",
      "                                                                 Convolution2D_129[0][0]          \n",
      "                                                                 Convolution2D_125[0][0]          \n",
      "                                                                 Convolution2D_130[0][0]          \n",
      "__________________________________________________________________________________________________\n",
      "MaxPooling2D_70 (MaxPooling2D)  (None, 1, 1, 512)    0           merge_10[0][0]                   \n",
      "__________________________________________________________________________________________________\n",
      "Flatten_5 (Flatten)             (None, 512)          0           MaxPooling2D_70[0][0]            \n",
      "__________________________________________________________________________________________________\n",
      "Dense_14 (Dense)                (None, 5)            2565        Flatten_5[0][0]                  \n",
      "__________________________________________________________________________________________________\n",
      "Dense_2 (Dense)                 (None, 5)            30          Dense_14[0][0]                   \n",
      "==================================================================================================\n",
      "Total params: 719,411\n",
      "Trainable params: 719,411\n",
      "Non-trainable params: 0\n",
      "__________________________________________________________________________________________________\n",
      "None\n"
     ]
    }
   ],
   "source": [
    "from keras.applications import VGG16\n",
    "from src.vis import utils\n",
    "from src.vis.utils import utils\n",
    "from keras import activations\n",
    "from keras.models import model_from_json\n",
    "from src.models.model_manager import get_optimizer\n",
    "from matplotlib import pyplot as plt\n",
    "\n",
    "\n",
    "\n",
    "json_file = open('D:\\Work\\AITeam\\multiclass_keras\\models/model.json','r')\n",
    "loaded_model_json = json_file.read()\n",
    "json_file.close()\n",
    "\n",
    "# convert json to keras model file\n",
    "model = model_from_json(loaded_model_json)\n",
    "#load woeights into new model\n",
    "model.load_weights(\"D:\\Work\\AITeam\\multiclass_keras\\models/model.h5\")\n",
    "model.compile(loss='categorical_crossentropy', optimizer=get_optimizer())\n",
    "print(model.summary())\n",
    "\n",
    "layer_idx = utils.find_layer_idx(model, 'Dense_2')\n",
    "# Swap softmax with linear\n",
    "model.layers[layer_idx].activation = activations.linear\n",
    "model = utils.apply_modifications(model)\n",
    "print(model.summary())"
   ]
  },
  {
   "cell_type": "code",
   "execution_count": 3,
   "metadata": {},
   "outputs": [
    {
     "name": "stderr",
     "output_type": "stream",
     "text": [
      "D:\\Work\\AITeam\\multiclass_keras\\venv\\lib\\site-packages\\skimage\\transform\\_warps.py:105: UserWarning: The default mode, 'constant', will be changed to 'reflect' in skimage 0.15.\n",
      "  warn(\"The default mode, 'constant', will be changed to 'reflect' in \"\n",
      "D:\\Work\\AITeam\\multiclass_keras\\venv\\lib\\site-packages\\skimage\\transform\\_warps.py:110: UserWarning: Anti-aliasing will be enabled by default in skimage 0.15 to avoid aliasing artifacts when down-sampling images.\n",
      "  warn(\"Anti-aliasing will be enabled by default in skimage 0.15 to \"\n"
     ]
    },
    {
     "data": {
      "text/plain": [
       "<matplotlib.image.AxesImage at 0x2786ad79208>"
      ]
     },
     "execution_count": 3,
     "metadata": {},
     "output_type": "execute_result"
    },
    {
     "data": {
      "image/png": "[encoded data removed]",
      "text/plain": [
       "<Figure size 1296x432 with 2 Axes>"
      ]
     },
     "metadata": {
      "needs_background": "light"
     },
     "output_type": "display_data"
    }
   ],
   "source": [
    "%matplotlib inline\n",
    "plt.rcParams['figure.figsize'] = (18, 6)\n",
    "img1 = utils.load_img('D:/Work\\AITeam/multiclass_keras/data/processed/transformed/Etechnik_JPG_Plaene/Etechnik_JPG_Plaene6_0.jpg', target_size=(224, 224))\n",
    "img2 = utils.load_img('D:/Work\\AITeam/multiclass_keras/data/processed/transformed/Etechnik_JPG_Plaene/Etechnik_JPG_Plaene6_1.jpg', target_size=(224, 224))\n",
    "f, ax = plt.subplots(1, 2)\n",
    "ax[0].imshow(img1)\n",
    "ax[1].imshow(img2)"
   ]
  },
  {
   "cell_type": "code",
   "execution_count": 21,
   "metadata": {
    "scrolled": false
   },
   "outputs": [
    {
     "name": "stdout",
     "output_type": "stream",
     "text": [
      "Model loaded.\n"
     ]
    },
    {
     "name": "stderr",
     "output_type": "stream",
     "text": [
      "Failed to lookup font 'FreeSans.ttf', falling back to default\n"
     ]
    },
    {
     "name": "stdout",
     "output_type": "stream",
     "text": [
      "Iteration: 1, named_losses: [('ActivationMax Loss', 43.001003),\n",
      " ('L-6.0 Norm Loss', 0.006325754),\n",
      " ('TV(2.0) Loss', 644.9829)], overall loss: 687.990234375\n"
     ]
    },
    {
     "name": "stderr",
     "output_type": "stream",
     "text": [
      "Failed to lookup font 'FreeSans.ttf', falling back to default\n"
     ]
    },
    {
     "name": "stdout",
     "output_type": "stream",
     "text": [
      "Iteration: 2, named_losses: [('ActivationMax Loss', 78.99909),\n",
      " ('L-6.0 Norm Loss', 0.0063104257),\n",
      " ('TV(2.0) Loss', 545.6794)], overall loss: 624.684814453125\n"
     ]
    },
    {
     "name": "stderr",
     "output_type": "stream",
     "text": [
      "Failed to lookup font 'FreeSans.ttf', falling back to default\n"
     ]
    },
    {
     "name": "stdout",
     "output_type": "stream",
     "text": [
      "Iteration: 3, named_losses: [('ActivationMax Loss', 85.78304),\n",
      " ('L-6.0 Norm Loss', 0.0063019763),\n",
      " ('TV(2.0) Loss', 490.0272)], overall loss: 575.8165283203125\n"
     ]
    },
    {
     "name": "stderr",
     "output_type": "stream",
     "text": [
      "Failed to lookup font 'FreeSans.ttf', falling back to default\n"
     ]
    },
    {
     "name": "stdout",
     "output_type": "stream",
     "text": [
      "Iteration: 4, named_losses: [('ActivationMax Loss', -1.4061103),\n",
      " ('L-6.0 Norm Loss', 0.006294976),\n",
      " ('TV(2.0) Loss', 446.69452)], overall loss: 445.2947082519531\n"
     ]
    },
    {
     "name": "stderr",
     "output_type": "stream",
     "text": [
      "Failed to lookup font 'FreeSans.ttf', falling back to default\n"
     ]
    },
    {
     "name": "stdout",
     "output_type": "stream",
     "text": [
      "Iteration: 5, named_losses: [('ActivationMax Loss', -43.31123),\n",
      " ('L-6.0 Norm Loss', 0.0062886346),\n",
      " ('TV(2.0) Loss', 407.3969)], overall loss: 364.09197998046875\n"
     ]
    },
    {
     "name": "stderr",
     "output_type": "stream",
     "text": [
      "Failed to lookup font 'FreeSans.ttf', falling back to default\n"
     ]
    },
    {
     "name": "stdout",
     "output_type": "stream",
     "text": [
      "Iteration: 6, named_losses: [('ActivationMax Loss', -55.264492),\n",
      " ('L-6.0 Norm Loss', 0.006283368),\n",
      " ('TV(2.0) Loss', 375.6456)], overall loss: 320.38739013671875\n"
     ]
    },
    {
     "name": "stderr",
     "output_type": "stream",
     "text": [
      "Failed to lookup font 'FreeSans.ttf', falling back to default\n"
     ]
    },
    {
     "name": "stdout",
     "output_type": "stream",
     "text": [
      "Iteration: 7, named_losses: [('ActivationMax Loss', -134.89424),\n",
      " ('L-6.0 Norm Loss', 0.00627955),\n",
      " ('TV(2.0) Loss', 351.90308)], overall loss: 217.01512145996094\n"
     ]
    },
    {
     "name": "stderr",
     "output_type": "stream",
     "text": [
      "Failed to lookup font 'FreeSans.ttf', falling back to default\n"
     ]
    },
    {
     "name": "stdout",
     "output_type": "stream",
     "text": [
      "Iteration: 8, named_losses: [('ActivationMax Loss', -185.45149),\n",
      " ('L-6.0 Norm Loss', 0.006276477),\n",
      " ('TV(2.0) Loss', 332.4511)], overall loss: 147.00588989257812\n"
     ]
    },
    {
     "name": "stderr",
     "output_type": "stream",
     "text": [
      "Failed to lookup font 'FreeSans.ttf', falling back to default\n"
     ]
    },
    {
     "name": "stdout",
     "output_type": "stream",
     "text": [
      "Iteration: 9, named_losses: [('ActivationMax Loss', -268.21762),\n",
      " ('L-6.0 Norm Loss', 0.0062751407),\n",
      " ('TV(2.0) Loss', 321.5745)], overall loss: 53.3631591796875\n"
     ]
    },
    {
     "name": "stderr",
     "output_type": "stream",
     "text": [
      "Failed to lookup font 'FreeSans.ttf', falling back to default\n"
     ]
    },
    {
     "name": "stdout",
     "output_type": "stream",
     "text": [
      "Iteration: 10, named_losses: [('ActivationMax Loss', -308.64044),\n",
      " ('L-6.0 Norm Loss', 0.0062736627),\n",
      " ('TV(2.0) Loss', 309.6437)], overall loss: 1.009552001953125\n"
     ]
    },
    {
     "name": "stderr",
     "output_type": "stream",
     "text": [
      "Failed to lookup font 'FreeSans.ttf', falling back to default\n"
     ]
    },
    {
     "name": "stdout",
     "output_type": "stream",
     "text": [
      "Iteration: 11, named_losses: [('ActivationMax Loss', -362.6329),\n",
      " ('L-6.0 Norm Loss', 0.006272241),\n",
      " ('TV(2.0) Loss', 298.95084)], overall loss: -63.67578125\n"
     ]
    },
    {
     "name": "stderr",
     "output_type": "stream",
     "text": [
      "Failed to lookup font 'FreeSans.ttf', falling back to default\n"
     ]
    },
    {
     "name": "stdout",
     "output_type": "stream",
     "text": [
      "Iteration: 12, named_losses: [('ActivationMax Loss', -395.77194),\n",
      " ('L-6.0 Norm Loss', 0.006270971),\n",
      " ('TV(2.0) Loss', 288.47867)], overall loss: -107.28701782226562\n"
     ]
    },
    {
     "name": "stderr",
     "output_type": "stream",
     "text": [
      "Failed to lookup font 'FreeSans.ttf', falling back to default\n"
     ]
    },
    {
     "name": "stdout",
     "output_type": "stream",
     "text": [
      "Iteration: 13, named_losses: [('ActivationMax Loss', -470.82535),\n",
      " ('L-6.0 Norm Loss', 0.006270084),\n",
      " ('TV(2.0) Loss', 280.00745)], overall loss: -190.8116455078125\n"
     ]
    },
    {
     "name": "stderr",
     "output_type": "stream",
     "text": [
      "Failed to lookup font 'FreeSans.ttf', falling back to default\n"
     ]
    },
    {
     "name": "stdout",
     "output_type": "stream",
     "text": [
      "Iteration: 14, named_losses: [('ActivationMax Loss', -530.4514),\n",
      " ('L-6.0 Norm Loss', 0.0062694927),\n",
      " ('TV(2.0) Loss', 272.6505)], overall loss: -257.79461669921875\n"
     ]
    },
    {
     "name": "stderr",
     "output_type": "stream",
     "text": [
      "Failed to lookup font 'FreeSans.ttf', falling back to default\n"
     ]
    },
    {
     "name": "stdout",
     "output_type": "stream",
     "text": [
      "Iteration: 15, named_losses: [('ActivationMax Loss', -600.97424),\n",
      " ('L-6.0 Norm Loss', 0.0062693805),\n",
      " ('TV(2.0) Loss', 267.29532)], overall loss: -333.6726379394531\n"
     ]
    },
    {
     "name": "stderr",
     "output_type": "stream",
     "text": [
      "Failed to lookup font 'FreeSans.ttf', falling back to default\n"
     ]
    },
    {
     "name": "stdout",
     "output_type": "stream",
     "text": [
      "Iteration: 16, named_losses: [('ActivationMax Loss', -664.0535),\n",
      " ('L-6.0 Norm Loss', 0.0062694084),\n",
      " ('TV(2.0) Loss', 262.71368)], overall loss: -401.33355712890625\n"
     ]
    },
    {
     "name": "stderr",
     "output_type": "stream",
     "text": [
      "Failed to lookup font 'FreeSans.ttf', falling back to default\n"
     ]
    },
    {
     "name": "stdout",
     "output_type": "stream",
     "text": [
      "Iteration: 17, named_losses: [('ActivationMax Loss', -719.1101),\n",
      " ('L-6.0 Norm Loss', 0.006269774),\n",
      " ('TV(2.0) Loss', 259.5361)], overall loss: -459.5677185058594\n"
     ]
    },
    {
     "name": "stderr",
     "output_type": "stream",
     "text": [
      "Failed to lookup font 'FreeSans.ttf', falling back to default\n"
     ]
    },
    {
     "name": "stdout",
     "output_type": "stream",
     "text": [
      "Iteration: 18, named_losses: [('ActivationMax Loss', -798.3851),\n",
      " ('L-6.0 Norm Loss', 0.006270319),\n",
      " ('TV(2.0) Loss', 257.39508)], overall loss: -540.9837036132812\n"
     ]
    },
    {
     "name": "stderr",
     "output_type": "stream",
     "text": [
      "Failed to lookup font 'FreeSans.ttf', falling back to default\n"
     ]
    },
    {
     "name": "stdout",
     "output_type": "stream",
     "text": [
      "Iteration: 19, named_losses: [('ActivationMax Loss', -878.2348),\n",
      " ('L-6.0 Norm Loss', 0.0062711486),\n",
      " ('TV(2.0) Loss', 256.44754)], overall loss: -621.781005859375\n"
     ]
    },
    {
     "name": "stderr",
     "output_type": "stream",
     "text": [
      "Failed to lookup font 'FreeSans.ttf', falling back to default\n"
     ]
    },
    {
     "name": "stdout",
     "output_type": "stream",
     "text": [
      "Iteration: 20, named_losses: [('ActivationMax Loss', -926.3864),\n",
      " ('L-6.0 Norm Loss', 0.0062722736),\n",
      " ('TV(2.0) Loss', 256.65118)], overall loss: -669.7289428710938\n"
     ]
    },
    {
     "name": "stderr",
     "output_type": "stream",
     "text": [
      "Failed to lookup font 'FreeSans.ttf', falling back to default\n"
     ]
    },
    {
     "name": "stdout",
     "output_type": "stream",
     "text": [
      "Iteration: 21, named_losses: [('ActivationMax Loss', -989.0288),\n",
      " ('L-6.0 Norm Loss', 0.006273345),\n",
      " ('TV(2.0) Loss', 256.9041)], overall loss: -732.118408203125\n"
     ]
    },
    {
     "name": "stderr",
     "output_type": "stream",
     "text": [
      "Failed to lookup font 'FreeSans.ttf', falling back to default\n"
     ]
    },
    {
     "name": "stdout",
     "output_type": "stream",
     "text": [
      "Iteration: 22, named_losses: [('ActivationMax Loss', -1046.036),\n",
      " ('L-6.0 Norm Loss', 0.006274531),\n",
      " ('TV(2.0) Loss', 257.45044)], overall loss: -788.579345703125\n"
     ]
    },
    {
     "name": "stderr",
     "output_type": "stream",
     "text": [
      "Failed to lookup font 'FreeSans.ttf', falling back to default\n"
     ]
    },
    {
     "name": "stdout",
     "output_type": "stream",
     "text": [
      "Iteration: 23, named_losses: [('ActivationMax Loss', -1108.2441),\n",
      " ('L-6.0 Norm Loss', 0.006275898),\n",
      " ('TV(2.0) Loss', 258.36044)], overall loss: -849.87744140625\n"
     ]
    },
    {
     "name": "stderr",
     "output_type": "stream",
     "text": [
      "Failed to lookup font 'FreeSans.ttf', falling back to default\n"
     ]
    },
    {
     "name": "stdout",
     "output_type": "stream",
     "text": [
      "Iteration: 24, named_losses: [('ActivationMax Loss', -1166.4557),\n",
      " ('L-6.0 Norm Loss', 0.0062775356),\n",
      " ('TV(2.0) Loss', 260.58023)], overall loss: -905.8692626953125\n"
     ]
    },
    {
     "name": "stderr",
     "output_type": "stream",
     "text": [
      "Failed to lookup font 'FreeSans.ttf', falling back to default\n"
     ]
    },
    {
     "name": "stdout",
     "output_type": "stream",
     "text": [
      "Iteration: 25, named_losses: [('ActivationMax Loss', -1227.6176),\n",
      " ('L-6.0 Norm Loss', 0.006278885),\n",
      " ('TV(2.0) Loss', 261.58832)], overall loss: -966.0230102539062\n"
     ]
    },
    {
     "name": "stderr",
     "output_type": "stream",
     "text": [
      "Failed to lookup font 'FreeSans.ttf', falling back to default\n",
      "Failed to lookup font 'FreeSans.ttf', falling back to default\n"
     ]
    },
    {
     "name": "stdout",
     "output_type": "stream",
     "text": [
      "Iteration: 26, named_losses: [('ActivationMax Loss', -1290.3167),\n",
      " ('L-6.0 Norm Loss', 0.0062806834),\n",
      " ('TV(2.0) Loss', 263.95377)], overall loss: -1026.356689453125\n"
     ]
    },
    {
     "name": "stderr",
     "output_type": "stream",
     "text": [
      "Failed to lookup font 'FreeSans.ttf', falling back to default\n"
     ]
    },
    {
     "name": "stdout",
     "output_type": "stream",
     "text": [
      "Iteration: 27, named_losses: [('ActivationMax Loss', -1336.6703),\n",
      " ('L-6.0 Norm Loss', 0.006282178),\n",
      " ('TV(2.0) Loss', 265.65662)], overall loss: -1071.0074462890625\n"
     ]
    },
    {
     "name": "stderr",
     "output_type": "stream",
     "text": [
      "Failed to lookup font 'FreeSans.ttf', falling back to default\n"
     ]
    },
    {
     "name": "stdout",
     "output_type": "stream",
     "text": [
      "Iteration: 28, named_losses: [('ActivationMax Loss', -1398.6149),\n",
      " ('L-6.0 Norm Loss', 0.006284073),\n",
      " ('TV(2.0) Loss', 268.40836)], overall loss: -1130.2003173828125\n"
     ]
    },
    {
     "name": "stderr",
     "output_type": "stream",
     "text": [
      "Failed to lookup font 'FreeSans.ttf', falling back to default\n"
     ]
    },
    {
     "name": "stdout",
     "output_type": "stream",
     "text": [
      "Iteration: 29, named_losses: [('ActivationMax Loss', -1450.881),\n",
      " ('L-6.0 Norm Loss', 0.0062861852),\n",
      " ('TV(2.0) Loss', 271.56207)], overall loss: -1179.312744140625\n"
     ]
    },
    {
     "name": "stderr",
     "output_type": "stream",
     "text": [
      "Failed to lookup font 'FreeSans.ttf', falling back to default\n"
     ]
    },
    {
     "name": "stdout",
     "output_type": "stream",
     "text": [
      "Iteration: 30, named_losses: [('ActivationMax Loss', -1514.5107),\n",
      " ('L-6.0 Norm Loss', 0.0062882067),\n",
      " ('TV(2.0) Loss', 274.8044)], overall loss: -1239.699951171875\n"
     ]
    },
    {
     "name": "stderr",
     "output_type": "stream",
     "text": [
      "Failed to lookup font 'FreeSans.ttf', falling back to default\n"
     ]
    },
    {
     "name": "stdout",
     "output_type": "stream",
     "text": [
      "Iteration: 31, named_losses: [('ActivationMax Loss', -1547.9972),\n",
      " ('L-6.0 Norm Loss', 0.0062902784),\n",
      " ('TV(2.0) Loss', 278.04797)], overall loss: -1269.94287109375\n",
      "Iteration: 32, named_losses: [('ActivationMax Loss', -1597.9302),\n",
      " ('L-6.0 Norm Loss', 0.006292462),\n",
      " ('TV(2.0) Loss', 281.7473)], overall loss: -1316.176513671875\n"
     ]
    },
    {
     "name": "stderr",
     "output_type": "stream",
     "text": [
      "Failed to lookup font 'FreeSans.ttf', falling back to default\n"
     ]
    },
    {
     "name": "stdout",
     "output_type": "stream",
     "text": [
      "Iteration: 33, named_losses: [('ActivationMax Loss', -1649.3456),\n",
      " ('L-6.0 Norm Loss', 0.006294604),\n",
      " ('TV(2.0) Loss', 285.67584)], overall loss: -1363.663330078125\n"
     ]
    },
    {
     "name": "stderr",
     "output_type": "stream",
     "text": [
      "Failed to lookup font 'FreeSans.ttf', falling back to default\n"
     ]
    },
    {
     "name": "stdout",
     "output_type": "stream",
     "text": [
      "Iteration: 34, named_losses: [('ActivationMax Loss', -1709.0433),\n",
      " ('L-6.0 Norm Loss', 0.0062967166),\n",
      " ('TV(2.0) Loss', 289.08832)], overall loss: -1419.94873046875\n"
     ]
    },
    {
     "name": "stderr",
     "output_type": "stream",
     "text": [
      "Failed to lookup font 'FreeSans.ttf', falling back to default\n"
     ]
    },
    {
     "name": "stdout",
     "output_type": "stream",
     "text": [
      "Iteration: 35, named_losses: [('ActivationMax Loss', -1772.263),\n",
      " ('L-6.0 Norm Loss', 0.006299339),\n",
      " ('TV(2.0) Loss', 294.0048)], overall loss: -1478.2518310546875\n"
     ]
    },
    {
     "name": "stderr",
     "output_type": "stream",
     "text": [
      "Failed to lookup font 'FreeSans.ttf', falling back to default\n"
     ]
    },
    {
     "name": "stdout",
     "output_type": "stream",
     "text": [
      "Iteration: 36, named_losses: [('ActivationMax Loss', -1817.8984),\n",
      " ('L-6.0 Norm Loss', 0.006301874),\n",
      " ('TV(2.0) Loss', 298.38806)], overall loss: -1519.5040283203125\n"
     ]
    },
    {
     "name": "stderr",
     "output_type": "stream",
     "text": [
      "Failed to lookup font 'FreeSans.ttf', falling back to default\n"
     ]
    },
    {
     "name": "stdout",
     "output_type": "stream",
     "text": [
      "Iteration: 37, named_losses: [('ActivationMax Loss', -1857.201),\n",
      " ('L-6.0 Norm Loss', 0.0063042003),\n",
      " ('TV(2.0) Loss', 302.36978)], overall loss: -1554.824951171875\n"
     ]
    },
    {
     "name": "stderr",
     "output_type": "stream",
     "text": [
      "Failed to lookup font 'FreeSans.ttf', falling back to default\n"
     ]
    },
    {
     "name": "stdout",
     "output_type": "stream",
     "text": [
      "Iteration: 38, named_losses: [('ActivationMax Loss', -1918.5817),\n",
      " ('L-6.0 Norm Loss', 0.0063069505),\n",
      " ('TV(2.0) Loss', 307.6904)], overall loss: -1610.8848876953125\n"
     ]
    },
    {
     "name": "stderr",
     "output_type": "stream",
     "text": [
      "Failed to lookup font 'FreeSans.ttf', falling back to default\n"
     ]
    },
    {
     "name": "stdout",
     "output_type": "stream",
     "text": [
      "Iteration: 39, named_losses: [('ActivationMax Loss', -1969.1979),\n",
      " ('L-6.0 Norm Loss', 0.006309361),\n",
      " ('TV(2.0) Loss', 312.07736)], overall loss: -1657.1141357421875\n"
     ]
    },
    {
     "name": "stderr",
     "output_type": "stream",
     "text": [
      "Failed to lookup font 'FreeSans.ttf', falling back to default\n"
     ]
    },
    {
     "name": "stdout",
     "output_type": "stream",
     "text": [
      "Iteration: 40, named_losses: [('ActivationMax Loss', -2018.3928),\n",
      " ('L-6.0 Norm Loss', 0.0063122544),\n",
      " ('TV(2.0) Loss', 317.53198)], overall loss: -1700.8544921875\n"
     ]
    },
    {
     "name": "stderr",
     "output_type": "stream",
     "text": [
      "Failed to lookup font 'FreeSans.ttf', falling back to default\n"
     ]
    },
    {
     "name": "stdout",
     "output_type": "stream",
     "text": [
      "Iteration: 41, named_losses: [('ActivationMax Loss', -2062.1313),\n",
      " ('L-6.0 Norm Loss', 0.006315052),\n",
      " ('TV(2.0) Loss', 322.54813)], overall loss: -1739.576904296875\n"
     ]
    },
    {
     "name": "stderr",
     "output_type": "stream",
     "text": [
      "Failed to lookup font 'FreeSans.ttf', falling back to default\n"
     ]
    },
    {
     "name": "stdout",
     "output_type": "stream",
     "text": [
      "Iteration: 42, named_losses: [('ActivationMax Loss', -2123.911),\n",
      " ('L-6.0 Norm Loss', 0.0063178814),\n",
      " ('TV(2.0) Loss', 328.13678)], overall loss: -1795.767822265625\n"
     ]
    },
    {
     "name": "stderr",
     "output_type": "stream",
     "text": [
      "Failed to lookup font 'FreeSans.ttf', falling back to default\n"
     ]
    },
    {
     "name": "stdout",
     "output_type": "stream",
     "text": [
      "Iteration: 43, named_losses: [('ActivationMax Loss', -2160.5242),\n",
      " ('L-6.0 Norm Loss', 0.006320996),\n",
      " ('TV(2.0) Loss', 333.7192)], overall loss: -1826.798583984375\n"
     ]
    },
    {
     "name": "stderr",
     "output_type": "stream",
     "text": [
      "Failed to lookup font 'FreeSans.ttf', falling back to default\n"
     ]
    },
    {
     "name": "stdout",
     "output_type": "stream",
     "text": [
      "Iteration: 44, named_losses: [('ActivationMax Loss', -2217.7007),\n",
      " ('L-6.0 Norm Loss', 0.0063242894),\n",
      " ('TV(2.0) Loss', 339.99255)], overall loss: -1877.7017822265625\n"
     ]
    },
    {
     "name": "stderr",
     "output_type": "stream",
     "text": [
      "Failed to lookup font 'FreeSans.ttf', falling back to default\n"
     ]
    },
    {
     "name": "stdout",
     "output_type": "stream",
     "text": [
      "Iteration: 45, named_losses: [('ActivationMax Loss', -2250.7168),\n",
      " ('L-6.0 Norm Loss', 0.0063269758),\n",
      " ('TV(2.0) Loss', 344.94565)], overall loss: -1905.7647705078125\n"
     ]
    },
    {
     "name": "stderr",
     "output_type": "stream",
     "text": [
      "Failed to lookup font 'FreeSans.ttf', falling back to default\n"
     ]
    },
    {
     "name": "stdout",
     "output_type": "stream",
     "text": [
      "Iteration: 46, named_losses: [('ActivationMax Loss', -2279.8557),\n",
      " ('L-6.0 Norm Loss', 0.0063301255),\n",
      " ('TV(2.0) Loss', 350.96237)], overall loss: -1928.886962890625\n"
     ]
    },
    {
     "name": "stderr",
     "output_type": "stream",
     "text": [
      "Failed to lookup font 'FreeSans.ttf', falling back to default\n"
     ]
    },
    {
     "name": "stdout",
     "output_type": "stream",
     "text": [
      "Iteration: 47, named_losses: [('ActivationMax Loss', -2343.1814),\n",
      " ('L-6.0 Norm Loss', 0.0063332994),\n",
      " ('TV(2.0) Loss', 357.26498)], overall loss: -1985.9100341796875\n"
     ]
    },
    {
     "name": "stderr",
     "output_type": "stream",
     "text": [
      "Failed to lookup font 'FreeSans.ttf', falling back to default\n"
     ]
    },
    {
     "name": "stdout",
     "output_type": "stream",
     "text": [
      "Iteration: 48, named_losses: [('ActivationMax Loss', -2394.323),\n",
      " ('L-6.0 Norm Loss', 0.0063364417),\n",
      " ('TV(2.0) Loss', 362.80524)], overall loss: -2031.511474609375\n"
     ]
    },
    {
     "name": "stderr",
     "output_type": "stream",
     "text": [
      "Failed to lookup font 'FreeSans.ttf', falling back to default\n"
     ]
    },
    {
     "name": "stdout",
     "output_type": "stream",
     "text": [
      "Iteration: 49, named_losses: [('ActivationMax Loss', -2435.6936),\n",
      " ('L-6.0 Norm Loss', 0.0063395943),\n",
      " ('TV(2.0) Loss', 368.89954)], overall loss: -2066.78759765625\n"
     ]
    },
    {
     "name": "stderr",
     "output_type": "stream",
     "text": [
      "Failed to lookup font 'FreeSans.ttf', falling back to default\n"
     ]
    },
    {
     "name": "stdout",
     "output_type": "stream",
     "text": [
      "Iteration: 50, named_losses: [('ActivationMax Loss', -2478.5764),\n",
      " ('L-6.0 Norm Loss', 0.0063428725),\n",
      " ('TV(2.0) Loss', 375.2461)], overall loss: -2103.323974609375\n"
     ]
    },
    {
     "name": "stderr",
     "output_type": "stream",
     "text": [
      "Failed to lookup font 'FreeSans.ttf', falling back to default\n"
     ]
    },
    {
     "name": "stdout",
     "output_type": "stream",
     "text": [
      "Iteration: 51, named_losses: [('ActivationMax Loss', -2525.0847),\n",
      " ('L-6.0 Norm Loss', 0.006346347),\n",
      " ('TV(2.0) Loss', 381.61313)], overall loss: -2143.46533203125\n"
     ]
    },
    {
     "name": "stderr",
     "output_type": "stream",
     "text": [
      "Failed to lookup font 'FreeSans.ttf', falling back to default\n"
     ]
    },
    {
     "name": "stdout",
     "output_type": "stream",
     "text": [
      "Iteration: 52, named_losses: [('ActivationMax Loss', -2569.479),\n",
      " ('L-6.0 Norm Loss', 0.0063495543),\n",
      " ('TV(2.0) Loss', 387.75568)], overall loss: -2181.717041015625\n"
     ]
    },
    {
     "name": "stderr",
     "output_type": "stream",
     "text": [
      "Failed to lookup font 'FreeSans.ttf', falling back to default\n"
     ]
    },
    {
     "name": "stdout",
     "output_type": "stream",
     "text": [
      "Iteration: 53, named_losses: [('ActivationMax Loss', -2607.894),\n",
      " ('L-6.0 Norm Loss', 0.00635287),\n",
      " ('TV(2.0) Loss', 394.15427)], overall loss: -2213.7333984375\n"
     ]
    },
    {
     "name": "stderr",
     "output_type": "stream",
     "text": [
      "Failed to lookup font 'FreeSans.ttf', falling back to default\n"
     ]
    },
    {
     "name": "stdout",
     "output_type": "stream",
     "text": [
      "Iteration: 54, named_losses: [('ActivationMax Loss', -2657.3374),\n",
      " ('L-6.0 Norm Loss', 0.0063563297),\n",
      " ('TV(2.0) Loss', 400.9866)], overall loss: -2256.344482421875\n"
     ]
    },
    {
     "name": "stderr",
     "output_type": "stream",
     "text": [
      "Failed to lookup font 'FreeSans.ttf', falling back to default\n"
     ]
    },
    {
     "name": "stdout",
     "output_type": "stream",
     "text": [
      "Iteration: 55, named_losses: [('ActivationMax Loss', -2708.9187),\n",
      " ('L-6.0 Norm Loss', 0.006359726),\n",
      " ('TV(2.0) Loss', 407.28772)], overall loss: -2301.62451171875\n"
     ]
    },
    {
     "name": "stderr",
     "output_type": "stream",
     "text": [
      "Failed to lookup font 'FreeSans.ttf', falling back to default\n"
     ]
    },
    {
     "name": "stdout",
     "output_type": "stream",
     "text": [
      "Iteration: 56, named_losses: [('ActivationMax Loss', -2743.8003),\n",
      " ('L-6.0 Norm Loss', 0.0063632424),\n",
      " ('TV(2.0) Loss', 414.1003)], overall loss: -2329.693603515625\n"
     ]
    },
    {
     "name": "stderr",
     "output_type": "stream",
     "text": [
      "Failed to lookup font 'FreeSans.ttf', falling back to default\n"
     ]
    },
    {
     "name": "stdout",
     "output_type": "stream",
     "text": [
      "Iteration: 57, named_losses: [('ActivationMax Loss', -2791.2617),\n",
      " ('L-6.0 Norm Loss', 0.006366829),\n",
      " ('TV(2.0) Loss', 421.09244)], overall loss: -2370.162841796875\n"
     ]
    },
    {
     "name": "stderr",
     "output_type": "stream",
     "text": [
      "Failed to lookup font 'FreeSans.ttf', falling back to default\n"
     ]
    },
    {
     "name": "stdout",
     "output_type": "stream",
     "text": [
      "Iteration: 58, named_losses: [('ActivationMax Loss', -2834.0347),\n",
      " ('L-6.0 Norm Loss', 0.0063704303),\n",
      " ('TV(2.0) Loss', 427.88275)], overall loss: -2406.1455078125\n"
     ]
    },
    {
     "name": "stderr",
     "output_type": "stream",
     "text": [
      "Failed to lookup font 'FreeSans.ttf', falling back to default\n"
     ]
    },
    {
     "name": "stdout",
     "output_type": "stream",
     "text": [
      "Iteration: 59, named_losses: [('ActivationMax Loss', -2858.6619),\n",
      " ('L-6.0 Norm Loss', 0.006374184),\n",
      " ('TV(2.0) Loss', 435.3857)], overall loss: -2423.269775390625\n"
     ]
    },
    {
     "name": "stderr",
     "output_type": "stream",
     "text": [
      "Failed to lookup font 'FreeSans.ttf', falling back to default\n"
     ]
    },
    {
     "name": "stdout",
     "output_type": "stream",
     "text": [
      "Iteration: 60, named_losses: [('ActivationMax Loss', -2915.5642),\n",
      " ('L-6.0 Norm Loss', 0.0063774292),\n",
      " ('TV(2.0) Loss', 441.2323)], overall loss: -2474.32568359375\n"
     ]
    },
    {
     "name": "stderr",
     "output_type": "stream",
     "text": [
      "Failed to lookup font 'FreeSans.ttf', falling back to default\n"
     ]
    },
    {
     "name": "stdout",
     "output_type": "stream",
     "text": [
      "Iteration: 61, named_losses: [('ActivationMax Loss', -2968.7559),\n",
      " ('L-6.0 Norm Loss', 0.006381318),\n",
      " ('TV(2.0) Loss', 448.7604)], overall loss: -2519.989013671875\n"
     ]
    },
    {
     "name": "stderr",
     "output_type": "stream",
     "text": [
      "Failed to lookup font 'FreeSans.ttf', falling back to default\n"
     ]
    },
    {
     "name": "stdout",
     "output_type": "stream",
     "text": [
      "Iteration: 62, named_losses: [('ActivationMax Loss', -3001.6792),\n",
      " ('L-6.0 Norm Loss', 0.0063847043),\n",
      " ('TV(2.0) Loss', 454.9482)], overall loss: -2546.724609375\n"
     ]
    },
    {
     "name": "stderr",
     "output_type": "stream",
     "text": [
      "Failed to lookup font 'FreeSans.ttf', falling back to default\n",
      "Failed to lookup font 'FreeSans.ttf', falling back to default\n"
     ]
    },
    {
     "name": "stdout",
     "output_type": "stream",
     "text": [
      "Iteration: 63, named_losses: [('ActivationMax Loss', -3037.4255),\n",
      " ('L-6.0 Norm Loss', 0.0063883252),\n",
      " ('TV(2.0) Loss', 461.68463)], overall loss: -2575.734619140625\n"
     ]
    },
    {
     "name": "stderr",
     "output_type": "stream",
     "text": [
      "Failed to lookup font 'FreeSans.ttf', falling back to default\n"
     ]
    },
    {
     "name": "stdout",
     "output_type": "stream",
     "text": [
      "Iteration: 64, named_losses: [('ActivationMax Loss', -3086.5098),\n",
      " ('L-6.0 Norm Loss', 0.006391703),\n",
      " ('TV(2.0) Loss', 468.26413)], overall loss: -2618.2392578125\n"
     ]
    },
    {
     "name": "stderr",
     "output_type": "stream",
     "text": [
      "Failed to lookup font 'FreeSans.ttf', falling back to default\n"
     ]
    },
    {
     "name": "stdout",
     "output_type": "stream",
     "text": [
      "Iteration: 65, named_losses: [('ActivationMax Loss', -3097.4324),\n",
      " ('L-6.0 Norm Loss', 0.006395634),\n",
      " ('TV(2.0) Loss', 475.5269)], overall loss: -2621.899169921875\n"
     ]
    },
    {
     "name": "stderr",
     "output_type": "stream",
     "text": [
      "Failed to lookup font 'FreeSans.ttf', falling back to default\n"
     ]
    },
    {
     "name": "stdout",
     "output_type": "stream",
     "text": [
      "Iteration: 66, named_losses: [('ActivationMax Loss', -3174.2913),\n",
      " ('L-6.0 Norm Loss', 0.0063991584),\n",
      " ('TV(2.0) Loss', 482.3287)], overall loss: -2691.956298828125\n"
     ]
    },
    {
     "name": "stderr",
     "output_type": "stream",
     "text": [
      "Failed to lookup font 'FreeSans.ttf', falling back to default\n"
     ]
    },
    {
     "name": "stdout",
     "output_type": "stream",
     "text": [
      "Iteration: 67, named_losses: [('ActivationMax Loss', -3205.39),\n",
      " ('L-6.0 Norm Loss', 0.006403398),\n",
      " ('TV(2.0) Loss', 490.0562)], overall loss: -2715.327392578125\n"
     ]
    },
    {
     "name": "stderr",
     "output_type": "stream",
     "text": [
      "Failed to lookup font 'FreeSans.ttf', falling back to default\n"
     ]
    },
    {
     "name": "stdout",
     "output_type": "stream",
     "text": [
      "Iteration: 68, named_losses: [('ActivationMax Loss', -3234.4265),\n",
      " ('L-6.0 Norm Loss', 0.0064077307),\n",
      " ('TV(2.0) Loss', 498.49536)], overall loss: -2735.9248046875\n",
      "Iteration: 69, named_losses: [('ActivationMax Loss', -3283.8396),\n",
      " ('L-6.0 Norm Loss', 0.0064118267),\n",
      " ('TV(2.0) Loss', 505.92188)], overall loss: -2777.911376953125\n"
     ]
    },
    {
     "name": "stderr",
     "output_type": "stream",
     "text": [
      "Failed to lookup font 'FreeSans.ttf', falling back to default\n"
     ]
    },
    {
     "name": "stdout",
     "output_type": "stream",
     "text": [
      "Iteration: 70, named_losses: [('ActivationMax Loss', -3343.5935),\n",
      " ('L-6.0 Norm Loss', 0.006416164),\n",
      " ('TV(2.0) Loss', 514.5604)], overall loss: -2829.02685546875\n"
     ]
    },
    {
     "name": "stderr",
     "output_type": "stream",
     "text": [
      "Failed to lookup font 'FreeSans.ttf', falling back to default\n"
     ]
    },
    {
     "name": "stdout",
     "output_type": "stream",
     "text": [
      "Iteration: 71, named_losses: [('ActivationMax Loss', -3370.022),\n",
      " ('L-6.0 Norm Loss', 0.00642011),\n",
      " ('TV(2.0) Loss', 521.4056)], overall loss: -2848.610107421875\n"
     ]
    },
    {
     "name": "stderr",
     "output_type": "stream",
     "text": [
      "Failed to lookup font 'FreeSans.ttf', falling back to default\n"
     ]
    },
    {
     "name": "stdout",
     "output_type": "stream",
     "text": [
      "Iteration: 72, named_losses: [('ActivationMax Loss', -3409.777),\n",
      " ('L-6.0 Norm Loss', 0.006423896),\n",
      " ('TV(2.0) Loss', 528.8188)], overall loss: -2880.951904296875\n"
     ]
    },
    {
     "name": "stderr",
     "output_type": "stream",
     "text": [
      "Failed to lookup font 'FreeSans.ttf', falling back to default\n"
     ]
    },
    {
     "name": "stdout",
     "output_type": "stream",
     "text": [
      "Iteration: 73, named_losses: [('ActivationMax Loss', -3453.0493),\n",
      " ('L-6.0 Norm Loss', 0.0064288126),\n",
      " ('TV(2.0) Loss', 537.5661)], overall loss: -2915.476806640625\n"
     ]
    },
    {
     "name": "stderr",
     "output_type": "stream",
     "text": [
      "Failed to lookup font 'FreeSans.ttf', falling back to default\n"
     ]
    },
    {
     "name": "stdout",
     "output_type": "stream",
     "text": [
      "Iteration: 74, named_losses: [('ActivationMax Loss', -3482.322),\n",
      " ('L-6.0 Norm Loss', 0.0064328257),\n",
      " ('TV(2.0) Loss', 544.8225)], overall loss: -2937.4931640625\n"
     ]
    },
    {
     "name": "stderr",
     "output_type": "stream",
     "text": [
      "Failed to lookup font 'FreeSans.ttf', falling back to default\n"
     ]
    },
    {
     "name": "stdout",
     "output_type": "stream",
     "text": [
      "Iteration: 75, named_losses: [('ActivationMax Loss', -3528.9895),\n",
      " ('L-6.0 Norm Loss', 0.006437632),\n",
      " ('TV(2.0) Loss', 554.07196)], overall loss: -2974.9111328125\n"
     ]
    },
    {
     "name": "stderr",
     "output_type": "stream",
     "text": [
      "Failed to lookup font 'FreeSans.ttf', falling back to default\n"
     ]
    },
    {
     "name": "stdout",
     "output_type": "stream",
     "text": [
      "Iteration: 76, named_losses: [('ActivationMax Loss', -3559.0708),\n",
      " ('L-6.0 Norm Loss', 0.006441478),\n",
      " ('TV(2.0) Loss', 560.25)], overall loss: -2998.814453125\n"
     ]
    },
    {
     "name": "stderr",
     "output_type": "stream",
     "text": [
      "Failed to lookup font 'FreeSans.ttf', falling back to default\n"
     ]
    },
    {
     "name": "stdout",
     "output_type": "stream",
     "text": [
      "Iteration: 77, named_losses: [('ActivationMax Loss', -3604.9004),\n",
      " ('L-6.0 Norm Loss', 0.0064458814),\n",
      " ('TV(2.0) Loss', 568.661)], overall loss: -3036.23291015625\n"
     ]
    },
    {
     "name": "stderr",
     "output_type": "stream",
     "text": [
      "Failed to lookup font 'FreeSans.ttf', falling back to default\n"
     ]
    },
    {
     "name": "stdout",
     "output_type": "stream",
     "text": [
      "Iteration: 78, named_losses: [('ActivationMax Loss', -3637.9797),\n",
      " ('L-6.0 Norm Loss', 0.006450621),\n",
      " ('TV(2.0) Loss', 577.01245)], overall loss: -3060.9609375\n"
     ]
    },
    {
     "name": "stderr",
     "output_type": "stream",
     "text": [
      "Failed to lookup font 'FreeSans.ttf', falling back to default\n"
     ]
    },
    {
     "name": "stdout",
     "output_type": "stream",
     "text": [
      "Iteration: 79, named_losses: [('ActivationMax Loss', -3669.1091),\n",
      " ('L-6.0 Norm Loss', 0.006455275),\n",
      " ('TV(2.0) Loss', 585.72626)], overall loss: -3083.37646484375\n"
     ]
    },
    {
     "name": "stderr",
     "output_type": "stream",
     "text": [
      "Failed to lookup font 'FreeSans.ttf', falling back to default\n"
     ]
    },
    {
     "name": "stdout",
     "output_type": "stream",
     "text": [
      "Iteration: 80, named_losses: [('ActivationMax Loss', -3744.9648),\n",
      " ('L-6.0 Norm Loss', 0.006459275),\n",
      " ('TV(2.0) Loss', 592.82446)], overall loss: -3152.134033203125\n"
     ]
    },
    {
     "name": "stderr",
     "output_type": "stream",
     "text": [
      "Failed to lookup font 'FreeSans.ttf', falling back to default\n"
     ]
    },
    {
     "name": "stdout",
     "output_type": "stream",
     "text": [
      "Iteration: 81, named_losses: [('ActivationMax Loss', -3760.6472),\n",
      " ('L-6.0 Norm Loss', 0.00646446),\n",
      " ('TV(2.0) Loss', 601.8297)], overall loss: -3158.81103515625\n"
     ]
    },
    {
     "name": "stderr",
     "output_type": "stream",
     "text": [
      "Failed to lookup font 'FreeSans.ttf', falling back to default\n"
     ]
    },
    {
     "name": "stdout",
     "output_type": "stream",
     "text": [
      "Iteration: 82, named_losses: [('ActivationMax Loss', -3814.567),\n",
      " ('L-6.0 Norm Loss', 0.006468547),\n",
      " ('TV(2.0) Loss', 609.5096)], overall loss: -3205.051025390625\n"
     ]
    },
    {
     "name": "stderr",
     "output_type": "stream",
     "text": [
      "Failed to lookup font 'FreeSans.ttf', falling back to default\n"
     ]
    },
    {
     "name": "stdout",
     "output_type": "stream",
     "text": [
      "Iteration: 83, named_losses: [('ActivationMax Loss', -3849.1614),\n",
      " ('L-6.0 Norm Loss', 0.0064735403),\n",
      " ('TV(2.0) Loss', 618.58563)], overall loss: -3230.569091796875\n"
     ]
    },
    {
     "name": "stderr",
     "output_type": "stream",
     "text": [
      "Failed to lookup font 'FreeSans.ttf', falling back to default\n"
     ]
    },
    {
     "name": "stdout",
     "output_type": "stream",
     "text": [
      "Iteration: 84, named_losses: [('ActivationMax Loss', -3870.4758),\n",
      " ('L-6.0 Norm Loss', 0.0064784167),\n",
      " ('TV(2.0) Loss', 627.4892)], overall loss: -3242.97998046875\n"
     ]
    },
    {
     "name": "stderr",
     "output_type": "stream",
     "text": [
      "Failed to lookup font 'FreeSans.ttf', falling back to default\n"
     ]
    },
    {
     "name": "stdout",
     "output_type": "stream",
     "text": [
      "Iteration: 85, named_losses: [('ActivationMax Loss', -3936.475),\n",
      " ('L-6.0 Norm Loss', 0.0064828657),\n",
      " ('TV(2.0) Loss', 635.5578)], overall loss: -3300.91064453125\n"
     ]
    },
    {
     "name": "stderr",
     "output_type": "stream",
     "text": [
      "Failed to lookup font 'FreeSans.ttf', falling back to default\n"
     ]
    },
    {
     "name": "stdout",
     "output_type": "stream",
     "text": [
      "Iteration: 86, named_losses: [('ActivationMax Loss', -3952.545),\n",
      " ('L-6.0 Norm Loss', 0.0064881556),\n",
      " ('TV(2.0) Loss', 644.77313)], overall loss: -3307.76513671875\n"
     ]
    },
    {
     "name": "stderr",
     "output_type": "stream",
     "text": [
      "Failed to lookup font 'FreeSans.ttf', falling back to default\n"
     ]
    },
    {
     "name": "stdout",
     "output_type": "stream",
     "text": [
      "Iteration: 87, named_losses: [('ActivationMax Loss', -4008.3508),\n",
      " ('L-6.0 Norm Loss', 0.006492158),\n",
      " ('TV(2.0) Loss', 651.4493)], overall loss: -3356.89501953125\n"
     ]
    },
    {
     "name": "stderr",
     "output_type": "stream",
     "text": [
      "Failed to lookup font 'FreeSans.ttf', falling back to default\n"
     ]
    },
    {
     "name": "stdout",
     "output_type": "stream",
     "text": [
      "Iteration: 88, named_losses: [('ActivationMax Loss', -4058.6248),\n",
      " ('L-6.0 Norm Loss', 0.006497412),\n",
      " ('TV(2.0) Loss', 660.53217)], overall loss: -3398.0859375\n"
     ]
    },
    {
     "name": "stderr",
     "output_type": "stream",
     "text": [
      "Failed to lookup font 'FreeSans.ttf', falling back to default\n"
     ]
    },
    {
     "name": "stdout",
     "output_type": "stream",
     "text": [
      "Iteration: 89, named_losses: [('ActivationMax Loss', -4071.0063),\n",
      " ('L-6.0 Norm Loss', 0.0065022935),\n",
      " ('TV(2.0) Loss', 669.274)], overall loss: -3401.725830078125\n"
     ]
    },
    {
     "name": "stderr",
     "output_type": "stream",
     "text": [
      "Failed to lookup font 'FreeSans.ttf', falling back to default\n"
     ]
    },
    {
     "name": "stdout",
     "output_type": "stream",
     "text": [
      "Iteration: 90, named_losses: [('ActivationMax Loss', -4133.428),\n",
      " ('L-6.0 Norm Loss', 0.0065076295),\n",
      " ('TV(2.0) Loss', 678.8541)], overall loss: -3454.56787109375\n"
     ]
    },
    {
     "name": "stderr",
     "output_type": "stream",
     "text": [
      "Failed to lookup font 'FreeSans.ttf', falling back to default\n"
     ]
    },
    {
     "name": "stdout",
     "output_type": "stream",
     "text": [
      "Iteration: 91, named_losses: [('ActivationMax Loss', -4148.789),\n",
      " ('L-6.0 Norm Loss', 0.0065122535),\n",
      " ('TV(2.0) Loss', 686.531)], overall loss: -3462.251708984375\n"
     ]
    },
    {
     "name": "stderr",
     "output_type": "stream",
     "text": [
      "Failed to lookup font 'FreeSans.ttf', falling back to default\n"
     ]
    },
    {
     "name": "stdout",
     "output_type": "stream",
     "text": [
      "Iteration: 92, named_losses: [('ActivationMax Loss', -4199.391),\n",
      " ('L-6.0 Norm Loss', 0.00651698),\n",
      " ('TV(2.0) Loss', 695.29486)], overall loss: -3504.08984375\n"
     ]
    },
    {
     "name": "stderr",
     "output_type": "stream",
     "text": [
      "Failed to lookup font 'FreeSans.ttf', falling back to default\n"
     ]
    },
    {
     "name": "stdout",
     "output_type": "stream",
     "text": [
      "Iteration: 93, named_losses: [('ActivationMax Loss', -4232.5947),\n",
      " ('L-6.0 Norm Loss', 0.0065217274),\n",
      " ('TV(2.0) Loss', 703.1397)], overall loss: -3529.44873046875\n"
     ]
    },
    {
     "name": "stderr",
     "output_type": "stream",
     "text": [
      "Failed to lookup font 'FreeSans.ttf', falling back to default\n"
     ]
    },
    {
     "name": "stdout",
     "output_type": "stream",
     "text": [
      "Iteration: 94, named_losses: [('ActivationMax Loss', -4283.69),\n",
      " ('L-6.0 Norm Loss', 0.0065269466),\n",
      " ('TV(2.0) Loss', 712.376)], overall loss: -3571.3076171875\n"
     ]
    },
    {
     "name": "stderr",
     "output_type": "stream",
     "text": [
      "Failed to lookup font 'FreeSans.ttf', falling back to default\n"
     ]
    },
    {
     "name": "stdout",
     "output_type": "stream",
     "text": [
      "Iteration: 95, named_losses: [('ActivationMax Loss', -4311.6577),\n",
      " ('L-6.0 Norm Loss', 0.0065320116),\n",
      " ('TV(2.0) Loss', 721.2822)], overall loss: -3590.369140625\n"
     ]
    },
    {
     "name": "stderr",
     "output_type": "stream",
     "text": [
      "Failed to lookup font 'FreeSans.ttf', falling back to default\n"
     ]
    },
    {
     "name": "stdout",
     "output_type": "stream",
     "text": [
      "Iteration: 96, named_losses: [('ActivationMax Loss', -4357.488),\n",
      " ('L-6.0 Norm Loss', 0.0065371315),\n",
      " ('TV(2.0) Loss', 730.3818)], overall loss: -3627.099609375\n"
     ]
    },
    {
     "name": "stderr",
     "output_type": "stream",
     "text": [
      "Failed to lookup font 'FreeSans.ttf', falling back to default\n"
     ]
    },
    {
     "name": "stdout",
     "output_type": "stream",
     "text": [
      "Iteration: 97, named_losses: [('ActivationMax Loss', -4372.5913),\n",
      " ('L-6.0 Norm Loss', 0.0065428815),\n",
      " ('TV(2.0) Loss', 739.93964)], overall loss: -3632.645263671875\n"
     ]
    },
    {
     "name": "stderr",
     "output_type": "stream",
     "text": [
      "Failed to lookup font 'FreeSans.ttf', falling back to default\n"
     ]
    },
    {
     "name": "stdout",
     "output_type": "stream",
     "text": [
      "Iteration: 98, named_losses: [('ActivationMax Loss', -4435.412),\n",
      " ('L-6.0 Norm Loss', 0.0065472964),\n",
      " ('TV(2.0) Loss', 747.58716)], overall loss: -3687.818603515625\n"
     ]
    },
    {
     "name": "stderr",
     "output_type": "stream",
     "text": [
      "Failed to lookup font 'FreeSans.ttf', falling back to default\n"
     ]
    },
    {
     "name": "stdout",
     "output_type": "stream",
     "text": [
      "Iteration: 99, named_losses: [('ActivationMax Loss', -4448.0894),\n",
      " ('L-6.0 Norm Loss', 0.006552912),\n",
      " ('TV(2.0) Loss', 756.9511)], overall loss: -3691.1318359375\n"
     ]
    },
    {
     "name": "stderr",
     "output_type": "stream",
     "text": [
      "Failed to lookup font 'FreeSans.ttf', falling back to default\n"
     ]
    },
    {
     "name": "stdout",
     "output_type": "stream",
     "text": [
      "Iteration: 100, named_losses: [('ActivationMax Loss', -4495.316),\n",
      " ('L-6.0 Norm Loss', 0.006557632),\n",
      " ('TV(2.0) Loss', 765.2858)], overall loss: -3730.023681640625\n"
     ]
    },
    {
     "name": "stderr",
     "output_type": "stream",
     "text": [
      "Failed to lookup font 'FreeSans.ttf', falling back to default\n"
     ]
    },
    {
     "name": "stdout",
     "output_type": "stream",
     "text": [
      "Iteration: 101, named_losses: [('ActivationMax Loss', -4531.005),\n",
      " ('L-6.0 Norm Loss', 0.006563219),\n",
      " ('TV(2.0) Loss', 774.31726)], overall loss: -3756.68115234375\n"
     ]
    },
    {
     "name": "stderr",
     "output_type": "stream",
     "text": [
      "Failed to lookup font 'FreeSans.ttf', falling back to default\n"
     ]
    },
    {
     "name": "stdout",
     "output_type": "stream",
     "text": [
      "Iteration: 102, named_losses: [('ActivationMax Loss', -4570.9287),\n",
      " ('L-6.0 Norm Loss', 0.0065684062),\n",
      " ('TV(2.0) Loss', 782.82336)], overall loss: -3788.09912109375\n"
     ]
    },
    {
     "name": "stderr",
     "output_type": "stream",
     "text": [
      "Failed to lookup font 'FreeSans.ttf', falling back to default\n"
     ]
    },
    {
     "name": "stdout",
     "output_type": "stream",
     "text": [
      "Iteration: 103, named_losses: [('ActivationMax Loss', -4593.665),\n",
      " ('L-6.0 Norm Loss', 0.0065739295),\n",
      " ('TV(2.0) Loss', 792.223)], overall loss: -3801.435546875\n"
     ]
    },
    {
     "name": "stderr",
     "output_type": "stream",
     "text": [
      "Failed to lookup font 'FreeSans.ttf', falling back to default\n",
      "Failed to lookup font 'FreeSans.ttf', falling back to default\n"
     ]
    },
    {
     "name": "stdout",
     "output_type": "stream",
     "text": [
      "Iteration: 104, named_losses: [('ActivationMax Loss', -4647.1562),\n",
      " ('L-6.0 Norm Loss', 0.006578695),\n",
      " ('TV(2.0) Loss', 800.0016)], overall loss: -3847.1484375\n"
     ]
    },
    {
     "name": "stderr",
     "output_type": "stream",
     "text": [
      "Failed to lookup font 'FreeSans.ttf', falling back to default\n"
     ]
    },
    {
     "name": "stdout",
     "output_type": "stream",
     "text": [
      "Iteration: 105, named_losses: [('ActivationMax Loss', -4677.8716),\n",
      " ('L-6.0 Norm Loss', 0.0065847263),\n",
      " ('TV(2.0) Loss', 809.5609)], overall loss: -3868.30419921875\n"
     ]
    },
    {
     "name": "stderr",
     "output_type": "stream",
     "text": [
      "Failed to lookup font 'FreeSans.ttf', falling back to default\n"
     ]
    },
    {
     "name": "stdout",
     "output_type": "stream",
     "text": [
      "Iteration: 106, named_losses: [('ActivationMax Loss', -4710.3896),\n",
      " ('L-6.0 Norm Loss', 0.0065902416),\n",
      " ('TV(2.0) Loss', 819.60034)], overall loss: -3890.782958984375\n"
     ]
    },
    {
     "name": "stderr",
     "output_type": "stream",
     "text": [
      "Failed to lookup font 'FreeSans.ttf', falling back to default\n"
     ]
    },
    {
     "name": "stdout",
     "output_type": "stream",
     "text": [
      "Iteration: 107, named_losses: [('ActivationMax Loss', -4736.7163),\n",
      " ('L-6.0 Norm Loss', 0.006596108),\n",
      " ('TV(2.0) Loss', 829.202)], overall loss: -3907.50732421875\n"
     ]
    },
    {
     "name": "stderr",
     "output_type": "stream",
     "text": [
      "Failed to lookup font 'FreeSans.ttf', falling back to default\n"
     ]
    },
    {
     "name": "stdout",
     "output_type": "stream",
     "text": [
      "Iteration: 108, named_losses: [('ActivationMax Loss', -4777.0864),\n",
      " ('L-6.0 Norm Loss', 0.0066017574),\n",
      " ('TV(2.0) Loss', 838.901)], overall loss: -3938.1787109375\n"
     ]
    },
    {
     "name": "stderr",
     "output_type": "stream",
     "text": [
      "Failed to lookup font 'FreeSans.ttf', falling back to default\n"
     ]
    },
    {
     "name": "stdout",
     "output_type": "stream",
     "text": [
      "Iteration: 109, named_losses: [('ActivationMax Loss', -4813.101),\n",
      " ('L-6.0 Norm Loss', 0.0066067292),\n",
      " ('TV(2.0) Loss', 846.4126)], overall loss: -3966.681640625\n",
      "Iteration: 110, named_losses: [('ActivationMax Loss', -4853.904),\n",
      " ('L-6.0 Norm Loss', 0.0066127316),\n",
      " ('TV(2.0) Loss', 856.8495)], overall loss: -3997.04736328125\n"
     ]
    },
    {
     "name": "stderr",
     "output_type": "stream",
     "text": [
      "Failed to lookup font 'FreeSans.ttf', falling back to default\n"
     ]
    },
    {
     "name": "stdout",
     "output_type": "stream",
     "text": [
      "Iteration: 111, named_losses: [('ActivationMax Loss', -4888.0815),\n",
      " ('L-6.0 Norm Loss', 0.006618392),\n",
      " ('TV(2.0) Loss', 865.5957)], overall loss: -4022.47900390625\n"
     ]
    },
    {
     "name": "stderr",
     "output_type": "stream",
     "text": [
      "Failed to lookup font 'FreeSans.ttf', falling back to default\n"
     ]
    },
    {
     "name": "stdout",
     "output_type": "stream",
     "text": [
      "Iteration: 112, named_losses: [('ActivationMax Loss', -4934.447),\n",
      " ('L-6.0 Norm Loss', 0.0066242632),\n",
      " ('TV(2.0) Loss', 875.247)], overall loss: -4059.19287109375\n"
     ]
    },
    {
     "name": "stderr",
     "output_type": "stream",
     "text": [
      "Failed to lookup font 'FreeSans.ttf', falling back to default\n"
     ]
    },
    {
     "name": "stdout",
     "output_type": "stream",
     "text": [
      "Iteration: 113, named_losses: [('ActivationMax Loss', -4955.414),\n",
      " ('L-6.0 Norm Loss', 0.0066300896),\n",
      " ('TV(2.0) Loss', 884.3336)], overall loss: -4071.07373046875\n"
     ]
    },
    {
     "name": "stderr",
     "output_type": "stream",
     "text": [
      "Failed to lookup font 'FreeSans.ttf', falling back to default\n"
     ]
    },
    {
     "name": "stdout",
     "output_type": "stream",
     "text": [
      "Iteration: 114, named_losses: [('ActivationMax Loss', -5006.218),\n",
      " ('L-6.0 Norm Loss', 0.0066362084),\n",
      " ('TV(2.0) Loss', 894.08185)], overall loss: -4112.12890625\n"
     ]
    },
    {
     "name": "stderr",
     "output_type": "stream",
     "text": [
      "Failed to lookup font 'FreeSans.ttf', falling back to default\n"
     ]
    },
    {
     "name": "stdout",
     "output_type": "stream",
     "text": [
      "Iteration: 115, named_losses: [('ActivationMax Loss', -5023.8667),\n",
      " ('L-6.0 Norm Loss', 0.006641833),\n",
      " ('TV(2.0) Loss', 902.7963)], overall loss: -4121.0634765625\n"
     ]
    },
    {
     "name": "stderr",
     "output_type": "stream",
     "text": [
      "Failed to lookup font 'FreeSans.ttf', falling back to default\n"
     ]
    },
    {
     "name": "stdout",
     "output_type": "stream",
     "text": [
      "Iteration: 116, named_losses: [('ActivationMax Loss', -5073.385),\n",
      " ('L-6.0 Norm Loss', 0.0066478383),\n",
      " ('TV(2.0) Loss', 911.8588)], overall loss: -4161.51904296875\n"
     ]
    },
    {
     "name": "stderr",
     "output_type": "stream",
     "text": [
      "Failed to lookup font 'FreeSans.ttf', falling back to default\n"
     ]
    },
    {
     "name": "stdout",
     "output_type": "stream",
     "text": [
      "Iteration: 117, named_losses: [('ActivationMax Loss', -5107.4688),\n",
      " ('L-6.0 Norm Loss', 0.006654128),\n",
      " ('TV(2.0) Loss', 922.3885)], overall loss: -4185.0732421875\n"
     ]
    },
    {
     "name": "stderr",
     "output_type": "stream",
     "text": [
      "Failed to lookup font 'FreeSans.ttf', falling back to default\n"
     ]
    },
    {
     "name": "stdout",
     "output_type": "stream",
     "text": [
      "Iteration: 118, named_losses: [('ActivationMax Loss', -5119.9526),\n",
      " ('L-6.0 Norm Loss', 0.0066600735),\n",
      " ('TV(2.0) Loss', 931.3833)], overall loss: -4188.5625\n"
     ]
    },
    {
     "name": "stderr",
     "output_type": "stream",
     "text": [
      "Failed to lookup font 'FreeSans.ttf', falling back to default\n"
     ]
    },
    {
     "name": "stdout",
     "output_type": "stream",
     "text": [
      "Iteration: 119, named_losses: [('ActivationMax Loss', -5154.2505),\n",
      " ('L-6.0 Norm Loss', 0.006665752),\n",
      " ('TV(2.0) Loss', 941.0942)], overall loss: -4213.1494140625\n"
     ]
    },
    {
     "name": "stderr",
     "output_type": "stream",
     "text": [
      "Failed to lookup font 'FreeSans.ttf', falling back to default\n"
     ]
    },
    {
     "name": "stdout",
     "output_type": "stream",
     "text": [
      "Iteration: 120, named_losses: [('ActivationMax Loss', -5208.0566),\n",
      " ('L-6.0 Norm Loss', 0.006670503),\n",
      " ('TV(2.0) Loss', 948.3299)], overall loss: -4259.7197265625\n"
     ]
    },
    {
     "name": "stderr",
     "output_type": "stream",
     "text": [
      "Failed to lookup font 'FreeSans.ttf', falling back to default\n"
     ]
    },
    {
     "name": "stdout",
     "output_type": "stream",
     "text": [
      "Iteration: 121, named_losses: [('ActivationMax Loss', -5226.908),\n",
      " ('L-6.0 Norm Loss', 0.0066772555),\n",
      " ('TV(2.0) Loss', 959.30963)], overall loss: -4267.591796875\n"
     ]
    },
    {
     "name": "stderr",
     "output_type": "stream",
     "text": [
      "Failed to lookup font 'FreeSans.ttf', falling back to default\n"
     ]
    },
    {
     "name": "stdout",
     "output_type": "stream",
     "text": [
      "Iteration: 122, named_losses: [('ActivationMax Loss', -5272.8447),\n",
      " ('L-6.0 Norm Loss', 0.0066829477),\n",
      " ('TV(2.0) Loss', 968.1514)], overall loss: -4304.6865234375\n"
     ]
    },
    {
     "name": "stderr",
     "output_type": "stream",
     "text": [
      "Failed to lookup font 'FreeSans.ttf', falling back to default\n"
     ]
    },
    {
     "name": "stdout",
     "output_type": "stream",
     "text": [
      "Iteration: 123, named_losses: [('ActivationMax Loss', -5320.025),\n",
      " ('L-6.0 Norm Loss', 0.0066892975),\n",
      " ('TV(2.0) Loss', 978.76984)], overall loss: -4341.248046875\n"
     ]
    },
    {
     "name": "stderr",
     "output_type": "stream",
     "text": [
      "Failed to lookup font 'FreeSans.ttf', falling back to default\n"
     ]
    },
    {
     "name": "stdout",
     "output_type": "stream",
     "text": [
      "Iteration: 124, named_losses: [('ActivationMax Loss', -5329.8726),\n",
      " ('L-6.0 Norm Loss', 0.006695453),\n",
      " ('TV(2.0) Loss', 987.5614)], overall loss: -4342.30419921875\n"
     ]
    },
    {
     "name": "stderr",
     "output_type": "stream",
     "text": [
      "Failed to lookup font 'FreeSans.ttf', falling back to default\n"
     ]
    },
    {
     "name": "stdout",
     "output_type": "stream",
     "text": [
      "Iteration: 125, named_losses: [('ActivationMax Loss', -5385.7925),\n",
      " ('L-6.0 Norm Loss', 0.006702081),\n",
      " ('TV(2.0) Loss', 998.45215)], overall loss: -4387.33349609375\n"
     ]
    },
    {
     "name": "stderr",
     "output_type": "stream",
     "text": [
      "Failed to lookup font 'FreeSans.ttf', falling back to default\n"
     ]
    },
    {
     "name": "stdout",
     "output_type": "stream",
     "text": [
      "Iteration: 126, named_losses: [('ActivationMax Loss', -5407.04),\n",
      " ('L-6.0 Norm Loss', 0.0067079323),\n",
      " ('TV(2.0) Loss', 1006.7529)], overall loss: -4400.2802734375\n"
     ]
    },
    {
     "name": "stderr",
     "output_type": "stream",
     "text": [
      "Failed to lookup font 'FreeSans.ttf', falling back to default\n"
     ]
    },
    {
     "name": "stdout",
     "output_type": "stream",
     "text": [
      "Iteration: 127, named_losses: [('ActivationMax Loss', -5432.5366),\n",
      " ('L-6.0 Norm Loss', 0.006714936),\n",
      " ('TV(2.0) Loss', 1018.2896)], overall loss: -4414.240234375\n"
     ]
    },
    {
     "name": "stderr",
     "output_type": "stream",
     "text": [
      "Failed to lookup font 'FreeSans.ttf', falling back to default\n"
     ]
    },
    {
     "name": "stdout",
     "output_type": "stream",
     "text": [
      "Iteration: 128, named_losses: [('ActivationMax Loss', -5455.9766),\n",
      " ('L-6.0 Norm Loss', 0.00672024),\n",
      " ('TV(2.0) Loss', 1026.5085)], overall loss: -4429.4609375\n"
     ]
    },
    {
     "name": "stderr",
     "output_type": "stream",
     "text": [
      "Failed to lookup font 'FreeSans.ttf', falling back to default\n"
     ]
    },
    {
     "name": "stdout",
     "output_type": "stream",
     "text": [
      "Iteration: 129, named_losses: [('ActivationMax Loss', -5504.9536),\n",
      " ('L-6.0 Norm Loss', 0.006726215),\n",
      " ('TV(2.0) Loss', 1035.8308)], overall loss: -4469.1162109375\n"
     ]
    },
    {
     "name": "stderr",
     "output_type": "stream",
     "text": [
      "Failed to lookup font 'FreeSans.ttf', falling back to default\n"
     ]
    },
    {
     "name": "stdout",
     "output_type": "stream",
     "text": [
      "Iteration: 130, named_losses: [('ActivationMax Loss', -5546.7153),\n",
      " ('L-6.0 Norm Loss', 0.00673214),\n",
      " ('TV(2.0) Loss', 1044.1294)], overall loss: -4502.5791015625\n"
     ]
    },
    {
     "name": "stderr",
     "output_type": "stream",
     "text": [
      "Failed to lookup font 'FreeSans.ttf', falling back to default\n"
     ]
    },
    {
     "name": "stdout",
     "output_type": "stream",
     "text": [
      "Iteration: 131, named_losses: [('ActivationMax Loss', -5562.3013),\n",
      " ('L-6.0 Norm Loss', 0.0067382962),\n",
      " ('TV(2.0) Loss', 1053.5125)], overall loss: -4508.7822265625\n"
     ]
    },
    {
     "name": "stderr",
     "output_type": "stream",
     "text": [
      "Failed to lookup font 'FreeSans.ttf', falling back to default\n"
     ]
    },
    {
     "name": "stdout",
     "output_type": "stream",
     "text": [
      "Iteration: 132, named_losses: [('ActivationMax Loss', -5586.4253),\n",
      " ('L-6.0 Norm Loss', 0.006744309),\n",
      " ('TV(2.0) Loss', 1062.9906)], overall loss: -4523.427734375\n"
     ]
    },
    {
     "name": "stderr",
     "output_type": "stream",
     "text": [
      "Failed to lookup font 'FreeSans.ttf', falling back to default\n"
     ]
    },
    {
     "name": "stdout",
     "output_type": "stream",
     "text": [
      "Iteration: 133, named_losses: [('ActivationMax Loss', -5643.0405),\n",
      " ('L-6.0 Norm Loss', 0.00675089),\n",
      " ('TV(2.0) Loss', 1073.9723)], overall loss: -4569.0615234375\n"
     ]
    },
    {
     "name": "stderr",
     "output_type": "stream",
     "text": [
      "Failed to lookup font 'FreeSans.ttf', falling back to default\n"
     ]
    },
    {
     "name": "stdout",
     "output_type": "stream",
     "text": [
      "Iteration: 134, named_losses: [('ActivationMax Loss', -5648.058),\n",
      " ('L-6.0 Norm Loss', 0.006757219),\n",
      " ('TV(2.0) Loss', 1082.4692)], overall loss: -4565.58203125\n"
     ]
    },
    {
     "name": "stderr",
     "output_type": "stream",
     "text": [
      "Failed to lookup font 'FreeSans.ttf', falling back to default\n"
     ]
    },
    {
     "name": "stdout",
     "output_type": "stream",
     "text": [
      "Iteration: 135, named_losses: [('ActivationMax Loss', -5702.916),\n",
      " ('L-6.0 Norm Loss', 0.0067635737),\n",
      " ('TV(2.0) Loss', 1092.8356)], overall loss: -4610.07373046875\n"
     ]
    },
    {
     "name": "stderr",
     "output_type": "stream",
     "text": [
      "Failed to lookup font 'FreeSans.ttf', falling back to default\n"
     ]
    },
    {
     "name": "stdout",
     "output_type": "stream",
     "text": [
      "Iteration: 136, named_losses: [('ActivationMax Loss', -5745.4478),\n",
      " ('L-6.0 Norm Loss', 0.006769857),\n",
      " ('TV(2.0) Loss', 1101.4525)], overall loss: -4643.98828125\n"
     ]
    },
    {
     "name": "stderr",
     "output_type": "stream",
     "text": [
      "Failed to lookup font 'FreeSans.ttf', falling back to default\n"
     ]
    },
    {
     "name": "stdout",
     "output_type": "stream",
     "text": [
      "Iteration: 137, named_losses: [('ActivationMax Loss', -5759.646),\n",
      " ('L-6.0 Norm Loss', 0.006777187),\n",
      " ('TV(2.0) Loss', 1113.7188)], overall loss: -4645.92041015625\n"
     ]
    },
    {
     "name": "stderr",
     "output_type": "stream",
     "text": [
      "Failed to lookup font 'FreeSans.ttf', falling back to default\n"
     ]
    },
    {
     "name": "stdout",
     "output_type": "stream",
     "text": [
      "Iteration: 138, named_losses: [('ActivationMax Loss', -5782.4673),\n",
      " ('L-6.0 Norm Loss', 0.0067830314),\n",
      " ('TV(2.0) Loss', 1120.4764)], overall loss: -4661.98388671875\n"
     ]
    },
    {
     "name": "stderr",
     "output_type": "stream",
     "text": [
      "Failed to lookup font 'FreeSans.ttf', falling back to default\n"
     ]
    },
    {
     "name": "stdout",
     "output_type": "stream",
     "text": [
      "Iteration: 139, named_losses: [('ActivationMax Loss', -5819.5483),\n",
      " ('L-6.0 Norm Loss', 0.0067898114),\n",
      " ('TV(2.0) Loss', 1131.5591)], overall loss: -4687.982421875\n"
     ]
    },
    {
     "name": "stderr",
     "output_type": "stream",
     "text": [
      "Failed to lookup font 'FreeSans.ttf', falling back to default\n"
     ]
    },
    {
     "name": "stdout",
     "output_type": "stream",
     "text": [
      "Iteration: 140, named_losses: [('ActivationMax Loss', -5855.025),\n",
      " ('L-6.0 Norm Loss', 0.00679591),\n",
      " ('TV(2.0) Loss', 1140.3654)], overall loss: -4714.65283203125\n"
     ]
    },
    {
     "name": "stderr",
     "output_type": "stream",
     "text": [
      "Failed to lookup font 'FreeSans.ttf', falling back to default\n"
     ]
    },
    {
     "name": "stdout",
     "output_type": "stream",
     "text": [
      "Iteration: 141, named_losses: [('ActivationMax Loss', -5895.91),\n",
      " ('L-6.0 Norm Loss', 0.006802918),\n",
      " ('TV(2.0) Loss', 1151.1101)], overall loss: -4744.79296875\n"
     ]
    },
    {
     "name": "stderr",
     "output_type": "stream",
     "text": [
      "Failed to lookup font 'FreeSans.ttf', falling back to default\n"
     ]
    },
    {
     "name": "stdout",
     "output_type": "stream",
     "text": [
      "Iteration: 142, named_losses: [('ActivationMax Loss', -5938.994),\n",
      " ('L-6.0 Norm Loss', 0.0068089003),\n",
      " ('TV(2.0) Loss', 1159.2924)], overall loss: -4779.69482421875\n"
     ]
    },
    {
     "name": "stderr",
     "output_type": "stream",
     "text": [
      "Failed to lookup font 'FreeSans.ttf', falling back to default\n"
     ]
    },
    {
     "name": "stdout",
     "output_type": "stream",
     "text": [
      "Iteration: 143, named_losses: [('ActivationMax Loss', -5946.6323),\n",
      " ('L-6.0 Norm Loss', 0.006816195),\n",
      " ('TV(2.0) Loss', 1170.6138)], overall loss: -4776.01171875\n"
     ]
    },
    {
     "name": "stderr",
     "output_type": "stream",
     "text": [
      "Failed to lookup font 'FreeSans.ttf', falling back to default\n"
     ]
    },
    {
     "name": "stdout",
     "output_type": "stream",
     "text": [
      "Iteration: 144, named_losses: [('ActivationMax Loss', -6000.488),\n",
      " ('L-6.0 Norm Loss', 0.0068217115),\n",
      " ('TV(2.0) Loss', 1178.1132)], overall loss: -4822.36767578125\n"
     ]
    },
    {
     "name": "stderr",
     "output_type": "stream",
     "text": [
      "Failed to lookup font 'FreeSans.ttf', falling back to default\n",
      "Failed to lookup font 'FreeSans.ttf', falling back to default\n"
     ]
    },
    {
     "name": "stdout",
     "output_type": "stream",
     "text": [
      "Iteration: 145, named_losses: [('ActivationMax Loss', -6017.069),\n",
      " ('L-6.0 Norm Loss', 0.0068287775),\n",
      " ('TV(2.0) Loss', 1188.1797)], overall loss: -4828.88232421875\n",
      "Iteration: 146, named_losses: [('ActivationMax Loss', -6065.427),\n",
      " ('L-6.0 Norm Loss', 0.006835286),\n",
      " ('TV(2.0) Loss', 1199.0594)], overall loss: -4866.3603515625\n"
     ]
    },
    {
     "name": "stderr",
     "output_type": "stream",
     "text": [
      "Failed to lookup font 'FreeSans.ttf', falling back to default\n",
      "Failed to lookup font 'FreeSans.ttf', falling back to default\n"
     ]
    },
    {
     "name": "stdout",
     "output_type": "stream",
     "text": [
      "Iteration: 147, named_losses: [('ActivationMax Loss', -6068.319),\n",
      " ('L-6.0 Norm Loss', 0.006842504),\n",
      " ('TV(2.0) Loss', 1209.3177)], overall loss: -4858.994140625\n"
     ]
    },
    {
     "name": "stderr",
     "output_type": "stream",
     "text": [
      "Failed to lookup font 'FreeSans.ttf', falling back to default\n"
     ]
    },
    {
     "name": "stdout",
     "output_type": "stream",
     "text": [
      "Iteration: 148, named_losses: [('ActivationMax Loss', -6111.319),\n",
      " ('L-6.0 Norm Loss', 0.006848199),\n",
      " ('TV(2.0) Loss', 1216.7615)], overall loss: -4894.55078125\n"
     ]
    },
    {
     "name": "stderr",
     "output_type": "stream",
     "text": [
      "Failed to lookup font 'FreeSans.ttf', falling back to default\n"
     ]
    },
    {
     "name": "stdout",
     "output_type": "stream",
     "text": [
      "Iteration: 149, named_losses: [('ActivationMax Loss', -6140.263),\n",
      " ('L-6.0 Norm Loss', 0.006855293),\n",
      " ('TV(2.0) Loss', 1228.2188)], overall loss: -4912.03759765625\n",
      "Iteration: 150, named_losses: [('ActivationMax Loss', -6190.9165),\n",
      " ('L-6.0 Norm Loss', 0.0068613696),\n",
      " ('TV(2.0) Loss', 1236.7114)], overall loss: -4954.1982421875\n"
     ]
    },
    {
     "name": "stderr",
     "output_type": "stream",
     "text": [
      "Failed to lookup font 'FreeSans.ttf', falling back to default\n"
     ]
    },
    {
     "name": "stdout",
     "output_type": "stream",
     "text": [
      "Iteration: 151, named_losses: [('ActivationMax Loss', -6210.602),\n",
      " ('L-6.0 Norm Loss', 0.0068689967),\n",
      " ('TV(2.0) Loss', 1247.9071)], overall loss: -4962.68798828125\n"
     ]
    },
    {
     "name": "stderr",
     "output_type": "stream",
     "text": [
      "Failed to lookup font 'FreeSans.ttf', falling back to default\n",
      "Failed to lookup font 'FreeSans.ttf', falling back to default\n"
     ]
    },
    {
     "name": "stdout",
     "output_type": "stream",
     "text": [
      "Iteration: 152, named_losses: [('ActivationMax Loss', -6249.4883),\n",
      " ('L-6.0 Norm Loss', 0.006875618),\n",
      " ('TV(2.0) Loss', 1257.2881)], overall loss: -4992.193359375\n"
     ]
    },
    {
     "name": "stderr",
     "output_type": "stream",
     "text": [
      "Failed to lookup font 'FreeSans.ttf', falling back to default\n"
     ]
    },
    {
     "name": "stdout",
     "output_type": "stream",
     "text": [
      "Iteration: 153, named_losses: [('ActivationMax Loss', -6268.931),\n",
      " ('L-6.0 Norm Loss', 0.0068819625),\n",
      " ('TV(2.0) Loss', 1265.5437)], overall loss: -5003.380859375\n"
     ]
    },
    {
     "name": "stderr",
     "output_type": "stream",
     "text": [
      "Failed to lookup font 'FreeSans.ttf', falling back to default\n"
     ]
    },
    {
     "name": "stdout",
     "output_type": "stream",
     "text": [
      "Iteration: 154, named_losses: [('ActivationMax Loss', -6296.793),\n",
      " ('L-6.0 Norm Loss', 0.006888387),\n",
      " ('TV(2.0) Loss', 1275.6443)], overall loss: -5021.1416015625\n"
     ]
    },
    {
     "name": "stderr",
     "output_type": "stream",
     "text": [
      "Failed to lookup font 'FreeSans.ttf', falling back to default\n"
     ]
    },
    {
     "name": "stdout",
     "output_type": "stream",
     "text": [
      "Iteration: 155, named_losses: [('ActivationMax Loss', -6333.2134),\n",
      " ('L-6.0 Norm Loss', 0.0068952614),\n",
      " ('TV(2.0) Loss', 1285.177)], overall loss: -5048.029296875\n"
     ]
    },
    {
     "name": "stderr",
     "output_type": "stream",
     "text": [
      "Failed to lookup font 'FreeSans.ttf', falling back to default\n"
     ]
    },
    {
     "name": "stdout",
     "output_type": "stream",
     "text": [
      "Iteration: 156, named_losses: [('ActivationMax Loss', -6374.878),\n",
      " ('L-6.0 Norm Loss', 0.0069026435),\n",
      " ('TV(2.0) Loss', 1295.9939)], overall loss: -5078.876953125\n"
     ]
    },
    {
     "name": "stderr",
     "output_type": "stream",
     "text": [
      "Failed to lookup font 'FreeSans.ttf', falling back to default\n"
     ]
    },
    {
     "name": "stdout",
     "output_type": "stream",
     "text": [
      "Iteration: 157, named_losses: [('ActivationMax Loss', -6416.4194),\n",
      " ('L-6.0 Norm Loss', 0.0069098794),\n",
      " ('TV(2.0) Loss', 1305.2274)], overall loss: -5111.18505859375\n"
     ]
    },
    {
     "name": "stderr",
     "output_type": "stream",
     "text": [
      "Failed to lookup font 'FreeSans.ttf', falling back to default\n"
     ]
    },
    {
     "name": "stdout",
     "output_type": "stream",
     "text": [
      "Iteration: 158, named_losses: [('ActivationMax Loss', -6431.311),\n",
      " ('L-6.0 Norm Loss', 0.006916976),\n",
      " ('TV(2.0) Loss', 1315.8142)], overall loss: -5115.490234375\n",
      "Iteration: 159, named_losses: [('ActivationMax Loss', -6466.1997),\n",
      " ('L-6.0 Norm Loss', 0.006923103),\n",
      " ('TV(2.0) Loss', 1323.8417)], overall loss: -5142.35107421875\n"
     ]
    },
    {
     "name": "stderr",
     "output_type": "stream",
     "text": [
      "Failed to lookup font 'FreeSans.ttf', falling back to default\n"
     ]
    },
    {
     "name": "stdout",
     "output_type": "stream",
     "text": [
      "Iteration: 160, named_losses: [('ActivationMax Loss', -6476.9604),\n",
      " ('L-6.0 Norm Loss', 0.0069306893),\n",
      " ('TV(2.0) Loss', 1335.0685)], overall loss: -5141.88525390625\n"
     ]
    },
    {
     "name": "stderr",
     "output_type": "stream",
     "text": [
      "Failed to lookup font 'FreeSans.ttf', falling back to default\n"
     ]
    },
    {
     "name": "stdout",
     "output_type": "stream",
     "text": [
      "Iteration: 161, named_losses: [('ActivationMax Loss', -6544.0366),\n",
      " ('L-6.0 Norm Loss', 0.0069376887),\n",
      " ('TV(2.0) Loss', 1344.9934)], overall loss: -5199.0361328125\n"
     ]
    },
    {
     "name": "stderr",
     "output_type": "stream",
     "text": [
      "Failed to lookup font 'FreeSans.ttf', falling back to default\n"
     ]
    },
    {
     "name": "stdout",
     "output_type": "stream",
     "text": [
      "Iteration: 162, named_losses: [('ActivationMax Loss', -6546.324),\n",
      " ('L-6.0 Norm Loss', 0.006945197),\n",
      " ('TV(2.0) Loss', 1355.3026)], overall loss: -5191.0146484375\n"
     ]
    },
    {
     "name": "stderr",
     "output_type": "stream",
     "text": [
      "Failed to lookup font 'FreeSans.ttf', falling back to default\n"
     ]
    },
    {
     "name": "stdout",
     "output_type": "stream",
     "text": [
      "Iteration: 163, named_losses: [('ActivationMax Loss', -6604.6885),\n",
      " ('L-6.0 Norm Loss', 0.0069523803),\n",
      " ('TV(2.0) Loss', 1364.4998)], overall loss: -5240.181640625\n"
     ]
    },
    {
     "name": "stderr",
     "output_type": "stream",
     "text": [
      "Failed to lookup font 'FreeSans.ttf', falling back to default\n"
     ]
    },
    {
     "name": "stdout",
     "output_type": "stream",
     "text": [
      "Iteration: 164, named_losses: [('ActivationMax Loss', -6621.8276),\n",
      " ('L-6.0 Norm Loss', 0.0069592316),\n",
      " ('TV(2.0) Loss', 1375.1962)], overall loss: -5246.62451171875\n"
     ]
    },
    {
     "name": "stderr",
     "output_type": "stream",
     "text": [
      "Failed to lookup font 'FreeSans.ttf', falling back to default\n"
     ]
    },
    {
     "name": "stdout",
     "output_type": "stream",
     "text": [
      "Iteration: 165, named_losses: [('ActivationMax Loss', -6638.8086),\n",
      " ('L-6.0 Norm Loss', 0.0069653247),\n",
      " ('TV(2.0) Loss', 1383.2523)], overall loss: -5255.54931640625\n"
     ]
    },
    {
     "name": "stderr",
     "output_type": "stream",
     "text": [
      "Failed to lookup font 'FreeSans.ttf', falling back to default\n"
     ]
    },
    {
     "name": "stdout",
     "output_type": "stream",
     "text": [
      "Iteration: 166, named_losses: [('ActivationMax Loss', -6671.6064),\n",
      " ('L-6.0 Norm Loss', 0.006971549),\n",
      " ('TV(2.0) Loss', 1393.4622)], overall loss: -5278.1376953125\n"
     ]
    },
    {
     "name": "stderr",
     "output_type": "stream",
     "text": [
      "Failed to lookup font 'FreeSans.ttf', falling back to default\n"
     ]
    },
    {
     "name": "stdout",
     "output_type": "stream",
     "text": [
      "Iteration: 167, named_losses: [('ActivationMax Loss', -6688.517),\n",
      " ('L-6.0 Norm Loss', 0.0069789),\n",
      " ('TV(2.0) Loss', 1402.3197)], overall loss: -5286.1904296875\n"
     ]
    },
    {
     "name": "stderr",
     "output_type": "stream",
     "text": [
      "Failed to lookup font 'FreeSans.ttf', falling back to default\n"
     ]
    },
    {
     "name": "stdout",
     "output_type": "stream",
     "text": [
      "Iteration: 168, named_losses: [('ActivationMax Loss', -6741.1577),\n",
      " ('L-6.0 Norm Loss', 0.0069862255),\n",
      " ('TV(2.0) Loss', 1412.8612)], overall loss: -5328.28955078125\n"
     ]
    },
    {
     "name": "stderr",
     "output_type": "stream",
     "text": [
      "Failed to lookup font 'FreeSans.ttf', falling back to default\n"
     ]
    },
    {
     "name": "stdout",
     "output_type": "stream",
     "text": [
      "Iteration: 169, named_losses: [('ActivationMax Loss', -6759.736),\n",
      " ('L-6.0 Norm Loss', 0.0069936),\n",
      " ('TV(2.0) Loss', 1422.9828)], overall loss: -5336.74609375\n"
     ]
    },
    {
     "name": "stderr",
     "output_type": "stream",
     "text": [
      "Failed to lookup font 'FreeSans.ttf', falling back to default\n"
     ]
    },
    {
     "name": "stdout",
     "output_type": "stream",
     "text": [
      "Iteration: 170, named_losses: [('ActivationMax Loss', -6793.814),\n",
      " ('L-6.0 Norm Loss', 0.0070003765),\n",
      " ('TV(2.0) Loss', 1431.6737)], overall loss: -5362.13330078125\n"
     ]
    },
    {
     "name": "stderr",
     "output_type": "stream",
     "text": [
      "Failed to lookup font 'FreeSans.ttf', falling back to default\n"
     ]
    },
    {
     "name": "stdout",
     "output_type": "stream",
     "text": [
      "Iteration: 171, named_losses: [('ActivationMax Loss', -6824.9243),\n",
      " ('L-6.0 Norm Loss', 0.0070083397),\n",
      " ('TV(2.0) Loss', 1443.4525)], overall loss: -5381.46484375\n"
     ]
    },
    {
     "name": "stderr",
     "output_type": "stream",
     "text": [
      "Failed to lookup font 'FreeSans.ttf', falling back to default\n"
     ]
    },
    {
     "name": "stdout",
     "output_type": "stream",
     "text": [
      "Iteration: 172, named_losses: [('ActivationMax Loss', -6856.526),\n",
      " ('L-6.0 Norm Loss', 0.0070149703),\n",
      " ('TV(2.0) Loss', 1451.9956)], overall loss: -5404.5234375\n"
     ]
    },
    {
     "name": "stderr",
     "output_type": "stream",
     "text": [
      "Failed to lookup font 'FreeSans.ttf', falling back to default\n"
     ]
    },
    {
     "name": "stdout",
     "output_type": "stream",
     "text": [
      "Iteration: 173, named_losses: [('ActivationMax Loss', -6896.0933),\n",
      " ('L-6.0 Norm Loss', 0.007021644),\n",
      " ('TV(2.0) Loss', 1460.0302)], overall loss: -5436.05615234375\n"
     ]
    },
    {
     "name": "stderr",
     "output_type": "stream",
     "text": [
      "Failed to lookup font 'FreeSans.ttf', falling back to default\n"
     ]
    },
    {
     "name": "stdout",
     "output_type": "stream",
     "text": [
      "Iteration: 174, named_losses: [('ActivationMax Loss', -6914.7744),\n",
      " ('L-6.0 Norm Loss', 0.0070297285),\n",
      " ('TV(2.0) Loss', 1472.499)], overall loss: -5442.2685546875\n"
     ]
    },
    {
     "name": "stderr",
     "output_type": "stream",
     "text": [
      "Failed to lookup font 'FreeSans.ttf', falling back to default\n"
     ]
    },
    {
     "name": "stdout",
     "output_type": "stream",
     "text": [
      "Iteration: 175, named_losses: [('ActivationMax Loss', -6951.4634),\n",
      " ('L-6.0 Norm Loss', 0.0070369714),\n",
      " ('TV(2.0) Loss', 1481.1284)], overall loss: -5470.328125\n"
     ]
    },
    {
     "name": "stderr",
     "output_type": "stream",
     "text": [
      "Failed to lookup font 'FreeSans.ttf', falling back to default\n"
     ]
    },
    {
     "name": "stdout",
     "output_type": "stream",
     "text": [
      "Iteration: 176, named_losses: [('ActivationMax Loss', -6975.7554),\n",
      " ('L-6.0 Norm Loss', 0.0070447857),\n",
      " ('TV(2.0) Loss', 1491.6506)], overall loss: -5484.09765625\n"
     ]
    },
    {
     "name": "stderr",
     "output_type": "stream",
     "text": [
      "Failed to lookup font 'FreeSans.ttf', falling back to default\n"
     ]
    },
    {
     "name": "stdout",
     "output_type": "stream",
     "text": [
      "Iteration: 177, named_losses: [('ActivationMax Loss', -6999.2983),\n",
      " ('L-6.0 Norm Loss', 0.0070516965),\n",
      " ('TV(2.0) Loss', 1501.1838)], overall loss: -5498.107421875\n"
     ]
    },
    {
     "name": "stderr",
     "output_type": "stream",
     "text": [
      "Failed to lookup font 'FreeSans.ttf', falling back to default\n"
     ]
    },
    {
     "name": "stdout",
     "output_type": "stream",
     "text": [
      "Iteration: 178, named_losses: [('ActivationMax Loss', -7016.871),\n",
      " ('L-6.0 Norm Loss', 0.007058746),\n",
      " ('TV(2.0) Loss', 1510.578)], overall loss: -5506.2861328125\n"
     ]
    },
    {
     "name": "stderr",
     "output_type": "stream",
     "text": [
      "Failed to lookup font 'FreeSans.ttf', falling back to default\n"
     ]
    },
    {
     "name": "stdout",
     "output_type": "stream",
     "text": [
      "Iteration: 179, named_losses: [('ActivationMax Loss', -7029.9517),\n",
      " ('L-6.0 Norm Loss', 0.0070663397),\n",
      " ('TV(2.0) Loss', 1520.1625)], overall loss: -5509.7822265625\n"
     ]
    },
    {
     "name": "stderr",
     "output_type": "stream",
     "text": [
      "Failed to lookup font 'FreeSans.ttf', falling back to default\n"
     ]
    },
    {
     "name": "stdout",
     "output_type": "stream",
     "text": [
      "Iteration: 180, named_losses: [('ActivationMax Loss', -7081.832),\n",
      " ('L-6.0 Norm Loss', 0.0070738676),\n",
      " ('TV(2.0) Loss', 1530.0712)], overall loss: -5551.75390625\n"
     ]
    },
    {
     "name": "stderr",
     "output_type": "stream",
     "text": [
      "Failed to lookup font 'FreeSans.ttf', falling back to default\n"
     ]
    },
    {
     "name": "stdout",
     "output_type": "stream",
     "text": [
      "Iteration: 181, named_losses: [('ActivationMax Loss', -7087.814),\n",
      " ('L-6.0 Norm Loss', 0.0070808954),\n",
      " ('TV(2.0) Loss', 1539.6178)], overall loss: -5548.18896484375\n"
     ]
    },
    {
     "name": "stderr",
     "output_type": "stream",
     "text": [
      "Failed to lookup font 'FreeSans.ttf', falling back to default\n"
     ]
    },
    {
     "name": "stdout",
     "output_type": "stream",
     "text": [
      "Iteration: 182, named_losses: [('ActivationMax Loss', -7133.5386),\n",
      " ('L-6.0 Norm Loss', 0.0070875008),\n",
      " ('TV(2.0) Loss', 1548.2744)], overall loss: -5585.2568359375\n"
     ]
    },
    {
     "name": "stderr",
     "output_type": "stream",
     "text": [
      "Failed to lookup font 'FreeSans.ttf', falling back to default\n"
     ]
    },
    {
     "name": "stdout",
     "output_type": "stream",
     "text": [
      "Iteration: 183, named_losses: [('ActivationMax Loss', -7144.5854),\n",
      " ('L-6.0 Norm Loss', 0.0070948056),\n",
      " ('TV(2.0) Loss', 1558.2092)], overall loss: -5586.369140625\n"
     ]
    },
    {
     "name": "stderr",
     "output_type": "stream",
     "text": [
      "Failed to lookup font 'FreeSans.ttf', falling back to default\n"
     ]
    },
    {
     "name": "stdout",
     "output_type": "stream",
     "text": [
      "Iteration: 184, named_losses: [('ActivationMax Loss', -7193.9175),\n",
      " ('L-6.0 Norm Loss', 0.007102166),\n",
      " ('TV(2.0) Loss', 1567.0496)], overall loss: -5626.8603515625\n"
     ]
    },
    {
     "name": "stderr",
     "output_type": "stream",
     "text": [
      "Failed to lookup font 'FreeSans.ttf', falling back to default\n"
     ]
    },
    {
     "name": "stdout",
     "output_type": "stream",
     "text": [
      "Iteration: 185, named_losses: [('ActivationMax Loss', -7211.59),\n",
      " ('L-6.0 Norm Loss', 0.0071099508),\n",
      " ('TV(2.0) Loss', 1577.9393)], overall loss: -5633.64306640625\n"
     ]
    },
    {
     "name": "stderr",
     "output_type": "stream",
     "text": [
      "Failed to lookup font 'FreeSans.ttf', falling back to default\n"
     ]
    },
    {
     "name": "stdout",
     "output_type": "stream",
     "text": [
      "Iteration: 186, named_losses: [('ActivationMax Loss', -7230.298),\n",
      " ('L-6.0 Norm Loss', 0.007117766),\n",
      " ('TV(2.0) Loss', 1587.3702)], overall loss: -5642.92041015625\n"
     ]
    },
    {
     "name": "stderr",
     "output_type": "stream",
     "text": [
      "Failed to lookup font 'FreeSans.ttf', falling back to default\n"
     ]
    },
    {
     "name": "stdout",
     "output_type": "stream",
     "text": [
      "Iteration: 187, named_losses: [('ActivationMax Loss', -7277.689),\n",
      " ('L-6.0 Norm Loss', 0.0071246056),\n",
      " ('TV(2.0) Loss', 1596.0228)], overall loss: -5681.65869140625\n"
     ]
    },
    {
     "name": "stderr",
     "output_type": "stream",
     "text": [
      "Failed to lookup font 'FreeSans.ttf', falling back to default\n"
     ]
    },
    {
     "name": "stdout",
     "output_type": "stream",
     "text": [
      "Iteration: 188, named_losses: [('ActivationMax Loss', -7303.2593),\n",
      " ('L-6.0 Norm Loss', 0.0071318564),\n",
      " ('TV(2.0) Loss', 1604.7109)], overall loss: -5698.541015625\n"
     ]
    },
    {
     "name": "stderr",
     "output_type": "stream",
     "text": [
      "Failed to lookup font 'FreeSans.ttf', falling back to default\n"
     ]
    },
    {
     "name": "stdout",
     "output_type": "stream",
     "text": [
      "Iteration: 189, named_losses: [('ActivationMax Loss', -7334.7456),\n",
      " ('L-6.0 Norm Loss', 0.0071398043),\n",
      " ('TV(2.0) Loss', 1614.6388)], overall loss: -5720.099609375\n"
     ]
    },
    {
     "name": "stderr",
     "output_type": "stream",
     "text": [
      "Failed to lookup font 'FreeSans.ttf', falling back to default\n"
     ]
    },
    {
     "name": "stdout",
     "output_type": "stream",
     "text": [
      "Iteration: 190, named_losses: [('ActivationMax Loss', -7354.433),\n",
      " ('L-6.0 Norm Loss', 0.0071468563),\n",
      " ('TV(2.0) Loss', 1625.1737)], overall loss: -5729.251953125\n"
     ]
    },
    {
     "name": "stderr",
     "output_type": "stream",
     "text": [
      "Failed to lookup font 'FreeSans.ttf', falling back to default\n"
     ]
    },
    {
     "name": "stdout",
     "output_type": "stream",
     "text": [
      "Iteration: 191, named_losses: [('ActivationMax Loss', -7376.5347),\n",
      " ('L-6.0 Norm Loss', 0.0071546324),\n",
      " ('TV(2.0) Loss', 1635.6096)], overall loss: -5740.91796875\n"
     ]
    },
    {
     "name": "stderr",
     "output_type": "stream",
     "text": [
      "Failed to lookup font 'FreeSans.ttf', falling back to default\n"
     ]
    },
    {
     "name": "stdout",
     "output_type": "stream",
     "text": [
      "Iteration: 192, named_losses: [('ActivationMax Loss', -7404.676),\n",
      " ('L-6.0 Norm Loss', 0.0071622343),\n",
      " ('TV(2.0) Loss', 1643.659)], overall loss: -5761.00927734375\n"
     ]
    },
    {
     "name": "stderr",
     "output_type": "stream",
     "text": [
      "Failed to lookup font 'FreeSans.ttf', falling back to default\n",
      "Failed to lookup font 'FreeSans.ttf', falling back to default\n"
     ]
    },
    {
     "name": "stdout",
     "output_type": "stream",
     "text": [
      "Iteration: 193, named_losses: [('ActivationMax Loss', -7428.112),\n",
      " ('L-6.0 Norm Loss', 0.007169144),\n",
      " ('TV(2.0) Loss', 1652.9137)], overall loss: -5775.19091796875\n",
      "Iteration: 194, named_losses: [('ActivationMax Loss', -7470.28),\n",
      " ('L-6.0 Norm Loss', 0.0071768663),\n",
      " ('TV(2.0) Loss', 1662.2441)], overall loss: -5808.0283203125\n"
     ]
    },
    {
     "name": "stderr",
     "output_type": "stream",
     "text": [
      "Failed to lookup font 'FreeSans.ttf', falling back to default\n",
      "Failed to lookup font 'FreeSans.ttf', falling back to default\n"
     ]
    },
    {
     "name": "stdout",
     "output_type": "stream",
     "text": [
      "Iteration: 195, named_losses: [('ActivationMax Loss', -7495.7134),\n",
      " ('L-6.0 Norm Loss', 0.007185434),\n",
      " ('TV(2.0) Loss', 1673.2831)], overall loss: -5822.4228515625\n"
     ]
    },
    {
     "name": "stderr",
     "output_type": "stream",
     "text": [
      "Failed to lookup font 'FreeSans.ttf', falling back to default\n"
     ]
    },
    {
     "name": "stdout",
     "output_type": "stream",
     "text": [
      "Iteration: 196, named_losses: [('ActivationMax Loss', -7516.825),\n",
      " ('L-6.0 Norm Loss', 0.0071932334),\n",
      " ('TV(2.0) Loss', 1683.3348)], overall loss: -5833.48291015625\n"
     ]
    },
    {
     "name": "stderr",
     "output_type": "stream",
     "text": [
      "Failed to lookup font 'FreeSans.ttf', falling back to default\n"
     ]
    },
    {
     "name": "stdout",
     "output_type": "stream",
     "text": [
      "Iteration: 197, named_losses: [('ActivationMax Loss', -7537.9937),\n",
      " ('L-6.0 Norm Loss', 0.007201145),\n",
      " ('TV(2.0) Loss', 1692.7661)], overall loss: -5845.22021484375\n"
     ]
    },
    {
     "name": "stderr",
     "output_type": "stream",
     "text": [
      "Failed to lookup font 'FreeSans.ttf', falling back to default\n"
     ]
    },
    {
     "name": "stdout",
     "output_type": "stream",
     "text": [
      "Iteration: 198, named_losses: [('ActivationMax Loss', -7557.7476),\n",
      " ('L-6.0 Norm Loss', 0.007208175),\n",
      " ('TV(2.0) Loss', 1702.343)], overall loss: -5855.3974609375\n",
      "Iteration: 199, named_losses: [('ActivationMax Loss', -7590.3726),\n",
      " ('L-6.0 Norm Loss', 0.007216091),\n",
      " ('TV(2.0) Loss', 1709.9591)], overall loss: -5880.40625\n"
     ]
    },
    {
     "name": "stderr",
     "output_type": "stream",
     "text": [
      "Failed to lookup font 'FreeSans.ttf', falling back to default\n"
     ]
    },
    {
     "name": "stdout",
     "output_type": "stream",
     "text": [
      "Iteration: 200, named_losses: [('ActivationMax Loss', -7610.2827),\n",
      " ('L-6.0 Norm Loss', 0.007223477),\n",
      " ('TV(2.0) Loss', 1720.7898)], overall loss: -5889.4853515625\n"
     ]
    },
    {
     "data": {
      "text/plain": [
       "(array([[[125.25906313, 126.27951772, 127.5900644 ],\n",
       "         [124.99588219, 126.2136021 , 127.00674622],\n",
       "         [124.2263754 , 125.85021899, 126.1236729 ],\n",
       "         ...,\n",
       "         [126.44180107, 125.29748237, 126.69603094],\n",
       "         [127.3680857 , 125.66116416, 127.68811881],\n",
       "         [128.38597622, 125.55750297, 127.57646992]],\n",
       " \n",
       "        [[126.17263936, 126.74138241, 128.2874702 ],\n",
       "         [125.93491311, 126.75391552, 127.66734076],\n",
       "         [125.2875279 , 126.3904552 , 126.79165126],\n",
       "         ...,\n",
       "         [125.77085852, 125.09172608, 125.40276767],\n",
       "         [125.11189152, 124.46218471, 125.24829661],\n",
       "         [124.66045461, 123.96864934, 125.48147424]],\n",
       " \n",
       "        [[127.53025071, 127.30299921, 129.45049365],\n",
       "         [126.89968116, 127.13021649, 128.53877624],\n",
       "         [125.6828041 , 126.36861035, 126.98922565],\n",
       "         ...,\n",
       "         [125.58993396, 124.70850091, 123.30992076],\n",
       "         [124.59258531, 123.40353436, 121.46206188],\n",
       "         [125.08834697, 122.93693555, 119.29610786]],\n",
       " \n",
       "        ...,\n",
       " \n",
       "        [[125.40621922, 124.42328277, 125.32152185],\n",
       "         [120.14685979, 122.3471982 , 125.64324242],\n",
       "         [111.80020241, 118.41718154, 124.48409435],\n",
       "         ...,\n",
       "         [124.64275563, 126.78334361, 122.36215141],\n",
       "         [124.04631537, 126.8179284 , 122.14484582],\n",
       "         [123.80823457, 127.1074468 , 122.90363534]],\n",
       " \n",
       "        [[121.83341691, 120.73279556, 124.61559715],\n",
       "         [118.01690647, 117.38756223, 123.41039446],\n",
       "         [113.39839957, 114.87823459, 123.26362986],\n",
       "         ...,\n",
       "         [124.32487009, 127.01214549, 122.97301934],\n",
       "         [124.14932551, 127.11053767, 123.59954679],\n",
       "         [124.22510767, 127.46330528, 125.11772998]],\n",
       " \n",
       "        [[124.70824314, 120.27704978, 124.25444431],\n",
       "         [119.28293132, 120.05320949, 124.40108595],\n",
       "         [109.38438763, 116.02450277, 131.33826606],\n",
       "         ...,\n",
       "         [124.67350645, 126.86860617, 123.67135073],\n",
       "         [123.94073971, 126.18795917, 124.82783405],\n",
       "         [132.80826142, 111.24603928, 118.64000972]]]),\n",
       " array([[[[ 5.5362547e-05,  1.3096958e-05,  4.7666574e-05],\n",
       "          [ 2.4228833e-05,  1.3290064e-05,  3.0709161e-05],\n",
       "          [ 3.7993050e-05,  2.2766517e-05,  2.0574185e-05],\n",
       "          ...,\n",
       "          [ 6.4125070e-06, -3.8012606e-06, -1.5967782e-05],\n",
       "          [-3.0830206e-06, -1.2839046e-05, -3.2136035e-05],\n",
       "          [-6.6254097e-06, -1.0075669e-05, -1.4386468e-05]],\n",
       " \n",
       "         [[ 1.5156398e-05,  4.5321735e-07,  1.5415386e-05],\n",
       "          [-3.5488767e-05, -2.6933400e-05, -7.1420254e-06],\n",
       "          [-7.3735566e-05, -5.7803136e-05, -3.5937916e-05],\n",
       "          ...,\n",
       "          [ 2.4596740e-05,  1.8934117e-05,  8.7113119e-07],\n",
       "          [ 3.2110638e-05,  1.4224050e-05, -5.0255640e-06],\n",
       "          [ 2.1154108e-05,  8.2011002e-06, -4.0656255e-06]],\n",
       " \n",
       "         [[-8.0047939e-05, -3.0191548e-05, -7.8094548e-05],\n",
       "          [-7.6031189e-05, -4.1397270e-05, -9.2222661e-05],\n",
       "          [-4.8752139e-05,  1.8893743e-05,  3.9656592e-05],\n",
       "          ...,\n",
       "          [ 1.3955787e-06, -3.9742110e-07,  1.6190785e-05],\n",
       "          [ 2.9432360e-05,  1.5915013e-05,  2.8682045e-05],\n",
       "          [ 4.2975985e-06,  3.0453823e-06,  1.7783568e-05]],\n",
       " \n",
       "         ...,\n",
       " \n",
       "         [[ 1.2709945e-04,  1.3080997e-04,  6.7554138e-05],\n",
       "          [ 1.7981046e-04,  4.0910887e-05,  1.0033976e-04],\n",
       "          [ 6.4432540e-04,  1.0725853e-03,  6.1756879e-04],\n",
       "          ...,\n",
       "          [-2.3507588e-05, -2.8396635e-05, -1.1810374e-05],\n",
       "          [-4.5091820e-05, -3.7472346e-05, -2.0637925e-05],\n",
       "          [-1.4483145e-05, -3.8484923e-06,  1.9257075e-06]],\n",
       " \n",
       "         [[-1.1734317e-04, -1.4567806e-04,  1.9155903e-04],\n",
       "          [-1.9736345e-04, -3.2118364e-04,  2.8715791e-05],\n",
       "          [-9.7115641e-04, -4.3088684e-04,  7.1030780e-04],\n",
       "          ...,\n",
       "          [-1.5273750e-05,  1.2601809e-05, -2.9731458e-05],\n",
       "          [ 6.5993759e-06,  1.7649068e-05,  5.9095705e-06],\n",
       "          [ 8.5285601e-06, -2.0285636e-06,  1.3696563e-05]],\n",
       " \n",
       "         [[-1.1650878e-04, -1.5261667e-04,  2.6058166e-05],\n",
       "          [-2.2514924e-04, -2.1259199e-04, -1.1475515e-04],\n",
       "          [ 1.4603310e-04, -1.5754679e-04,  9.8697572e-05],\n",
       "          ...,\n",
       "          [ 2.1676193e-05,  1.6830746e-06,  1.2277348e-05],\n",
       "          [-3.5474523e-06, -7.7633167e-06,  1.8754158e-06],\n",
       "          [-1.2363869e-05, -5.7790303e-06, -4.2746933e-06]]]],\n",
       "       dtype=float32),\n",
       " array([[[[127.23816 , 128.3329  , 130.01915 ],\n",
       "          [126.823204, 128.25418 , 129.26376 ],\n",
       "          [125.93976 , 127.84656 , 128.16856 ],\n",
       "          ...,\n",
       "          [128.50703 , 127.09763 , 128.74263 ],\n",
       "          [129.5919  , 127.507065, 129.88876 ],\n",
       "          [130.8057  , 127.39078 , 129.80705 ]],\n",
       " \n",
       "         [[128.21071 , 128.84879 , 130.75676 ],\n",
       "          [127.76465 , 128.77733 , 129.93915 ],\n",
       "          [126.86886 , 128.24477 , 128.79471 ],\n",
       "          ...,\n",
       "          [127.75643 , 126.92138 , 127.23909 ],\n",
       "          [126.98568 , 126.14913 , 127.03461 ],\n",
       "          [126.409424, 125.53627 , 127.318214]],\n",
       " \n",
       "         [[129.54637 , 129.42805 , 131.8648  ],\n",
       "          [128.80048 , 129.18504 , 130.7218  ],\n",
       "          [127.4269  , 128.457   , 129.26476 ],\n",
       "          ...,\n",
       "          [127.465996, 126.39955 , 124.7677  ],\n",
       "          [126.35045 , 124.877846, 122.57941 ],\n",
       "          [126.8715  , 124.27827 , 119.941895]],\n",
       " \n",
       "         ...,\n",
       " \n",
       "         [[127.626205, 126.46019 , 127.3486  ],\n",
       "          [121.4656  , 123.68755 , 127.84111 ],\n",
       "          [112.349434, 120.85717 , 127.60191 ],\n",
       "          ...,\n",
       "          [126.24759 , 128.80817 , 123.539665],\n",
       "          [125.46218 , 128.82137 , 123.25034 ],\n",
       "          [125.27158 , 129.27574 , 124.23474 ]],\n",
       " \n",
       "         [[122.575005, 121.16124 , 126.87195 ],\n",
       "          [117.745926, 116.66225 , 124.921875],\n",
       "          [111.01452 , 113.473305, 126.448616],\n",
       "          ...,\n",
       "          [125.89089 , 129.21277 , 124.2189  ],\n",
       "          [125.74858 , 129.34685 , 125.08481 ],\n",
       "          [125.84599 , 129.70978 , 126.93657 ]],\n",
       " \n",
       "         [[126.038216, 120.59558 , 125.9362  ],\n",
       "          [119.180756, 120.142494, 125.67158 ],\n",
       "          [108.38866 , 115.48087 , 134.67862 ],\n",
       "          ...,\n",
       "          [126.42718 , 129.00578 , 125.191414],\n",
       "          [125.46559 , 128.15678 , 126.55034 ],\n",
       "          [136.10971 , 110.180565, 119.0839  ]]]], dtype=float32))"
      ]
     },
     "execution_count": 21,
     "metadata": {},
     "output_type": "execute_result"
    }
   ],
   "source": [
    "from src.vis.losses import ActivationMaximization\n",
    "from src.vis.regularizers import TotalVariation, LPNorm\n",
    "import imageio\n",
    "from src.vis.optimizer import Optimizer\n",
    "from src.vis.callbacks import GifGenerator\n",
    "\n",
    "\n",
    "# Build the VGG16 network with ImageNet weights\n",
    "print('Model loaded.')\n",
    "\n",
    "# The name of the layer we want to visualize\n",
    "# (see model definition in vggnet.py)\n",
    "#layer_name = 'Convolution2D_130'\n",
    "#layer_name = 'Flatten_5'\n",
    "layer_name = 'Dense_14'\n",
    "layer_dict = dict([(layer.name, layer) for layer in model.layers[1:]])\n",
    "output_class = [4]\n",
    "\n",
    "losses = [\n",
    "    (ActivationMaximization(layer_dict[layer_name], output_class), 0.1),\n",
    "    (LPNorm(model.input), 1),\n",
    "    (TotalVariation(model.input), 1)\n",
    "]\n",
    "opt = Optimizer(model.input, losses)\n",
    "opt.minimize(max_iter=200, verbose=True, callbacks=[GifGenerator('opt_progress')])"
   ]
  }
 ],
 "metadata": {
  "kernelspec": {
   "display_name": "Python 3",
   "language": "python",
   "name": "python3"
  },
  "language_info": {
   "codemirror_mode": {
    "name": "ipython",
    "version": 3
   },
   "file_extension": ".py",
   "mimetype": "text/x-python",
   "name": "python",
   "nbconvert_exporter": "python",
   "pygments_lexer": "ipython3",
   "version": "3.6.6"
  }
 },
 "nbformat": 4,
 "nbformat_minor": 2
}
